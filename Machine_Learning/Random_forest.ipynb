{
 "metadata": {
  "language_info": {
   "codemirror_mode": {
    "name": "ipython",
    "version": 3
   },
   "file_extension": ".py",
   "mimetype": "text/x-python",
   "name": "python",
   "nbconvert_exporter": "python",
   "pygments_lexer": "ipython3",
   "version": "3.8.5-final"
  },
  "orig_nbformat": 2,
  "kernelspec": {
   "name": "python3",
   "display_name": "Python 3",
   "language": "python"
  }
 },
 "nbformat": 4,
 "nbformat_minor": 2,
 "cells": [
  {
   "cell_type": "code",
   "execution_count": 1,
   "metadata": {},
   "outputs": [],
   "source": [
    "from sklearn import tree\n",
    "from sklearn.ensemble import RandomForestClassifier\n",
    "import pandas as pd \n",
    "import numpy as np\n",
    "\n",
    "df = pd.read_csv(\"../../Tascas/Data/DelayedFlights.csv\")\n",
    "df = df.dropna(subset=[\"ArrDelay\"])\n",
    "df = df.sample(frac=1) # mezclamos\n",
    "dftest = df.tail(500000)\n",
    "df = df.head(500000)"
   ]
  },
  {
   "cell_type": "code",
   "execution_count": 2,
   "metadata": {},
   "outputs": [
    {
     "output_type": "execute_result",
     "data": {
      "text/plain": [
       "0.844746"
      ]
     },
     "metadata": {},
     "execution_count": 2
    }
   ],
   "source": [
    "clf = tree.DecisionTreeClassifier()\n",
    "\n",
    "X = df[[\"Distance\",\"AirTime\",'DepTime','TaxiIn','TaxiOut','DepDelay']]\n",
    "X_test = dftest[[\"Distance\",\"AirTime\",'DepTime','TaxiIn','TaxiOut','DepDelay']]\n",
    "Y = df[\"ArrDelay\"] > 10\n",
    "Y_test = dftest[\"ArrDelay\"] > 10\n",
    "\n",
    "# Entrenamos el modelo\n",
    "clf = clf.fit(X, Y)\n",
    "Y_pred_test = clf.predict(X_test)\n",
    "\n",
    "np.mean(Y_test == Y_pred_test)"
   ]
  },
  {
   "cell_type": "code",
   "execution_count": 3,
   "metadata": {},
   "outputs": [
    {
     "output_type": "execute_result",
     "data": {
      "text/plain": [
       "array([0.131734  , 0.11390053, 0.11220059, 0.05742133, 0.12053151,\n",
       "       0.46421204])"
      ]
     },
     "metadata": {},
     "execution_count": 3
    }
   ],
   "source": [
    "clf = RandomForestClassifier(n_estimators= 100, n_jobs= -1) #genere 100 arboles y todos los nucleos\n",
    "clf.fit(X, Y)\n",
    "Y_pred_test = clf.predict(X_test)\n",
    "\n",
    "clf.feature_importances_\n",
    "# n_estimators / max_features / bootstrap / n_jobs"
   ]
  },
  {
   "cell_type": "code",
   "execution_count": 4,
   "metadata": {},
   "outputs": [
    {
     "output_type": "execute_result",
     "data": {
      "text/plain": [
       "0.884654"
      ]
     },
     "metadata": {},
     "execution_count": 4
    }
   ],
   "source": [
    "np.mean(Y_test == Y_pred_test) #mejora un 4% el modelo de prediccion"
   ]
  },
  {
   "cell_type": "code",
   "execution_count": null,
   "metadata": {},
   "outputs": [],
   "source": [
    "# RandomForestRegressor()"
   ]
  }
 ]
}