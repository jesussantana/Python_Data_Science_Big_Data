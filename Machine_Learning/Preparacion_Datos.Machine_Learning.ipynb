{
 "metadata": {
  "language_info": {
   "codemirror_mode": {
    "name": "ipython",
    "version": 3
   },
   "file_extension": ".py",
   "mimetype": "text/x-python",
   "name": "python",
   "nbconvert_exporter": "python",
   "pygments_lexer": "ipython3",
   "version": "3.8.5-final"
  },
  "orig_nbformat": 2,
  "kernelspec": {
   "name": "python3",
   "display_name": "Python 3",
   "language": "python"
  }
 },
 "nbformat": 4,
 "nbformat_minor": 2,
 "cells": [
  {
   "cell_type": "code",
   "execution_count": 1,
   "metadata": {},
   "outputs": [],
   "source": [
    "from sklearn import preprocessing\n",
    "import pandas as pd \n",
    "import numpy as np \n",
    "\n",
    "df = pd.read_csv(\"../../Tascas/Data/DelayedFlights.csv\", nrows=100000)\n",
    "df = df[[\"ArrDelay\",\"DepDelay\",\"Distance\",\"AirTime\"]].dropna()"
   ]
  },
  {
   "source": [],
   "cell_type": "markdown",
   "metadata": {}
  },
  {
   "cell_type": "code",
   "execution_count": 3,
   "metadata": {},
   "outputs": [
    {
     "output_type": "execute_result",
     "data": {
      "text/plain": [
       "array([[-1.04192081, -0.71636402,  0.20420009,  0.22890795],\n",
       "       [-0.74820647, -0.49756525,  0.20420009,  0.18310452],\n",
       "       [-0.52792071, -0.71636402, -0.33697424, -0.38180445],\n",
       "       ...,\n",
       "       [-0.71149218, -0.43789285, -0.1902151 , -0.22912635],\n",
       "       [-0.91342079, -0.45778365,  0.08495829,  0.22890795],\n",
       "       [-0.41777783, -0.33843886, -0.01226964,  0.16783671]])"
      ]
     },
     "metadata": {},
     "execution_count": 3
    }
   ],
   "source": [
    "# Escalar por estarandizacion\n",
    "\n",
    "X_scaled = preprocessing.scale(df)\n",
    "X_scaled\n"
   ]
  },
  {
   "cell_type": "code",
   "execution_count": 4,
   "metadata": {},
   "outputs": [
    {
     "output_type": "execute_result",
     "data": {
      "text/plain": [
       "array([1., 1., 1., 1.])"
      ]
     },
     "metadata": {},
     "execution_count": 4
    }
   ],
   "source": [
    "X_scaled.std(axis = 0)  # se escalan las variables para qeu guarden una misma scala"
   ]
  },
  {
   "cell_type": "code",
   "execution_count": 5,
   "metadata": {},
   "outputs": [
    {
     "output_type": "execute_result",
     "data": {
      "text/plain": [
       "ArrDelay     14.0\n",
       "DepDelay      8.0\n",
       "Distance    515.0\n",
       "AirTime      76.0\n",
       "Name: 2, dtype: float64"
      ]
     },
     "metadata": {},
     "execution_count": 5
    }
   ],
   "source": [
    "df.iloc[2]"
   ]
  },
  {
   "cell_type": "code",
   "execution_count": 6,
   "metadata": {},
   "outputs": [
    {
     "output_type": "execute_result",
     "data": {
      "text/plain": [
       "array([-0.52792071, -0.71636402, -0.33697424, -0.38180445])"
      ]
     },
     "metadata": {},
     "execution_count": 6
    }
   ],
   "source": [
    "X_scaled[2]"
   ]
  },
  {
   "cell_type": "code",
   "execution_count": 7,
   "metadata": {},
   "outputs": [
    {
     "output_type": "execute_result",
     "data": {
      "text/plain": [
       "array([[0.45335658, 0.01829826, 1.75524788, 1.96943973],\n",
       "       [0.59285092, 0.1189387 , 1.75524788, 1.91850594],\n",
       "       [0.69747167, 0.01829826, 1.09647164, 1.29032258],\n",
       "       ...,\n",
       "       [0.61028771, 0.14638609, 1.27512282, 1.46010187],\n",
       "       [0.51438535, 0.13723696, 1.61009379, 1.96943973],\n",
       "       [0.74978204, 0.19213175, 1.49173738, 1.90152801]])"
      ]
     },
     "metadata": {},
     "execution_count": 7
    }
   ],
   "source": [
    "# escalar minimo maximo\n",
    "min_max_scaler = preprocessing.MinMaxScaler([0,10])\n",
    "X_train_minmax = min_max_scaler.fit_transform(df)\n",
    "X_train_minmax"
   ]
  },
  {
   "cell_type": "code",
   "execution_count": 8,
   "metadata": {},
   "outputs": [
    {
     "output_type": "execute_result",
     "data": {
      "text/plain": [
       "    IAD  IND  ISP  JAN  JAX  LAS\n",
       "0     1    0    0    0    0    0\n",
       "1     1    0    0    0    0    0\n",
       "2     0    1    0    0    0    0\n",
       "3     0    1    0    0    0    0\n",
       "4     0    1    0    0    0    0\n",
       "..  ...  ...  ...  ...  ...  ...\n",
       "95    0    0    0    0    0    1\n",
       "96    0    0    0    0    0    1\n",
       "97    0    0    0    0    0    1\n",
       "98    0    0    0    0    0    1\n",
       "99    0    0    0    0    0    1\n",
       "\n",
       "[100 rows x 6 columns]"
      ],
      "text/html": "<div>\n<style scoped>\n    .dataframe tbody tr th:only-of-type {\n        vertical-align: middle;\n    }\n\n    .dataframe tbody tr th {\n        vertical-align: top;\n    }\n\n    .dataframe thead th {\n        text-align: right;\n    }\n</style>\n<table border=\"1\" class=\"dataframe\">\n  <thead>\n    <tr style=\"text-align: right;\">\n      <th></th>\n      <th>IAD</th>\n      <th>IND</th>\n      <th>ISP</th>\n      <th>JAN</th>\n      <th>JAX</th>\n      <th>LAS</th>\n    </tr>\n  </thead>\n  <tbody>\n    <tr>\n      <th>0</th>\n      <td>1</td>\n      <td>0</td>\n      <td>0</td>\n      <td>0</td>\n      <td>0</td>\n      <td>0</td>\n    </tr>\n    <tr>\n      <th>1</th>\n      <td>1</td>\n      <td>0</td>\n      <td>0</td>\n      <td>0</td>\n      <td>0</td>\n      <td>0</td>\n    </tr>\n    <tr>\n      <th>2</th>\n      <td>0</td>\n      <td>1</td>\n      <td>0</td>\n      <td>0</td>\n      <td>0</td>\n      <td>0</td>\n    </tr>\n    <tr>\n      <th>3</th>\n      <td>0</td>\n      <td>1</td>\n      <td>0</td>\n      <td>0</td>\n      <td>0</td>\n      <td>0</td>\n    </tr>\n    <tr>\n      <th>4</th>\n      <td>0</td>\n      <td>1</td>\n      <td>0</td>\n      <td>0</td>\n      <td>0</td>\n      <td>0</td>\n    </tr>\n    <tr>\n      <th>...</th>\n      <td>...</td>\n      <td>...</td>\n      <td>...</td>\n      <td>...</td>\n      <td>...</td>\n      <td>...</td>\n    </tr>\n    <tr>\n      <th>95</th>\n      <td>0</td>\n      <td>0</td>\n      <td>0</td>\n      <td>0</td>\n      <td>0</td>\n      <td>1</td>\n    </tr>\n    <tr>\n      <th>96</th>\n      <td>0</td>\n      <td>0</td>\n      <td>0</td>\n      <td>0</td>\n      <td>0</td>\n      <td>1</td>\n    </tr>\n    <tr>\n      <th>97</th>\n      <td>0</td>\n      <td>0</td>\n      <td>0</td>\n      <td>0</td>\n      <td>0</td>\n      <td>1</td>\n    </tr>\n    <tr>\n      <th>98</th>\n      <td>0</td>\n      <td>0</td>\n      <td>0</td>\n      <td>0</td>\n      <td>0</td>\n      <td>1</td>\n    </tr>\n    <tr>\n      <th>99</th>\n      <td>0</td>\n      <td>0</td>\n      <td>0</td>\n      <td>0</td>\n      <td>0</td>\n      <td>1</td>\n    </tr>\n  </tbody>\n</table>\n<p>100 rows × 6 columns</p>\n</div>"
     },
     "metadata": {},
     "execution_count": 8
    }
   ],
   "source": [
    "# escalar por dummies, se entiende mas facilmente, pero consume mucha memoria\n",
    "\n",
    "df = pd.read_csv(\"../../Tascas/Data/DelayedFlights.csv\", nrows=100)\n",
    "pd.get_dummies(df[\"Origin\"])"
   ]
  },
  {
   "cell_type": "code",
   "execution_count": null,
   "metadata": {},
   "outputs": [],
   "source": []
  }
 ]
}