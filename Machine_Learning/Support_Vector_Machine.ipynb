{
 "metadata": {
  "language_info": {
   "codemirror_mode": {
    "name": "ipython",
    "version": 3
   },
   "file_extension": ".py",
   "mimetype": "text/x-python",
   "name": "python",
   "nbconvert_exporter": "python",
   "pygments_lexer": "ipython3",
   "version": "3.8.5-final"
  },
  "orig_nbformat": 2,
  "kernelspec": {
   "name": "python3",
   "display_name": "Python 3",
   "language": "python"
  }
 },
 "nbformat": 4,
 "nbformat_minor": 2,
 "cells": [
  {
   "cell_type": "code",
   "execution_count": 1,
   "metadata": {},
   "outputs": [],
   "source": [
    "from sklearn.svm import SVC\n",
    "import pandas as pd \n",
    "import numpy as np\n",
    "\n",
    "df = pd.read_csv(\"../../Tascas/Data/DelayedFlights.csv\")\n",
    "df = df.dropna(subset=[\"ArrDelay\"])\n",
    "df = df.sample(frac=1)\n",
    "df_test = df.tail(1000)\n",
    "df = df.head(1000)"
   ]
  },
  {
   "cell_type": "code",
   "execution_count": 2,
   "metadata": {},
   "outputs": [
    {
     "output_type": "execute_result",
     "data": {
      "text/plain": [
       "0.716"
      ]
     },
     "metadata": {},
     "execution_count": 2
    }
   ],
   "source": [
    "X = df[[\"Distance\",\"AirTime\",'DepTime','TaxiIn','TaxiOut','DepDelay']]\n",
    "X_test = df_test[[\"Distance\",\"AirTime\",'DepTime','TaxiIn','TaxiOut','DepDelay']]\n",
    "\n",
    "Y = df[\"ArrDelay\"] > 10  # respuesta categorica\n",
    "Y_test = df_test[\"ArrDelay\"] > 10\n",
    "\n",
    "# Entrenamos el modelo\n",
    "clf = SVC() #kernel=\"linear\"\n",
    "clf.fit(X, Y)\n",
    "\n",
    "Y_pred = clf.predict(X_test)  # C / Kernel\n",
    "\n",
    "np.mean(Y_pred == Y_test) # correctamente 70% datos "
   ]
  },
  {
   "cell_type": "code",
   "execution_count": 3,
   "metadata": {},
   "outputs": [
    {
     "output_type": "execute_result",
     "data": {
      "text/plain": [
       "0.899"
      ]
     },
     "metadata": {},
     "execution_count": 3
    }
   ],
   "source": [
    "# Entrenamos el modelo\n",
    "clf = SVC(kernel=\"linear\")\n",
    "clf.fit(X, Y)\n",
    "\n",
    "Y_pred = clf.predict(X_test)  # C / Kernel\n",
    "\n",
    "np.mean(Y_pred == Y_test) # mejora al 89% la prediccion del modelo"
   ]
  },
  {
   "cell_type": "code",
   "execution_count": 4,
   "metadata": {},
   "outputs": [],
   "source": [
    "# linear / poly / rbf / sigmoid -> Asociados a otros parametros"
   ]
  },
  {
   "cell_type": "code",
   "execution_count": 5,
   "metadata": {},
   "outputs": [],
   "source": [
    "# Para kernels lineales -> LinearSVC()"
   ]
  }
 ]
}