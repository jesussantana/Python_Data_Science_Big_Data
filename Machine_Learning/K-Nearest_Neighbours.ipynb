{
 "metadata": {
  "language_info": {
   "codemirror_mode": {
    "name": "ipython",
    "version": 3
   },
   "file_extension": ".py",
   "mimetype": "text/x-python",
   "name": "python",
   "nbconvert_exporter": "python",
   "pygments_lexer": "ipython3",
   "version": "3.8.5-final"
  },
  "orig_nbformat": 2,
  "kernelspec": {
   "name": "python3",
   "display_name": "Python 3",
   "language": "python"
  }
 },
 "nbformat": 4,
 "nbformat_minor": 2,
 "cells": [
  {
   "cell_type": "code",
   "execution_count": 1,
   "metadata": {},
   "outputs": [],
   "source": [
    "from sklearn.neighbors import KNeighborsClassifier\n",
    "import pandas as pd \n",
    "import numpy as np\n",
    "\n",
    "df = pd.read_csv(\"../../Tascas/Data/DelayedFlights.csv\", nrows=1e6)"
   ]
  },
  {
   "cell_type": "code",
   "execution_count": 2,
   "metadata": {},
   "outputs": [],
   "source": [
    "newdf = df[[\"AirTime\", \"Distance\", \"TaxiOut\", \"ArrDelay\"]].dropna()\n",
    "cols = newdf[newdf.columns[newdf.columns != \"ArrDelay\"]]"
   ]
  },
  {
   "cell_type": "code",
   "execution_count": 3,
   "metadata": {},
   "outputs": [],
   "source": [
    "filtro = newdf[\"ArrDelay\"] > 10 # variable respuesta binaria"
   ]
  },
  {
   "cell_type": "code",
   "execution_count": 4,
   "metadata": {},
   "outputs": [],
   "source": [
    "newdf[\"ArrDelay\"][filtro] = \"Delayed\"\n",
    "newdf[\"ArrDelay\"][filtro == False] = \"Not Delayed\"  #añadimos etiquetas para visualizarlo"
   ]
  },
  {
   "cell_type": "code",
   "execution_count": 6,
   "metadata": {},
   "outputs": [
    {
     "output_type": "execute_result",
     "data": {
      "text/plain": [
       "0    Not Delayed\n",
       "1    Not Delayed\n",
       "2        Delayed\n",
       "3        Delayed\n",
       "4        Delayed\n",
       "Name: ArrDelay, dtype: object"
      ]
     },
     "metadata": {},
     "execution_count": 6
    }
   ],
   "source": [
    "newdf[\"ArrDelay\"].head()"
   ]
  },
  {
   "cell_type": "code",
   "execution_count": 7,
   "metadata": {},
   "outputs": [],
   "source": [
    "nbrs_3 = KNeighborsClassifier(n_neighbors=3, n_jobs = -1) # especificar numero de vecinos del modelo"
   ]
  },
  {
   "cell_type": "code",
   "execution_count": 8,
   "metadata": {},
   "outputs": [
    {
     "output_type": "execute_result",
     "data": {
      "text/plain": [
       "KNeighborsClassifier(n_jobs=-1, n_neighbors=3)"
      ]
     },
     "metadata": {},
     "execution_count": 8
    }
   ],
   "source": [
    "nbrs_3.fit(cols, newdf[\"ArrDelay\"])"
   ]
  },
  {
   "cell_type": "code",
   "execution_count": 10,
   "metadata": {},
   "outputs": [],
   "source": [
    "predicciones_3 = nbrs_3.predict(cols) # hemos clasificado correctamente el "
   ]
  },
  {
   "cell_type": "code",
   "execution_count": 11,
   "metadata": {},
   "outputs": [
    {
     "output_type": "execute_result",
     "data": {
      "text/plain": [
       "0.7918333920447531"
      ]
     },
     "metadata": {},
     "execution_count": 11
    }
   ],
   "source": [
    "np.mean(predicciones_3 == newdf[\"ArrDelay\"]) # hemos clasificado correctamente casi el 80% de los datos"
   ]
  },
  {
   "cell_type": "code",
   "execution_count": 13,
   "metadata": {},
   "outputs": [
    {
     "output_type": "execute_result",
     "data": {
      "text/plain": [
       "0.27504644223850083"
      ]
     },
     "metadata": {},
     "execution_count": 13
    }
   ],
   "source": [
    "np.mean(newdf[\"ArrDelay\"] == \"Not Delayed\") # el modelo mejoro en mas d eun 50% la prediccion"
   ]
  },
  {
   "cell_type": "code",
   "execution_count": 14,
   "metadata": {},
   "outputs": [
    {
     "output_type": "execute_result",
     "data": {
      "text/plain": [
       "0.8136348992722795"
      ]
     },
     "metadata": {},
     "execution_count": 14
    }
   ],
   "source": [
    "nbrs_1 = KNeighborsClassifier(n_neighbors=1, n_jobs = -1)  #probamos a ver con un solo vecino\n",
    "nbrs_1.fit(cols, newdf[\"ArrDelay\"])\n",
    "predicciones_1 = nbrs_1.predict(cols)\n",
    "np.mean(predicciones_1 == newdf[\"ArrDelay\"]) # mejora un 2% con un solo vecino"
   ]
  },
  {
   "cell_type": "code",
   "execution_count": 15,
   "metadata": {},
   "outputs": [
    {
     "output_type": "execute_result",
     "data": {
      "text/plain": [
       "0.27504644223850083"
      ]
     },
     "metadata": {},
     "execution_count": 15
    }
   ],
   "source": [
    "np.mean(newdf[\"ArrDelay\"] == \"Not Delayed\")"
   ]
  },
  {
   "cell_type": "code",
   "execution_count": 17,
   "metadata": {},
   "outputs": [],
   "source": [
    "from sklearn.metrics import confusion_matrix\n",
    "confusion_matrix = confusion_matrix(newdf[\"ArrDelay\"], predicciones_1)"
   ]
  }
 ]
}