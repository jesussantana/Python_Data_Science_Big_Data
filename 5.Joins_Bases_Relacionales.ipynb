{
 "metadata": {
  "language_info": {
   "codemirror_mode": {
    "name": "ipython",
    "version": 3
   },
   "file_extension": ".py",
   "mimetype": "text/x-python",
   "name": "python",
   "nbconvert_exporter": "python",
   "pygments_lexer": "ipython3",
   "version": "3.8.5-final"
  },
  "orig_nbformat": 2,
  "kernelspec": {
   "name": "python3",
   "display_name": "Python 3",
   "language": "python"
  }
 },
 "nbformat": 4,
 "nbformat_minor": 2,
 "cells": [
  {
   "cell_type": "code",
   "execution_count": 5,
   "metadata": {},
   "outputs": [],
   "source": [
    "import pandas as pd \n",
    "\n",
    "consumidores = [(\"A\",\"Movil\"),(\"B\",\"Movil\"),(\"A\",\"Portatil\"),(\"A\",\"Tablet\"),(\"B\",\"Tablet\"),(\"C\",\"portatil\"),(\"D\",\"Smartwatch\"),(\"E\",\"Consola\")]\n",
    "\n",
    "con_labels = [\"Consumidor\", \"Producto\"]\n",
    "\n",
    "con_df = pd.DataFrame.from_records(consumidores, columns = con_labels)\n",
    "\n",
    "productores = [(\"a\",\"Movil\"),(\"a\",\"Smartwatch\"),(\"a\",\"Tablet\"),(\"b\",\"Portatil\"),(\"c\",\"Sobremesa\"),(\"c\",\"Portatil\")]\n",
    "\n",
    "prod_labels = [\"Productor\", \"Producto\"]\n",
    "\n",
    "prod_df = pd.DataFrame.from_records(productores, columns = prod_labels)"
   ]
  },
  {
   "cell_type": "code",
   "execution_count": 6,
   "metadata": {},
   "outputs": [
    {
     "output_type": "execute_result",
     "data": {
      "text/plain": [
       "  Consumidor    Producto\n",
       "0          A       Movil\n",
       "1          B       Movil\n",
       "2          A    Portatil\n",
       "3          A      Tablet\n",
       "4          B      Tablet\n",
       "5          C    portatil\n",
       "6          D  Smartwatch\n",
       "7          E     Consola"
      ],
      "text/html": "<div>\n<style scoped>\n    .dataframe tbody tr th:only-of-type {\n        vertical-align: middle;\n    }\n\n    .dataframe tbody tr th {\n        vertical-align: top;\n    }\n\n    .dataframe thead th {\n        text-align: right;\n    }\n</style>\n<table border=\"1\" class=\"dataframe\">\n  <thead>\n    <tr style=\"text-align: right;\">\n      <th></th>\n      <th>Consumidor</th>\n      <th>Producto</th>\n    </tr>\n  </thead>\n  <tbody>\n    <tr>\n      <th>0</th>\n      <td>A</td>\n      <td>Movil</td>\n    </tr>\n    <tr>\n      <th>1</th>\n      <td>B</td>\n      <td>Movil</td>\n    </tr>\n    <tr>\n      <th>2</th>\n      <td>A</td>\n      <td>Portatil</td>\n    </tr>\n    <tr>\n      <th>3</th>\n      <td>A</td>\n      <td>Tablet</td>\n    </tr>\n    <tr>\n      <th>4</th>\n      <td>B</td>\n      <td>Tablet</td>\n    </tr>\n    <tr>\n      <th>5</th>\n      <td>C</td>\n      <td>portatil</td>\n    </tr>\n    <tr>\n      <th>6</th>\n      <td>D</td>\n      <td>Smartwatch</td>\n    </tr>\n    <tr>\n      <th>7</th>\n      <td>E</td>\n      <td>Consola</td>\n    </tr>\n  </tbody>\n</table>\n</div>"
     },
     "metadata": {},
     "execution_count": 6
    }
   ],
   "source": [
    "con_df"
   ]
  },
  {
   "cell_type": "code",
   "execution_count": 7,
   "metadata": {},
   "outputs": [
    {
     "output_type": "execute_result",
     "data": {
      "text/plain": [
       "  Productor    Producto\n",
       "0         a       Movil\n",
       "1         a  Smartwatch\n",
       "2         a      Tablet\n",
       "3         b    Portatil\n",
       "4         c   Sobremesa\n",
       "5         c    Portatil"
      ],
      "text/html": "<div>\n<style scoped>\n    .dataframe tbody tr th:only-of-type {\n        vertical-align: middle;\n    }\n\n    .dataframe tbody tr th {\n        vertical-align: top;\n    }\n\n    .dataframe thead th {\n        text-align: right;\n    }\n</style>\n<table border=\"1\" class=\"dataframe\">\n  <thead>\n    <tr style=\"text-align: right;\">\n      <th></th>\n      <th>Productor</th>\n      <th>Producto</th>\n    </tr>\n  </thead>\n  <tbody>\n    <tr>\n      <th>0</th>\n      <td>a</td>\n      <td>Movil</td>\n    </tr>\n    <tr>\n      <th>1</th>\n      <td>a</td>\n      <td>Smartwatch</td>\n    </tr>\n    <tr>\n      <th>2</th>\n      <td>a</td>\n      <td>Tablet</td>\n    </tr>\n    <tr>\n      <th>3</th>\n      <td>b</td>\n      <td>Portatil</td>\n    </tr>\n    <tr>\n      <th>4</th>\n      <td>c</td>\n      <td>Sobremesa</td>\n    </tr>\n    <tr>\n      <th>5</th>\n      <td>c</td>\n      <td>Portatil</td>\n    </tr>\n  </tbody>\n</table>\n</div>"
     },
     "metadata": {},
     "execution_count": 7
    }
   ],
   "source": [
    "prod_df"
   ]
  },
  {
   "cell_type": "code",
   "execution_count": 8,
   "metadata": {},
   "outputs": [
    {
     "output_type": "execute_result",
     "data": {
      "text/plain": [
       "  Consumidor    Producto Productor\n",
       "0          A       Movil         a\n",
       "1          B       Movil         a\n",
       "2          A    Portatil         b\n",
       "3          A    Portatil         c\n",
       "4          A      Tablet         a\n",
       "5          B      Tablet         a\n",
       "6          C    portatil       NaN\n",
       "7          D  Smartwatch         a\n",
       "8          E     Consola       NaN\n",
       "9        NaN   Sobremesa         c"
      ],
      "text/html": "<div>\n<style scoped>\n    .dataframe tbody tr th:only-of-type {\n        vertical-align: middle;\n    }\n\n    .dataframe tbody tr th {\n        vertical-align: top;\n    }\n\n    .dataframe thead th {\n        text-align: right;\n    }\n</style>\n<table border=\"1\" class=\"dataframe\">\n  <thead>\n    <tr style=\"text-align: right;\">\n      <th></th>\n      <th>Consumidor</th>\n      <th>Producto</th>\n      <th>Productor</th>\n    </tr>\n  </thead>\n  <tbody>\n    <tr>\n      <th>0</th>\n      <td>A</td>\n      <td>Movil</td>\n      <td>a</td>\n    </tr>\n    <tr>\n      <th>1</th>\n      <td>B</td>\n      <td>Movil</td>\n      <td>a</td>\n    </tr>\n    <tr>\n      <th>2</th>\n      <td>A</td>\n      <td>Portatil</td>\n      <td>b</td>\n    </tr>\n    <tr>\n      <th>3</th>\n      <td>A</td>\n      <td>Portatil</td>\n      <td>c</td>\n    </tr>\n    <tr>\n      <th>4</th>\n      <td>A</td>\n      <td>Tablet</td>\n      <td>a</td>\n    </tr>\n    <tr>\n      <th>5</th>\n      <td>B</td>\n      <td>Tablet</td>\n      <td>a</td>\n    </tr>\n    <tr>\n      <th>6</th>\n      <td>C</td>\n      <td>portatil</td>\n      <td>NaN</td>\n    </tr>\n    <tr>\n      <th>7</th>\n      <td>D</td>\n      <td>Smartwatch</td>\n      <td>a</td>\n    </tr>\n    <tr>\n      <th>8</th>\n      <td>E</td>\n      <td>Consola</td>\n      <td>NaN</td>\n    </tr>\n    <tr>\n      <th>9</th>\n      <td>NaN</td>\n      <td>Sobremesa</td>\n      <td>c</td>\n    </tr>\n  </tbody>\n</table>\n</div>"
     },
     "metadata": {},
     "execution_count": 8
    }
   ],
   "source": [
    "pd.merge(con_df,prod_df, on = \"Producto\", how = \"outer\")"
   ]
  },
  {
   "cell_type": "code",
   "execution_count": 10,
   "metadata": {},
   "outputs": [
    {
     "output_type": "execute_result",
     "data": {
      "text/plain": [
       "  Consumidor    Producto Productor\n",
       "0          A       Movil         a\n",
       "1          B       Movil         a\n",
       "2          A    Portatil         b\n",
       "3          A    Portatil         c\n",
       "4          A      Tablet         a\n",
       "5          B      Tablet         a\n",
       "6          D  Smartwatch         a"
      ],
      "text/html": "<div>\n<style scoped>\n    .dataframe tbody tr th:only-of-type {\n        vertical-align: middle;\n    }\n\n    .dataframe tbody tr th {\n        vertical-align: top;\n    }\n\n    .dataframe thead th {\n        text-align: right;\n    }\n</style>\n<table border=\"1\" class=\"dataframe\">\n  <thead>\n    <tr style=\"text-align: right;\">\n      <th></th>\n      <th>Consumidor</th>\n      <th>Producto</th>\n      <th>Productor</th>\n    </tr>\n  </thead>\n  <tbody>\n    <tr>\n      <th>0</th>\n      <td>A</td>\n      <td>Movil</td>\n      <td>a</td>\n    </tr>\n    <tr>\n      <th>1</th>\n      <td>B</td>\n      <td>Movil</td>\n      <td>a</td>\n    </tr>\n    <tr>\n      <th>2</th>\n      <td>A</td>\n      <td>Portatil</td>\n      <td>b</td>\n    </tr>\n    <tr>\n      <th>3</th>\n      <td>A</td>\n      <td>Portatil</td>\n      <td>c</td>\n    </tr>\n    <tr>\n      <th>4</th>\n      <td>A</td>\n      <td>Tablet</td>\n      <td>a</td>\n    </tr>\n    <tr>\n      <th>5</th>\n      <td>B</td>\n      <td>Tablet</td>\n      <td>a</td>\n    </tr>\n    <tr>\n      <th>6</th>\n      <td>D</td>\n      <td>Smartwatch</td>\n      <td>a</td>\n    </tr>\n  </tbody>\n</table>\n</div>"
     },
     "metadata": {},
     "execution_count": 10
    }
   ],
   "source": [
    "pd.merge(con_df,prod_df, on=\"Producto\", how=\"inner\")"
   ]
  },
  {
   "cell_type": "code",
   "execution_count": 11,
   "metadata": {},
   "outputs": [
    {
     "output_type": "execute_result",
     "data": {
      "text/plain": [
       "  Consumidor    Producto\n",
       "0          A       Movil\n",
       "1          B       Movil\n",
       "2          A    Portatil\n",
       "3          A      Tablet\n",
       "4          B      Tablet\n",
       "5          C    portatil\n",
       "6          D  Smartwatch\n",
       "7          E     Consola"
      ],
      "text/html": "<div>\n<style scoped>\n    .dataframe tbody tr th:only-of-type {\n        vertical-align: middle;\n    }\n\n    .dataframe tbody tr th {\n        vertical-align: top;\n    }\n\n    .dataframe thead th {\n        text-align: right;\n    }\n</style>\n<table border=\"1\" class=\"dataframe\">\n  <thead>\n    <tr style=\"text-align: right;\">\n      <th></th>\n      <th>Consumidor</th>\n      <th>Producto</th>\n    </tr>\n  </thead>\n  <tbody>\n    <tr>\n      <th>0</th>\n      <td>A</td>\n      <td>Movil</td>\n    </tr>\n    <tr>\n      <th>1</th>\n      <td>B</td>\n      <td>Movil</td>\n    </tr>\n    <tr>\n      <th>2</th>\n      <td>A</td>\n      <td>Portatil</td>\n    </tr>\n    <tr>\n      <th>3</th>\n      <td>A</td>\n      <td>Tablet</td>\n    </tr>\n    <tr>\n      <th>4</th>\n      <td>B</td>\n      <td>Tablet</td>\n    </tr>\n    <tr>\n      <th>5</th>\n      <td>C</td>\n      <td>portatil</td>\n    </tr>\n    <tr>\n      <th>6</th>\n      <td>D</td>\n      <td>Smartwatch</td>\n    </tr>\n    <tr>\n      <th>7</th>\n      <td>E</td>\n      <td>Consola</td>\n    </tr>\n  </tbody>\n</table>\n</div>"
     },
     "metadata": {},
     "execution_count": 11
    }
   ],
   "source": [
    "con_df"
   ]
  },
  {
   "cell_type": "code",
   "execution_count": 13,
   "metadata": {},
   "outputs": [
    {
     "output_type": "execute_result",
     "data": {
      "text/plain": [
       "  Productor    Producto\n",
       "0         a       Movil\n",
       "1         a  Smartwatch\n",
       "2         a      Tablet\n",
       "3         b    Portatil\n",
       "4         c   Sobremesa\n",
       "5         c    Portatil"
      ],
      "text/html": "<div>\n<style scoped>\n    .dataframe tbody tr th:only-of-type {\n        vertical-align: middle;\n    }\n\n    .dataframe tbody tr th {\n        vertical-align: top;\n    }\n\n    .dataframe thead th {\n        text-align: right;\n    }\n</style>\n<table border=\"1\" class=\"dataframe\">\n  <thead>\n    <tr style=\"text-align: right;\">\n      <th></th>\n      <th>Productor</th>\n      <th>Producto</th>\n    </tr>\n  </thead>\n  <tbody>\n    <tr>\n      <th>0</th>\n      <td>a</td>\n      <td>Movil</td>\n    </tr>\n    <tr>\n      <th>1</th>\n      <td>a</td>\n      <td>Smartwatch</td>\n    </tr>\n    <tr>\n      <th>2</th>\n      <td>a</td>\n      <td>Tablet</td>\n    </tr>\n    <tr>\n      <th>3</th>\n      <td>b</td>\n      <td>Portatil</td>\n    </tr>\n    <tr>\n      <th>4</th>\n      <td>c</td>\n      <td>Sobremesa</td>\n    </tr>\n    <tr>\n      <th>5</th>\n      <td>c</td>\n      <td>Portatil</td>\n    </tr>\n  </tbody>\n</table>\n</div>"
     },
     "metadata": {},
     "execution_count": 13
    }
   ],
   "source": [
    "prod_df\n"
   ]
  },
  {
   "cell_type": "code",
   "execution_count": 14,
   "metadata": {},
   "outputs": [
    {
     "output_type": "execute_result",
     "data": {
      "text/plain": [
       "  Consumidor    Producto Productor\n",
       "0          A       Movil         a\n",
       "1          B       Movil         a\n",
       "2          D  Smartwatch         a\n",
       "3          A      Tablet         a\n",
       "4          B      Tablet         a\n",
       "5          A    Portatil         b\n",
       "6          A    Portatil         c\n",
       "7        NaN   Sobremesa         c"
      ],
      "text/html": "<div>\n<style scoped>\n    .dataframe tbody tr th:only-of-type {\n        vertical-align: middle;\n    }\n\n    .dataframe tbody tr th {\n        vertical-align: top;\n    }\n\n    .dataframe thead th {\n        text-align: right;\n    }\n</style>\n<table border=\"1\" class=\"dataframe\">\n  <thead>\n    <tr style=\"text-align: right;\">\n      <th></th>\n      <th>Consumidor</th>\n      <th>Producto</th>\n      <th>Productor</th>\n    </tr>\n  </thead>\n  <tbody>\n    <tr>\n      <th>0</th>\n      <td>A</td>\n      <td>Movil</td>\n      <td>a</td>\n    </tr>\n    <tr>\n      <th>1</th>\n      <td>B</td>\n      <td>Movil</td>\n      <td>a</td>\n    </tr>\n    <tr>\n      <th>2</th>\n      <td>D</td>\n      <td>Smartwatch</td>\n      <td>a</td>\n    </tr>\n    <tr>\n      <th>3</th>\n      <td>A</td>\n      <td>Tablet</td>\n      <td>a</td>\n    </tr>\n    <tr>\n      <th>4</th>\n      <td>B</td>\n      <td>Tablet</td>\n      <td>a</td>\n    </tr>\n    <tr>\n      <th>5</th>\n      <td>A</td>\n      <td>Portatil</td>\n      <td>b</td>\n    </tr>\n    <tr>\n      <th>6</th>\n      <td>A</td>\n      <td>Portatil</td>\n      <td>c</td>\n    </tr>\n    <tr>\n      <th>7</th>\n      <td>NaN</td>\n      <td>Sobremesa</td>\n      <td>c</td>\n    </tr>\n  </tbody>\n</table>\n</div>"
     },
     "metadata": {},
     "execution_count": 14
    }
   ],
   "source": [
    "pd.merge(con_df,prod_df, on=\"Producto\", how=\"right\")"
   ]
  },
  {
   "cell_type": "code",
   "execution_count": 15,
   "metadata": {},
   "outputs": [
    {
     "output_type": "execute_result",
     "data": {
      "text/plain": [
       "  Consumidor    Producto Productor\n",
       "0          A       Movil         a\n",
       "1          B       Movil         a\n",
       "2          A    Portatil         b\n",
       "3          A    Portatil         c\n",
       "4          A      Tablet         a\n",
       "5          B      Tablet         a\n",
       "6          C    portatil       NaN\n",
       "7          D  Smartwatch         a\n",
       "8          E     Consola       NaN"
      ],
      "text/html": "<div>\n<style scoped>\n    .dataframe tbody tr th:only-of-type {\n        vertical-align: middle;\n    }\n\n    .dataframe tbody tr th {\n        vertical-align: top;\n    }\n\n    .dataframe thead th {\n        text-align: right;\n    }\n</style>\n<table border=\"1\" class=\"dataframe\">\n  <thead>\n    <tr style=\"text-align: right;\">\n      <th></th>\n      <th>Consumidor</th>\n      <th>Producto</th>\n      <th>Productor</th>\n    </tr>\n  </thead>\n  <tbody>\n    <tr>\n      <th>0</th>\n      <td>A</td>\n      <td>Movil</td>\n      <td>a</td>\n    </tr>\n    <tr>\n      <th>1</th>\n      <td>B</td>\n      <td>Movil</td>\n      <td>a</td>\n    </tr>\n    <tr>\n      <th>2</th>\n      <td>A</td>\n      <td>Portatil</td>\n      <td>b</td>\n    </tr>\n    <tr>\n      <th>3</th>\n      <td>A</td>\n      <td>Portatil</td>\n      <td>c</td>\n    </tr>\n    <tr>\n      <th>4</th>\n      <td>A</td>\n      <td>Tablet</td>\n      <td>a</td>\n    </tr>\n    <tr>\n      <th>5</th>\n      <td>B</td>\n      <td>Tablet</td>\n      <td>a</td>\n    </tr>\n    <tr>\n      <th>6</th>\n      <td>C</td>\n      <td>portatil</td>\n      <td>NaN</td>\n    </tr>\n    <tr>\n      <th>7</th>\n      <td>D</td>\n      <td>Smartwatch</td>\n      <td>a</td>\n    </tr>\n    <tr>\n      <th>8</th>\n      <td>E</td>\n      <td>Consola</td>\n      <td>NaN</td>\n    </tr>\n  </tbody>\n</table>\n</div>"
     },
     "metadata": {},
     "execution_count": 15
    }
   ],
   "source": [
    "pd.merge(con_df,prod_df, on=\"Producto\", how=\"left\")"
   ]
  },
  {
   "cell_type": "code",
   "execution_count": null,
   "metadata": {},
   "outputs": [],
   "source": []
  }
 ]
}