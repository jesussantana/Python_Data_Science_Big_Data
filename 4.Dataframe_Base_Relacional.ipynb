{
 "metadata": {
  "language_info": {
   "codemirror_mode": {
    "name": "ipython",
    "version": 3
   },
   "file_extension": ".py",
   "mimetype": "text/x-python",
   "name": "python",
   "nbconvert_exporter": "python",
   "pygments_lexer": "ipython3",
   "version": "3.8.5-final"
  },
  "orig_nbformat": 2,
  "kernelspec": {
   "name": "python3",
   "display_name": "Python 3",
   "language": "python"
  }
 },
 "nbformat": 4,
 "nbformat_minor": 2,
 "cells": [
  {
   "cell_type": "code",
   "execution_count": 1,
   "metadata": {},
   "outputs": [],
   "source": [
    "import pandas as pd "
   ]
  },
  {
   "cell_type": "code",
   "execution_count": 2,
   "metadata": {},
   "outputs": [],
   "source": [
    "data = [(1,\"Joan\",\"Gasull\", 25,1,\"Libreta\",1.2,.4,0.8,3,\"03-02-2018\"),\n",
    "(1,\"Joan\",\"Gasull\", 25,2,\"Boligrafo\",0.4,0.15,0.25,1,\"03-02-2018\"),\n",
    "(1,\"Joan\",\"Gasull\", 25,1,\"Libreta\",1.2,.4,0.8,2,\"15-02-2018\"),\n",
    "(1,\"Joan\",\"Lopez\", 33,2,\"Boligrafo\",0.4,0.15,0.25,4,\"01-02-2018\"),\n",
    "(2,\"Joan\",\"Lopez\", 33,1,\"Libreta\",1.2,.4,0.8,10,\"05-03-2018\"),\n",
    "(3,\"Maria\",\"Garcia\", 40,1,\"Libreta\",1.2,.4,0.8,20,\"13-04-2018\"),\n",
    "(3,\"Maria\",\"Garcia\", 40,2,\"Boligrafo\",0.4,0.15,0.25,1,\"09-02-2018\"),\n",
    "(3,\"Maria\",\"Garcia\", 40,2,\"Boligrafo\",0.4,0.15,0.25,3,\"03-04-2018\")]\n",
    "\n",
    "labels = [\"Comprador_id\", \"Nombre\", \"Apellido\", \"Edad\", \"Producto_id\", \"Producto\", \"Precio\", \"Coste\", \"Margen\", \"Cantidad\",\"Fecha\"]"
   ]
  },
  {
   "cell_type": "code",
   "execution_count": 3,
   "metadata": {},
   "outputs": [],
   "source": [
    "df = pd.DataFrame.from_records(data, columns = labels)"
   ]
  },
  {
   "cell_type": "code",
   "execution_count": 4,
   "metadata": {},
   "outputs": [
    {
     "output_type": "execute_result",
     "data": {
      "text/plain": [
       "   Comprador_id Nombre Apellido  Edad  Producto_id   Producto  Precio  Coste  \\\n",
       "0             1   Joan   Gasull    25            1    Libreta     1.2   0.40   \n",
       "1             1   Joan   Gasull    25            2  Boligrafo     0.4   0.15   \n",
       "2             1   Joan   Gasull    25            1    Libreta     1.2   0.40   \n",
       "3             1   Joan    Lopez    33            2  Boligrafo     0.4   0.15   \n",
       "4             2   Joan    Lopez    33            1    Libreta     1.2   0.40   \n",
       "5             3  Maria   Garcia    40            1    Libreta     1.2   0.40   \n",
       "6             3  Maria   Garcia    40            2  Boligrafo     0.4   0.15   \n",
       "7             3  Maria   Garcia    40            2  Boligrafo     0.4   0.15   \n",
       "\n",
       "   Margen  Cantidad       Fecha  \n",
       "0    0.80         3  03-02-2018  \n",
       "1    0.25         1  03-02-2018  \n",
       "2    0.80         2  15-02-2018  \n",
       "3    0.25         4  01-02-2018  \n",
       "4    0.80        10  05-03-2018  \n",
       "5    0.80        20  13-04-2018  \n",
       "6    0.25         1  09-02-2018  \n",
       "7    0.25         3  03-04-2018  "
      ],
      "text/html": "<div>\n<style scoped>\n    .dataframe tbody tr th:only-of-type {\n        vertical-align: middle;\n    }\n\n    .dataframe tbody tr th {\n        vertical-align: top;\n    }\n\n    .dataframe thead th {\n        text-align: right;\n    }\n</style>\n<table border=\"1\" class=\"dataframe\">\n  <thead>\n    <tr style=\"text-align: right;\">\n      <th></th>\n      <th>Comprador_id</th>\n      <th>Nombre</th>\n      <th>Apellido</th>\n      <th>Edad</th>\n      <th>Producto_id</th>\n      <th>Producto</th>\n      <th>Precio</th>\n      <th>Coste</th>\n      <th>Margen</th>\n      <th>Cantidad</th>\n      <th>Fecha</th>\n    </tr>\n  </thead>\n  <tbody>\n    <tr>\n      <th>0</th>\n      <td>1</td>\n      <td>Joan</td>\n      <td>Gasull</td>\n      <td>25</td>\n      <td>1</td>\n      <td>Libreta</td>\n      <td>1.2</td>\n      <td>0.40</td>\n      <td>0.80</td>\n      <td>3</td>\n      <td>03-02-2018</td>\n    </tr>\n    <tr>\n      <th>1</th>\n      <td>1</td>\n      <td>Joan</td>\n      <td>Gasull</td>\n      <td>25</td>\n      <td>2</td>\n      <td>Boligrafo</td>\n      <td>0.4</td>\n      <td>0.15</td>\n      <td>0.25</td>\n      <td>1</td>\n      <td>03-02-2018</td>\n    </tr>\n    <tr>\n      <th>2</th>\n      <td>1</td>\n      <td>Joan</td>\n      <td>Gasull</td>\n      <td>25</td>\n      <td>1</td>\n      <td>Libreta</td>\n      <td>1.2</td>\n      <td>0.40</td>\n      <td>0.80</td>\n      <td>2</td>\n      <td>15-02-2018</td>\n    </tr>\n    <tr>\n      <th>3</th>\n      <td>1</td>\n      <td>Joan</td>\n      <td>Lopez</td>\n      <td>33</td>\n      <td>2</td>\n      <td>Boligrafo</td>\n      <td>0.4</td>\n      <td>0.15</td>\n      <td>0.25</td>\n      <td>4</td>\n      <td>01-02-2018</td>\n    </tr>\n    <tr>\n      <th>4</th>\n      <td>2</td>\n      <td>Joan</td>\n      <td>Lopez</td>\n      <td>33</td>\n      <td>1</td>\n      <td>Libreta</td>\n      <td>1.2</td>\n      <td>0.40</td>\n      <td>0.80</td>\n      <td>10</td>\n      <td>05-03-2018</td>\n    </tr>\n    <tr>\n      <th>5</th>\n      <td>3</td>\n      <td>Maria</td>\n      <td>Garcia</td>\n      <td>40</td>\n      <td>1</td>\n      <td>Libreta</td>\n      <td>1.2</td>\n      <td>0.40</td>\n      <td>0.80</td>\n      <td>20</td>\n      <td>13-04-2018</td>\n    </tr>\n    <tr>\n      <th>6</th>\n      <td>3</td>\n      <td>Maria</td>\n      <td>Garcia</td>\n      <td>40</td>\n      <td>2</td>\n      <td>Boligrafo</td>\n      <td>0.4</td>\n      <td>0.15</td>\n      <td>0.25</td>\n      <td>1</td>\n      <td>09-02-2018</td>\n    </tr>\n    <tr>\n      <th>7</th>\n      <td>3</td>\n      <td>Maria</td>\n      <td>Garcia</td>\n      <td>40</td>\n      <td>2</td>\n      <td>Boligrafo</td>\n      <td>0.4</td>\n      <td>0.15</td>\n      <td>0.25</td>\n      <td>3</td>\n      <td>03-04-2018</td>\n    </tr>\n  </tbody>\n</table>\n</div>"
     },
     "metadata": {},
     "execution_count": 4
    }
   ],
   "source": [
    "df"
   ]
  },
  {
   "cell_type": "code",
   "execution_count": 5,
   "metadata": {},
   "outputs": [
    {
     "output_type": "execute_result",
     "data": {
      "text/plain": [
       "   Comprador_id Nombre Apellido  Edad  Producto_id Producto  Precio  Coste  \\\n",
       "0             1   Joan   Gasull    25            1  Libreta     1.2    0.4   \n",
       "4             2   Joan    Lopez    33            1  Libreta     1.2    0.4   \n",
       "5             3  Maria   Garcia    40            1  Libreta     1.2    0.4   \n",
       "\n",
       "   Margen  Cantidad       Fecha  \n",
       "0     0.8         3  03-02-2018  \n",
       "4     0.8        10  05-03-2018  \n",
       "5     0.8        20  13-04-2018  "
      ],
      "text/html": "<div>\n<style scoped>\n    .dataframe tbody tr th:only-of-type {\n        vertical-align: middle;\n    }\n\n    .dataframe tbody tr th {\n        vertical-align: top;\n    }\n\n    .dataframe thead th {\n        text-align: right;\n    }\n</style>\n<table border=\"1\" class=\"dataframe\">\n  <thead>\n    <tr style=\"text-align: right;\">\n      <th></th>\n      <th>Comprador_id</th>\n      <th>Nombre</th>\n      <th>Apellido</th>\n      <th>Edad</th>\n      <th>Producto_id</th>\n      <th>Producto</th>\n      <th>Precio</th>\n      <th>Coste</th>\n      <th>Margen</th>\n      <th>Cantidad</th>\n      <th>Fecha</th>\n    </tr>\n  </thead>\n  <tbody>\n    <tr>\n      <th>0</th>\n      <td>1</td>\n      <td>Joan</td>\n      <td>Gasull</td>\n      <td>25</td>\n      <td>1</td>\n      <td>Libreta</td>\n      <td>1.2</td>\n      <td>0.4</td>\n      <td>0.8</td>\n      <td>3</td>\n      <td>03-02-2018</td>\n    </tr>\n    <tr>\n      <th>4</th>\n      <td>2</td>\n      <td>Joan</td>\n      <td>Lopez</td>\n      <td>33</td>\n      <td>1</td>\n      <td>Libreta</td>\n      <td>1.2</td>\n      <td>0.4</td>\n      <td>0.8</td>\n      <td>10</td>\n      <td>05-03-2018</td>\n    </tr>\n    <tr>\n      <th>5</th>\n      <td>3</td>\n      <td>Maria</td>\n      <td>Garcia</td>\n      <td>40</td>\n      <td>1</td>\n      <td>Libreta</td>\n      <td>1.2</td>\n      <td>0.4</td>\n      <td>0.8</td>\n      <td>20</td>\n      <td>13-04-2018</td>\n    </tr>\n  </tbody>\n</table>\n</div>"
     },
     "metadata": {},
     "execution_count": 5
    }
   ],
   "source": [
    "compradores = df.drop_duplicates(subset= \"Comprador_id\", keep= \"first\")\n",
    "compradores"
   ]
  },
  {
   "cell_type": "code",
   "execution_count": 6,
   "metadata": {},
   "outputs": [
    {
     "output_type": "execute_result",
     "data": {
      "text/plain": [
       "   Comprador_id Nombre Apellido  Edad\n",
       "0             1   Joan   Gasull    25\n",
       "4             2   Joan    Lopez    33\n",
       "5             3  Maria   Garcia    40"
      ],
      "text/html": "<div>\n<style scoped>\n    .dataframe tbody tr th:only-of-type {\n        vertical-align: middle;\n    }\n\n    .dataframe tbody tr th {\n        vertical-align: top;\n    }\n\n    .dataframe thead th {\n        text-align: right;\n    }\n</style>\n<table border=\"1\" class=\"dataframe\">\n  <thead>\n    <tr style=\"text-align: right;\">\n      <th></th>\n      <th>Comprador_id</th>\n      <th>Nombre</th>\n      <th>Apellido</th>\n      <th>Edad</th>\n    </tr>\n  </thead>\n  <tbody>\n    <tr>\n      <th>0</th>\n      <td>1</td>\n      <td>Joan</td>\n      <td>Gasull</td>\n      <td>25</td>\n    </tr>\n    <tr>\n      <th>4</th>\n      <td>2</td>\n      <td>Joan</td>\n      <td>Lopez</td>\n      <td>33</td>\n    </tr>\n    <tr>\n      <th>5</th>\n      <td>3</td>\n      <td>Maria</td>\n      <td>Garcia</td>\n      <td>40</td>\n    </tr>\n  </tbody>\n</table>\n</div>"
     },
     "metadata": {},
     "execution_count": 6
    }
   ],
   "source": [
    "compradores = compradores[[\"Comprador_id\",\"Nombre\", \"Apellido\", \"Edad\"]]\n",
    "compradores\n"
   ]
  },
  {
   "cell_type": "code",
   "execution_count": 7,
   "metadata": {},
   "outputs": [],
   "source": [
    "productos = df.drop_duplicates( subset= \"Producto_id\", keep = \"first\")"
   ]
  },
  {
   "cell_type": "code",
   "execution_count": 8,
   "metadata": {},
   "outputs": [
    {
     "output_type": "execute_result",
     "data": {
      "text/plain": [
       "   Producto_id   Producto  Precio  Coste  Margen\n",
       "0            1    Libreta     1.2   0.40    0.80\n",
       "1            2  Boligrafo     0.4   0.15    0.25"
      ],
      "text/html": "<div>\n<style scoped>\n    .dataframe tbody tr th:only-of-type {\n        vertical-align: middle;\n    }\n\n    .dataframe tbody tr th {\n        vertical-align: top;\n    }\n\n    .dataframe thead th {\n        text-align: right;\n    }\n</style>\n<table border=\"1\" class=\"dataframe\">\n  <thead>\n    <tr style=\"text-align: right;\">\n      <th></th>\n      <th>Producto_id</th>\n      <th>Producto</th>\n      <th>Precio</th>\n      <th>Coste</th>\n      <th>Margen</th>\n    </tr>\n  </thead>\n  <tbody>\n    <tr>\n      <th>0</th>\n      <td>1</td>\n      <td>Libreta</td>\n      <td>1.2</td>\n      <td>0.40</td>\n      <td>0.80</td>\n    </tr>\n    <tr>\n      <th>1</th>\n      <td>2</td>\n      <td>Boligrafo</td>\n      <td>0.4</td>\n      <td>0.15</td>\n      <td>0.25</td>\n    </tr>\n  </tbody>\n</table>\n</div>"
     },
     "metadata": {},
     "execution_count": 8
    }
   ],
   "source": [
    "productos = productos[[\"Producto_id\",\"Producto\",\"Precio\",\"Coste\",\"Margen\"]]\n",
    "productos"
   ]
  },
  {
   "cell_type": "code",
   "execution_count": 9,
   "metadata": {},
   "outputs": [
    {
     "output_type": "execute_result",
     "data": {
      "text/plain": [
       "   Comprador_id  Producto_id       Fecha  Cantidad\n",
       "0             1            1  03-02-2018         3\n",
       "1             1            2  03-02-2018         1\n",
       "2             1            1  15-02-2018         2\n",
       "3             1            2  01-02-2018         4\n",
       "4             2            1  05-03-2018        10\n",
       "5             3            1  13-04-2018        20\n",
       "6             3            2  09-02-2018         1\n",
       "7             3            2  03-04-2018         3"
      ],
      "text/html": "<div>\n<style scoped>\n    .dataframe tbody tr th:only-of-type {\n        vertical-align: middle;\n    }\n\n    .dataframe tbody tr th {\n        vertical-align: top;\n    }\n\n    .dataframe thead th {\n        text-align: right;\n    }\n</style>\n<table border=\"1\" class=\"dataframe\">\n  <thead>\n    <tr style=\"text-align: right;\">\n      <th></th>\n      <th>Comprador_id</th>\n      <th>Producto_id</th>\n      <th>Fecha</th>\n      <th>Cantidad</th>\n    </tr>\n  </thead>\n  <tbody>\n    <tr>\n      <th>0</th>\n      <td>1</td>\n      <td>1</td>\n      <td>03-02-2018</td>\n      <td>3</td>\n    </tr>\n    <tr>\n      <th>1</th>\n      <td>1</td>\n      <td>2</td>\n      <td>03-02-2018</td>\n      <td>1</td>\n    </tr>\n    <tr>\n      <th>2</th>\n      <td>1</td>\n      <td>1</td>\n      <td>15-02-2018</td>\n      <td>2</td>\n    </tr>\n    <tr>\n      <th>3</th>\n      <td>1</td>\n      <td>2</td>\n      <td>01-02-2018</td>\n      <td>4</td>\n    </tr>\n    <tr>\n      <th>4</th>\n      <td>2</td>\n      <td>1</td>\n      <td>05-03-2018</td>\n      <td>10</td>\n    </tr>\n    <tr>\n      <th>5</th>\n      <td>3</td>\n      <td>1</td>\n      <td>13-04-2018</td>\n      <td>20</td>\n    </tr>\n    <tr>\n      <th>6</th>\n      <td>3</td>\n      <td>2</td>\n      <td>09-02-2018</td>\n      <td>1</td>\n    </tr>\n    <tr>\n      <th>7</th>\n      <td>3</td>\n      <td>2</td>\n      <td>03-04-2018</td>\n      <td>3</td>\n    </tr>\n  </tbody>\n</table>\n</div>"
     },
     "metadata": {},
     "execution_count": 9
    }
   ],
   "source": [
    "compras = df[[\"Comprador_id\",\"Producto_id\",\"Fecha\",\"Cantidad\"]]\n",
    "compras"
   ]
  }
 ]
}