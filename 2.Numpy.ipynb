{
 "metadata": {
  "language_info": {
   "codemirror_mode": {
    "name": "ipython",
    "version": 3
   },
   "file_extension": ".py",
   "mimetype": "text/x-python",
   "name": "python",
   "nbconvert_exporter": "python",
   "pygments_lexer": "ipython3",
   "version": "3.8.5-final"
  },
  "orig_nbformat": 2,
  "kernelspec": {
   "name": "python3",
   "display_name": "Python 3",
   "language": "python"
  }
 },
 "nbformat": 4,
 "nbformat_minor": 2,
 "cells": [
  {
   "cell_type": "code",
   "execution_count": 1,
   "metadata": {},
   "outputs": [],
   "source": [
    "import pandas as pd \n",
    "import numpy as np \n",
    "\n",
    "df = pd.read_csv(\"../Tascas/Data/DelayedFlights.csv\", nrows=10000)"
   ]
  },
  {
   "cell_type": "code",
   "execution_count": 2,
   "metadata": {},
   "outputs": [
    {
     "output_type": "execute_result",
     "data": {
      "text/plain": [
       "array([[nan, nan],\n",
       "       [nan,  1.]])"
      ]
     },
     "metadata": {},
     "execution_count": 2
    }
   ],
   "source": [
    "np.corrcoef(df[\"ArrDelay\"], df[\"DepDelay\"])"
   ]
  },
  {
   "cell_type": "code",
   "execution_count": 3,
   "metadata": {},
   "outputs": [
    {
     "output_type": "execute_result",
     "data": {
      "text/plain": [
       "array([[1.        , 0.95478414],\n",
       "       [0.95478414, 1.        ]])"
      ]
     },
     "metadata": {},
     "execution_count": 3
    }
   ],
   "source": [
    "df.dropna(inplace = True, subset=[\"ArrDelay\", \"DepDelay\", \"DepTime\"])\n",
    "np.corrcoef(df[\"ArrDelay\"], df[\"DepDelay\"])"
   ]
  },
  {
   "cell_type": "code",
   "execution_count": 4,
   "metadata": {},
   "outputs": [
    {
     "output_type": "execute_result",
     "data": {
      "text/plain": [
       "   Unnamed: 0  Year  Month  DayofMonth  DayOfWeek  DepTime  CRSDepTime  \\\n",
       "0           0  2008      1           3          4   2003.0        1955   \n",
       "1           1  2008      1           3          4    754.0         735   \n",
       "2           2  2008      1           3          4    628.0         620   \n",
       "3           4  2008      1           3          4   1829.0        1755   \n",
       "4           5  2008      1           3          4   1940.0        1915   \n",
       "\n",
       "   ArrTime  CRSArrTime UniqueCarrier  ...  TaxiIn TaxiOut  Cancelled  \\\n",
       "0   2211.0        2225            WN  ...     4.0     8.0          0   \n",
       "1   1002.0        1000            WN  ...     5.0    10.0          0   \n",
       "2    804.0         750            WN  ...     3.0    17.0          0   \n",
       "3   1959.0        1925            WN  ...     3.0    10.0          0   \n",
       "4   2121.0        2110            WN  ...     4.0    10.0          0   \n",
       "\n",
       "   CancellationCode  Diverted  CarrierDelay  WeatherDelay NASDelay  \\\n",
       "0                 N         0           NaN           NaN      NaN   \n",
       "1                 N         0           NaN           NaN      NaN   \n",
       "2                 N         0           NaN           NaN      NaN   \n",
       "3                 N         0           2.0           0.0      0.0   \n",
       "4                 N         0           NaN           NaN      NaN   \n",
       "\n",
       "  SecurityDelay  LateAircraftDelay  \n",
       "0           NaN                NaN  \n",
       "1           NaN                NaN  \n",
       "2           NaN                NaN  \n",
       "3           0.0               32.0  \n",
       "4           NaN                NaN  \n",
       "\n",
       "[5 rows x 30 columns]"
      ],
      "text/html": "<div>\n<style scoped>\n    .dataframe tbody tr th:only-of-type {\n        vertical-align: middle;\n    }\n\n    .dataframe tbody tr th {\n        vertical-align: top;\n    }\n\n    .dataframe thead th {\n        text-align: right;\n    }\n</style>\n<table border=\"1\" class=\"dataframe\">\n  <thead>\n    <tr style=\"text-align: right;\">\n      <th></th>\n      <th>Unnamed: 0</th>\n      <th>Year</th>\n      <th>Month</th>\n      <th>DayofMonth</th>\n      <th>DayOfWeek</th>\n      <th>DepTime</th>\n      <th>CRSDepTime</th>\n      <th>ArrTime</th>\n      <th>CRSArrTime</th>\n      <th>UniqueCarrier</th>\n      <th>...</th>\n      <th>TaxiIn</th>\n      <th>TaxiOut</th>\n      <th>Cancelled</th>\n      <th>CancellationCode</th>\n      <th>Diverted</th>\n      <th>CarrierDelay</th>\n      <th>WeatherDelay</th>\n      <th>NASDelay</th>\n      <th>SecurityDelay</th>\n      <th>LateAircraftDelay</th>\n    </tr>\n  </thead>\n  <tbody>\n    <tr>\n      <th>0</th>\n      <td>0</td>\n      <td>2008</td>\n      <td>1</td>\n      <td>3</td>\n      <td>4</td>\n      <td>2003.0</td>\n      <td>1955</td>\n      <td>2211.0</td>\n      <td>2225</td>\n      <td>WN</td>\n      <td>...</td>\n      <td>4.0</td>\n      <td>8.0</td>\n      <td>0</td>\n      <td>N</td>\n      <td>0</td>\n      <td>NaN</td>\n      <td>NaN</td>\n      <td>NaN</td>\n      <td>NaN</td>\n      <td>NaN</td>\n    </tr>\n    <tr>\n      <th>1</th>\n      <td>1</td>\n      <td>2008</td>\n      <td>1</td>\n      <td>3</td>\n      <td>4</td>\n      <td>754.0</td>\n      <td>735</td>\n      <td>1002.0</td>\n      <td>1000</td>\n      <td>WN</td>\n      <td>...</td>\n      <td>5.0</td>\n      <td>10.0</td>\n      <td>0</td>\n      <td>N</td>\n      <td>0</td>\n      <td>NaN</td>\n      <td>NaN</td>\n      <td>NaN</td>\n      <td>NaN</td>\n      <td>NaN</td>\n    </tr>\n    <tr>\n      <th>2</th>\n      <td>2</td>\n      <td>2008</td>\n      <td>1</td>\n      <td>3</td>\n      <td>4</td>\n      <td>628.0</td>\n      <td>620</td>\n      <td>804.0</td>\n      <td>750</td>\n      <td>WN</td>\n      <td>...</td>\n      <td>3.0</td>\n      <td>17.0</td>\n      <td>0</td>\n      <td>N</td>\n      <td>0</td>\n      <td>NaN</td>\n      <td>NaN</td>\n      <td>NaN</td>\n      <td>NaN</td>\n      <td>NaN</td>\n    </tr>\n    <tr>\n      <th>3</th>\n      <td>4</td>\n      <td>2008</td>\n      <td>1</td>\n      <td>3</td>\n      <td>4</td>\n      <td>1829.0</td>\n      <td>1755</td>\n      <td>1959.0</td>\n      <td>1925</td>\n      <td>WN</td>\n      <td>...</td>\n      <td>3.0</td>\n      <td>10.0</td>\n      <td>0</td>\n      <td>N</td>\n      <td>0</td>\n      <td>2.0</td>\n      <td>0.0</td>\n      <td>0.0</td>\n      <td>0.0</td>\n      <td>32.0</td>\n    </tr>\n    <tr>\n      <th>4</th>\n      <td>5</td>\n      <td>2008</td>\n      <td>1</td>\n      <td>3</td>\n      <td>4</td>\n      <td>1940.0</td>\n      <td>1915</td>\n      <td>2121.0</td>\n      <td>2110</td>\n      <td>WN</td>\n      <td>...</td>\n      <td>4.0</td>\n      <td>10.0</td>\n      <td>0</td>\n      <td>N</td>\n      <td>0</td>\n      <td>NaN</td>\n      <td>NaN</td>\n      <td>NaN</td>\n      <td>NaN</td>\n      <td>NaN</td>\n    </tr>\n  </tbody>\n</table>\n<p>5 rows × 30 columns</p>\n</div>"
     },
     "metadata": {},
     "execution_count": 4
    }
   ],
   "source": [
    "df.head()"
   ]
  },
  {
   "cell_type": "code",
   "execution_count": 5,
   "metadata": {},
   "outputs": [
    {
     "output_type": "execute_result",
     "data": {
      "text/plain": [
       "array([[1.        , 0.95478414, 0.28460667],\n",
       "       [0.95478414, 1.        , 0.29664147],\n",
       "       [0.28460667, 0.29664147, 1.        ]])"
      ]
     },
     "metadata": {},
     "execution_count": 5
    }
   ],
   "source": [
    "np.corrcoef([df[\"ArrDelay\"], df[\"DepDelay\"], df[\"DepTime\"]])"
   ]
  },
  {
   "cell_type": "code",
   "execution_count": 6,
   "metadata": {},
   "outputs": [],
   "source": [
    "df.drop(inplace = True, columns = [\"Year\",\"Cancelled\", \"Diverted\"])"
   ]
  },
  {
   "cell_type": "code",
   "execution_count": 7,
   "metadata": {},
   "outputs": [
    {
     "output_type": "execute_result",
     "data": {
      "text/plain": [
       "                   Unnamed: 0  Month  DayofMonth  DayOfWeek   DepTime  \\\n",
       "Unnamed: 0           1.000000    NaN    0.991420  -0.358006 -0.020227   \n",
       "Month                     NaN    NaN         NaN        NaN       NaN   \n",
       "DayofMonth           0.991420    NaN    1.000000  -0.349091 -0.018495   \n",
       "DayOfWeek           -0.358006    NaN   -0.349091   1.000000  0.075997   \n",
       "DepTime             -0.020227    NaN   -0.018495   0.075997  1.000000   \n",
       "CRSDepTime          -0.001892    NaN    0.001141   0.064448  0.980572   \n",
       "ArrTime              0.023886    NaN    0.024008   0.051154  0.551090   \n",
       "CRSArrTime           0.003763    NaN    0.003639   0.050873  0.756413   \n",
       "FlightNum           -0.004143    NaN   -0.006856   0.000223  0.018485   \n",
       "ActualElapsedTime   -0.033342    NaN   -0.029409   0.004454 -0.132874   \n",
       "CRSElapsedTime      -0.031458    NaN   -0.027395   0.001990 -0.131922   \n",
       "AirTime             -0.027406    NaN   -0.022923  -0.001857 -0.128464   \n",
       "ArrDelay            -0.113298    NaN   -0.121096   0.063465  0.284607   \n",
       "DepDelay            -0.119733    NaN   -0.127570   0.063678  0.296641   \n",
       "Distance            -0.028543    NaN   -0.025791  -0.001005 -0.119529   \n",
       "TaxiIn              -0.078881    NaN   -0.082625   0.072505  0.044816   \n",
       "TaxiOut             -0.015699    NaN   -0.018062   0.018176 -0.088113   \n",
       "CarrierDelay        -0.043122    NaN   -0.038562   0.017792 -0.018099   \n",
       "WeatherDelay         0.012703    NaN    0.012033  -0.024533 -0.030768   \n",
       "NASDelay             0.029754    NaN    0.026635  -0.027724 -0.077938   \n",
       "SecurityDelay        0.053417    NaN    0.051257   0.018307 -0.043389   \n",
       "LateAircraftDelay   -0.084005    NaN   -0.092395   0.032443  0.292759   \n",
       "\n",
       "                   CRSDepTime   ArrTime  CRSArrTime  FlightNum  \\\n",
       "Unnamed: 0          -0.001892  0.023886    0.003763  -0.004143   \n",
       "Month                     NaN       NaN         NaN        NaN   \n",
       "DayofMonth           0.001141  0.024008    0.003639  -0.006856   \n",
       "DayOfWeek            0.064448  0.051154    0.050873   0.000223   \n",
       "DepTime              0.980572  0.551090    0.756413   0.018485   \n",
       "CRSDepTime           1.000000  0.559755    0.771256   0.021198   \n",
       "ArrTime              0.559755  1.000000    0.736689   0.001376   \n",
       "CRSArrTime           0.771256  0.736689    1.000000   0.001211   \n",
       "FlightNum            0.021198  0.001376    0.001211   1.000000   \n",
       "ActualElapsedTime   -0.140086 -0.080151   -0.047465   0.047767   \n",
       "CRSElapsedTime      -0.138437 -0.081580   -0.043553   0.055050   \n",
       "AirTime             -0.134079 -0.078069   -0.042772   0.050287   \n",
       "ArrDelay             0.189586  0.008568    0.116944  -0.027203   \n",
       "DepDelay             0.196026  0.001427    0.128518  -0.013163   \n",
       "Distance            -0.126816 -0.087814   -0.038487   0.042765   \n",
       "TaxiIn               0.041156  0.055824    0.048695  -0.007116   \n",
       "TaxiOut             -0.102076 -0.064191   -0.079181  -0.011715   \n",
       "CarrierDelay        -0.070309 -0.048106   -0.048740   0.017464   \n",
       "WeatherDelay        -0.063441 -0.031344   -0.048994  -0.001503   \n",
       "NASDelay            -0.097336 -0.048832   -0.079375  -0.015651   \n",
       "SecurityDelay       -0.042242 -0.015185   -0.024281  -0.007453   \n",
       "LateAircraftDelay    0.223953 -0.031730    0.147308  -0.009518   \n",
       "\n",
       "                   ActualElapsedTime  ...  ArrDelay  DepDelay  Distance  \\\n",
       "Unnamed: 0                 -0.033342  ... -0.113298 -0.119733 -0.028543   \n",
       "Month                            NaN  ...       NaN       NaN       NaN   \n",
       "DayofMonth                 -0.029409  ... -0.121096 -0.127570 -0.025791   \n",
       "DayOfWeek                   0.004454  ...  0.063465  0.063678 -0.001005   \n",
       "DepTime                    -0.132874  ...  0.284607  0.296641 -0.119529   \n",
       "CRSDepTime                 -0.140086  ...  0.189586  0.196026 -0.126816   \n",
       "ArrTime                    -0.080151  ...  0.008568  0.001427 -0.087814   \n",
       "CRSArrTime                 -0.047465  ...  0.116944  0.128518 -0.038487   \n",
       "FlightNum                   0.047767  ... -0.027203 -0.013163  0.042765   \n",
       "ActualElapsedTime           1.000000  ... -0.039859 -0.006190  0.965828   \n",
       "CRSElapsedTime              0.983617  ... -0.102351 -0.016555  0.980578   \n",
       "AirTime                     0.992326  ... -0.071984 -0.016579  0.973364   \n",
       "ArrDelay                   -0.039859  ...  1.000000  0.954784 -0.089035   \n",
       "DepDelay                   -0.006190  ...  0.954784  1.000000 -0.006365   \n",
       "Distance                    0.965828  ... -0.089035 -0.006365  1.000000   \n",
       "TaxiIn                      0.160397  ...  0.129251  0.040969  0.076032   \n",
       "TaxiOut                     0.141447  ...  0.219225  0.072445  0.042307   \n",
       "CarrierDelay                0.097598  ...  0.320829  0.336620  0.100538   \n",
       "WeatherDelay                0.039923  ...  0.251539  0.214724  0.003885   \n",
       "NASDelay                    0.090296  ...  0.279115  0.104352 -0.053595   \n",
       "SecurityDelay               0.024754  ... -0.023927 -0.024895  0.022129   \n",
       "LateAircraftDelay          -0.070298  ...  0.735978  0.765640 -0.032466   \n",
       "\n",
       "                     TaxiIn   TaxiOut  CarrierDelay  WeatherDelay  NASDelay  \\\n",
       "Unnamed: 0        -0.078881 -0.015699     -0.043122      0.012703  0.029754   \n",
       "Month                   NaN       NaN           NaN           NaN       NaN   \n",
       "DayofMonth        -0.082625 -0.018062     -0.038562      0.012033  0.026635   \n",
       "DayOfWeek          0.072505  0.018176      0.017792     -0.024533 -0.027724   \n",
       "DepTime            0.044816 -0.088113     -0.018099     -0.030768 -0.077938   \n",
       "CRSDepTime         0.041156 -0.102076     -0.070309     -0.063441 -0.097336   \n",
       "ArrTime            0.055824 -0.064191     -0.048106     -0.031344 -0.048832   \n",
       "CRSArrTime         0.048695 -0.079181     -0.048740     -0.048994 -0.079375   \n",
       "FlightNum         -0.007116 -0.011715      0.017464     -0.001503 -0.015651   \n",
       "ActualElapsedTime  0.160397  0.141447      0.097598      0.039923  0.090296   \n",
       "CRSElapsedTime     0.099085  0.043994      0.107623      0.015077 -0.028208   \n",
       "AirTime            0.096623  0.033553      0.102179      0.025134  0.023925   \n",
       "ArrDelay           0.129251  0.219225      0.320829      0.251539  0.279115   \n",
       "DepDelay           0.040969  0.072445      0.336620      0.214724  0.104352   \n",
       "Distance           0.076032  0.042307      0.100538      0.003885 -0.053595   \n",
       "TaxiIn             1.000000  0.049736     -0.024094      0.047124  0.233106   \n",
       "TaxiOut            0.049736  1.000000     -0.003390      0.092002  0.384671   \n",
       "CarrierDelay      -0.024094 -0.003390      1.000000     -0.073075 -0.078950   \n",
       "WeatherDelay       0.047124  0.092002     -0.073075      1.000000  0.059906   \n",
       "NASDelay           0.233106  0.384671     -0.078950      0.059906  1.000000   \n",
       "SecurityDelay      0.012476 -0.012238     -0.046998     -0.011044 -0.010498   \n",
       "LateAircraftDelay -0.013137 -0.037666     -0.177124     -0.029502 -0.099569   \n",
       "\n",
       "                   SecurityDelay  LateAircraftDelay  \n",
       "Unnamed: 0              0.053417          -0.084005  \n",
       "Month                        NaN                NaN  \n",
       "DayofMonth              0.051257          -0.092395  \n",
       "DayOfWeek               0.018307           0.032443  \n",
       "DepTime                -0.043389           0.292759  \n",
       "CRSDepTime             -0.042242           0.223953  \n",
       "ArrTime                -0.015185          -0.031730  \n",
       "CRSArrTime             -0.024281           0.147308  \n",
       "FlightNum              -0.007453          -0.009518  \n",
       "ActualElapsedTime       0.024754          -0.070298  \n",
       "CRSElapsedTime          0.023728          -0.047871  \n",
       "AirTime                 0.026020          -0.065988  \n",
       "ArrDelay               -0.023927           0.735978  \n",
       "DepDelay               -0.024895           0.765640  \n",
       "Distance                0.022129          -0.032466  \n",
       "TaxiIn                  0.012476          -0.013137  \n",
       "TaxiOut                -0.012238          -0.037666  \n",
       "CarrierDelay           -0.046998          -0.177124  \n",
       "WeatherDelay           -0.011044          -0.029502  \n",
       "NASDelay               -0.010498          -0.099569  \n",
       "SecurityDelay           1.000000          -0.045175  \n",
       "LateAircraftDelay      -0.045175           1.000000  \n",
       "\n",
       "[22 rows x 22 columns]"
      ],
      "text/html": "<div>\n<style scoped>\n    .dataframe tbody tr th:only-of-type {\n        vertical-align: middle;\n    }\n\n    .dataframe tbody tr th {\n        vertical-align: top;\n    }\n\n    .dataframe thead th {\n        text-align: right;\n    }\n</style>\n<table border=\"1\" class=\"dataframe\">\n  <thead>\n    <tr style=\"text-align: right;\">\n      <th></th>\n      <th>Unnamed: 0</th>\n      <th>Month</th>\n      <th>DayofMonth</th>\n      <th>DayOfWeek</th>\n      <th>DepTime</th>\n      <th>CRSDepTime</th>\n      <th>ArrTime</th>\n      <th>CRSArrTime</th>\n      <th>FlightNum</th>\n      <th>ActualElapsedTime</th>\n      <th>...</th>\n      <th>ArrDelay</th>\n      <th>DepDelay</th>\n      <th>Distance</th>\n      <th>TaxiIn</th>\n      <th>TaxiOut</th>\n      <th>CarrierDelay</th>\n      <th>WeatherDelay</th>\n      <th>NASDelay</th>\n      <th>SecurityDelay</th>\n      <th>LateAircraftDelay</th>\n    </tr>\n  </thead>\n  <tbody>\n    <tr>\n      <th>Unnamed: 0</th>\n      <td>1.000000</td>\n      <td>NaN</td>\n      <td>0.991420</td>\n      <td>-0.358006</td>\n      <td>-0.020227</td>\n      <td>-0.001892</td>\n      <td>0.023886</td>\n      <td>0.003763</td>\n      <td>-0.004143</td>\n      <td>-0.033342</td>\n      <td>...</td>\n      <td>-0.113298</td>\n      <td>-0.119733</td>\n      <td>-0.028543</td>\n      <td>-0.078881</td>\n      <td>-0.015699</td>\n      <td>-0.043122</td>\n      <td>0.012703</td>\n      <td>0.029754</td>\n      <td>0.053417</td>\n      <td>-0.084005</td>\n    </tr>\n    <tr>\n      <th>Month</th>\n      <td>NaN</td>\n      <td>NaN</td>\n      <td>NaN</td>\n      <td>NaN</td>\n      <td>NaN</td>\n      <td>NaN</td>\n      <td>NaN</td>\n      <td>NaN</td>\n      <td>NaN</td>\n      <td>NaN</td>\n      <td>...</td>\n      <td>NaN</td>\n      <td>NaN</td>\n      <td>NaN</td>\n      <td>NaN</td>\n      <td>NaN</td>\n      <td>NaN</td>\n      <td>NaN</td>\n      <td>NaN</td>\n      <td>NaN</td>\n      <td>NaN</td>\n    </tr>\n    <tr>\n      <th>DayofMonth</th>\n      <td>0.991420</td>\n      <td>NaN</td>\n      <td>1.000000</td>\n      <td>-0.349091</td>\n      <td>-0.018495</td>\n      <td>0.001141</td>\n      <td>0.024008</td>\n      <td>0.003639</td>\n      <td>-0.006856</td>\n      <td>-0.029409</td>\n      <td>...</td>\n      <td>-0.121096</td>\n      <td>-0.127570</td>\n      <td>-0.025791</td>\n      <td>-0.082625</td>\n      <td>-0.018062</td>\n      <td>-0.038562</td>\n      <td>0.012033</td>\n      <td>0.026635</td>\n      <td>0.051257</td>\n      <td>-0.092395</td>\n    </tr>\n    <tr>\n      <th>DayOfWeek</th>\n      <td>-0.358006</td>\n      <td>NaN</td>\n      <td>-0.349091</td>\n      <td>1.000000</td>\n      <td>0.075997</td>\n      <td>0.064448</td>\n      <td>0.051154</td>\n      <td>0.050873</td>\n      <td>0.000223</td>\n      <td>0.004454</td>\n      <td>...</td>\n      <td>0.063465</td>\n      <td>0.063678</td>\n      <td>-0.001005</td>\n      <td>0.072505</td>\n      <td>0.018176</td>\n      <td>0.017792</td>\n      <td>-0.024533</td>\n      <td>-0.027724</td>\n      <td>0.018307</td>\n      <td>0.032443</td>\n    </tr>\n    <tr>\n      <th>DepTime</th>\n      <td>-0.020227</td>\n      <td>NaN</td>\n      <td>-0.018495</td>\n      <td>0.075997</td>\n      <td>1.000000</td>\n      <td>0.980572</td>\n      <td>0.551090</td>\n      <td>0.756413</td>\n      <td>0.018485</td>\n      <td>-0.132874</td>\n      <td>...</td>\n      <td>0.284607</td>\n      <td>0.296641</td>\n      <td>-0.119529</td>\n      <td>0.044816</td>\n      <td>-0.088113</td>\n      <td>-0.018099</td>\n      <td>-0.030768</td>\n      <td>-0.077938</td>\n      <td>-0.043389</td>\n      <td>0.292759</td>\n    </tr>\n    <tr>\n      <th>CRSDepTime</th>\n      <td>-0.001892</td>\n      <td>NaN</td>\n      <td>0.001141</td>\n      <td>0.064448</td>\n      <td>0.980572</td>\n      <td>1.000000</td>\n      <td>0.559755</td>\n      <td>0.771256</td>\n      <td>0.021198</td>\n      <td>-0.140086</td>\n      <td>...</td>\n      <td>0.189586</td>\n      <td>0.196026</td>\n      <td>-0.126816</td>\n      <td>0.041156</td>\n      <td>-0.102076</td>\n      <td>-0.070309</td>\n      <td>-0.063441</td>\n      <td>-0.097336</td>\n      <td>-0.042242</td>\n      <td>0.223953</td>\n    </tr>\n    <tr>\n      <th>ArrTime</th>\n      <td>0.023886</td>\n      <td>NaN</td>\n      <td>0.024008</td>\n      <td>0.051154</td>\n      <td>0.551090</td>\n      <td>0.559755</td>\n      <td>1.000000</td>\n      <td>0.736689</td>\n      <td>0.001376</td>\n      <td>-0.080151</td>\n      <td>...</td>\n      <td>0.008568</td>\n      <td>0.001427</td>\n      <td>-0.087814</td>\n      <td>0.055824</td>\n      <td>-0.064191</td>\n      <td>-0.048106</td>\n      <td>-0.031344</td>\n      <td>-0.048832</td>\n      <td>-0.015185</td>\n      <td>-0.031730</td>\n    </tr>\n    <tr>\n      <th>CRSArrTime</th>\n      <td>0.003763</td>\n      <td>NaN</td>\n      <td>0.003639</td>\n      <td>0.050873</td>\n      <td>0.756413</td>\n      <td>0.771256</td>\n      <td>0.736689</td>\n      <td>1.000000</td>\n      <td>0.001211</td>\n      <td>-0.047465</td>\n      <td>...</td>\n      <td>0.116944</td>\n      <td>0.128518</td>\n      <td>-0.038487</td>\n      <td>0.048695</td>\n      <td>-0.079181</td>\n      <td>-0.048740</td>\n      <td>-0.048994</td>\n      <td>-0.079375</td>\n      <td>-0.024281</td>\n      <td>0.147308</td>\n    </tr>\n    <tr>\n      <th>FlightNum</th>\n      <td>-0.004143</td>\n      <td>NaN</td>\n      <td>-0.006856</td>\n      <td>0.000223</td>\n      <td>0.018485</td>\n      <td>0.021198</td>\n      <td>0.001376</td>\n      <td>0.001211</td>\n      <td>1.000000</td>\n      <td>0.047767</td>\n      <td>...</td>\n      <td>-0.027203</td>\n      <td>-0.013163</td>\n      <td>0.042765</td>\n      <td>-0.007116</td>\n      <td>-0.011715</td>\n      <td>0.017464</td>\n      <td>-0.001503</td>\n      <td>-0.015651</td>\n      <td>-0.007453</td>\n      <td>-0.009518</td>\n    </tr>\n    <tr>\n      <th>ActualElapsedTime</th>\n      <td>-0.033342</td>\n      <td>NaN</td>\n      <td>-0.029409</td>\n      <td>0.004454</td>\n      <td>-0.132874</td>\n      <td>-0.140086</td>\n      <td>-0.080151</td>\n      <td>-0.047465</td>\n      <td>0.047767</td>\n      <td>1.000000</td>\n      <td>...</td>\n      <td>-0.039859</td>\n      <td>-0.006190</td>\n      <td>0.965828</td>\n      <td>0.160397</td>\n      <td>0.141447</td>\n      <td>0.097598</td>\n      <td>0.039923</td>\n      <td>0.090296</td>\n      <td>0.024754</td>\n      <td>-0.070298</td>\n    </tr>\n    <tr>\n      <th>CRSElapsedTime</th>\n      <td>-0.031458</td>\n      <td>NaN</td>\n      <td>-0.027395</td>\n      <td>0.001990</td>\n      <td>-0.131922</td>\n      <td>-0.138437</td>\n      <td>-0.081580</td>\n      <td>-0.043553</td>\n      <td>0.055050</td>\n      <td>0.983617</td>\n      <td>...</td>\n      <td>-0.102351</td>\n      <td>-0.016555</td>\n      <td>0.980578</td>\n      <td>0.099085</td>\n      <td>0.043994</td>\n      <td>0.107623</td>\n      <td>0.015077</td>\n      <td>-0.028208</td>\n      <td>0.023728</td>\n      <td>-0.047871</td>\n    </tr>\n    <tr>\n      <th>AirTime</th>\n      <td>-0.027406</td>\n      <td>NaN</td>\n      <td>-0.022923</td>\n      <td>-0.001857</td>\n      <td>-0.128464</td>\n      <td>-0.134079</td>\n      <td>-0.078069</td>\n      <td>-0.042772</td>\n      <td>0.050287</td>\n      <td>0.992326</td>\n      <td>...</td>\n      <td>-0.071984</td>\n      <td>-0.016579</td>\n      <td>0.973364</td>\n      <td>0.096623</td>\n      <td>0.033553</td>\n      <td>0.102179</td>\n      <td>0.025134</td>\n      <td>0.023925</td>\n      <td>0.026020</td>\n      <td>-0.065988</td>\n    </tr>\n    <tr>\n      <th>ArrDelay</th>\n      <td>-0.113298</td>\n      <td>NaN</td>\n      <td>-0.121096</td>\n      <td>0.063465</td>\n      <td>0.284607</td>\n      <td>0.189586</td>\n      <td>0.008568</td>\n      <td>0.116944</td>\n      <td>-0.027203</td>\n      <td>-0.039859</td>\n      <td>...</td>\n      <td>1.000000</td>\n      <td>0.954784</td>\n      <td>-0.089035</td>\n      <td>0.129251</td>\n      <td>0.219225</td>\n      <td>0.320829</td>\n      <td>0.251539</td>\n      <td>0.279115</td>\n      <td>-0.023927</td>\n      <td>0.735978</td>\n    </tr>\n    <tr>\n      <th>DepDelay</th>\n      <td>-0.119733</td>\n      <td>NaN</td>\n      <td>-0.127570</td>\n      <td>0.063678</td>\n      <td>0.296641</td>\n      <td>0.196026</td>\n      <td>0.001427</td>\n      <td>0.128518</td>\n      <td>-0.013163</td>\n      <td>-0.006190</td>\n      <td>...</td>\n      <td>0.954784</td>\n      <td>1.000000</td>\n      <td>-0.006365</td>\n      <td>0.040969</td>\n      <td>0.072445</td>\n      <td>0.336620</td>\n      <td>0.214724</td>\n      <td>0.104352</td>\n      <td>-0.024895</td>\n      <td>0.765640</td>\n    </tr>\n    <tr>\n      <th>Distance</th>\n      <td>-0.028543</td>\n      <td>NaN</td>\n      <td>-0.025791</td>\n      <td>-0.001005</td>\n      <td>-0.119529</td>\n      <td>-0.126816</td>\n      <td>-0.087814</td>\n      <td>-0.038487</td>\n      <td>0.042765</td>\n      <td>0.965828</td>\n      <td>...</td>\n      <td>-0.089035</td>\n      <td>-0.006365</td>\n      <td>1.000000</td>\n      <td>0.076032</td>\n      <td>0.042307</td>\n      <td>0.100538</td>\n      <td>0.003885</td>\n      <td>-0.053595</td>\n      <td>0.022129</td>\n      <td>-0.032466</td>\n    </tr>\n    <tr>\n      <th>TaxiIn</th>\n      <td>-0.078881</td>\n      <td>NaN</td>\n      <td>-0.082625</td>\n      <td>0.072505</td>\n      <td>0.044816</td>\n      <td>0.041156</td>\n      <td>0.055824</td>\n      <td>0.048695</td>\n      <td>-0.007116</td>\n      <td>0.160397</td>\n      <td>...</td>\n      <td>0.129251</td>\n      <td>0.040969</td>\n      <td>0.076032</td>\n      <td>1.000000</td>\n      <td>0.049736</td>\n      <td>-0.024094</td>\n      <td>0.047124</td>\n      <td>0.233106</td>\n      <td>0.012476</td>\n      <td>-0.013137</td>\n    </tr>\n    <tr>\n      <th>TaxiOut</th>\n      <td>-0.015699</td>\n      <td>NaN</td>\n      <td>-0.018062</td>\n      <td>0.018176</td>\n      <td>-0.088113</td>\n      <td>-0.102076</td>\n      <td>-0.064191</td>\n      <td>-0.079181</td>\n      <td>-0.011715</td>\n      <td>0.141447</td>\n      <td>...</td>\n      <td>0.219225</td>\n      <td>0.072445</td>\n      <td>0.042307</td>\n      <td>0.049736</td>\n      <td>1.000000</td>\n      <td>-0.003390</td>\n      <td>0.092002</td>\n      <td>0.384671</td>\n      <td>-0.012238</td>\n      <td>-0.037666</td>\n    </tr>\n    <tr>\n      <th>CarrierDelay</th>\n      <td>-0.043122</td>\n      <td>NaN</td>\n      <td>-0.038562</td>\n      <td>0.017792</td>\n      <td>-0.018099</td>\n      <td>-0.070309</td>\n      <td>-0.048106</td>\n      <td>-0.048740</td>\n      <td>0.017464</td>\n      <td>0.097598</td>\n      <td>...</td>\n      <td>0.320829</td>\n      <td>0.336620</td>\n      <td>0.100538</td>\n      <td>-0.024094</td>\n      <td>-0.003390</td>\n      <td>1.000000</td>\n      <td>-0.073075</td>\n      <td>-0.078950</td>\n      <td>-0.046998</td>\n      <td>-0.177124</td>\n    </tr>\n    <tr>\n      <th>WeatherDelay</th>\n      <td>0.012703</td>\n      <td>NaN</td>\n      <td>0.012033</td>\n      <td>-0.024533</td>\n      <td>-0.030768</td>\n      <td>-0.063441</td>\n      <td>-0.031344</td>\n      <td>-0.048994</td>\n      <td>-0.001503</td>\n      <td>0.039923</td>\n      <td>...</td>\n      <td>0.251539</td>\n      <td>0.214724</td>\n      <td>0.003885</td>\n      <td>0.047124</td>\n      <td>0.092002</td>\n      <td>-0.073075</td>\n      <td>1.000000</td>\n      <td>0.059906</td>\n      <td>-0.011044</td>\n      <td>-0.029502</td>\n    </tr>\n    <tr>\n      <th>NASDelay</th>\n      <td>0.029754</td>\n      <td>NaN</td>\n      <td>0.026635</td>\n      <td>-0.027724</td>\n      <td>-0.077938</td>\n      <td>-0.097336</td>\n      <td>-0.048832</td>\n      <td>-0.079375</td>\n      <td>-0.015651</td>\n      <td>0.090296</td>\n      <td>...</td>\n      <td>0.279115</td>\n      <td>0.104352</td>\n      <td>-0.053595</td>\n      <td>0.233106</td>\n      <td>0.384671</td>\n      <td>-0.078950</td>\n      <td>0.059906</td>\n      <td>1.000000</td>\n      <td>-0.010498</td>\n      <td>-0.099569</td>\n    </tr>\n    <tr>\n      <th>SecurityDelay</th>\n      <td>0.053417</td>\n      <td>NaN</td>\n      <td>0.051257</td>\n      <td>0.018307</td>\n      <td>-0.043389</td>\n      <td>-0.042242</td>\n      <td>-0.015185</td>\n      <td>-0.024281</td>\n      <td>-0.007453</td>\n      <td>0.024754</td>\n      <td>...</td>\n      <td>-0.023927</td>\n      <td>-0.024895</td>\n      <td>0.022129</td>\n      <td>0.012476</td>\n      <td>-0.012238</td>\n      <td>-0.046998</td>\n      <td>-0.011044</td>\n      <td>-0.010498</td>\n      <td>1.000000</td>\n      <td>-0.045175</td>\n    </tr>\n    <tr>\n      <th>LateAircraftDelay</th>\n      <td>-0.084005</td>\n      <td>NaN</td>\n      <td>-0.092395</td>\n      <td>0.032443</td>\n      <td>0.292759</td>\n      <td>0.223953</td>\n      <td>-0.031730</td>\n      <td>0.147308</td>\n      <td>-0.009518</td>\n      <td>-0.070298</td>\n      <td>...</td>\n      <td>0.735978</td>\n      <td>0.765640</td>\n      <td>-0.032466</td>\n      <td>-0.013137</td>\n      <td>-0.037666</td>\n      <td>-0.177124</td>\n      <td>-0.029502</td>\n      <td>-0.099569</td>\n      <td>-0.045175</td>\n      <td>1.000000</td>\n    </tr>\n  </tbody>\n</table>\n<p>22 rows × 22 columns</p>\n</div>"
     },
     "metadata": {},
     "execution_count": 7
    }
   ],
   "source": [
    "df.corr()"
   ]
  },
  {
   "cell_type": "code",
   "execution_count": 8,
   "metadata": {},
   "outputs": [
    {
     "output_type": "error",
     "ename": "AttributeError",
     "evalue": "'Styler' object has no attribute 'bacground_gradient'",
     "traceback": [
      "\u001b[0;31m---------------------------------------------------------------------------\u001b[0m",
      "\u001b[0;31mAttributeError\u001b[0m                            Traceback (most recent call last)",
      "\u001b[0;32m<ipython-input-8-a4d27763247a>\u001b[0m in \u001b[0;36m<module>\u001b[0;34m\u001b[0m\n\u001b[1;32m      1\u001b[0m \u001b[0mdf\u001b[0m\u001b[0;34m.\u001b[0m\u001b[0mdrop\u001b[0m\u001b[0;34m(\u001b[0m\u001b[0minplace\u001b[0m \u001b[0;34m=\u001b[0m \u001b[0;32mTrue\u001b[0m\u001b[0;34m,\u001b[0m \u001b[0mcolumns\u001b[0m \u001b[0;34m=\u001b[0m \u001b[0;34m[\u001b[0m\u001b[0;34m\"Month\"\u001b[0m\u001b[0;34m]\u001b[0m\u001b[0;34m)\u001b[0m\u001b[0;34m\u001b[0m\u001b[0;34m\u001b[0m\u001b[0m\n\u001b[1;32m      2\u001b[0m \u001b[0mcorr\u001b[0m \u001b[0;34m=\u001b[0m \u001b[0mround\u001b[0m\u001b[0;34m(\u001b[0m\u001b[0mdf\u001b[0m\u001b[0;34m.\u001b[0m\u001b[0mcorr\u001b[0m\u001b[0;34m(\u001b[0m\u001b[0;34m)\u001b[0m\u001b[0;34m,\u001b[0m\u001b[0;36m3\u001b[0m\u001b[0;34m)\u001b[0m\u001b[0;34m\u001b[0m\u001b[0;34m\u001b[0m\u001b[0m\n\u001b[0;32m----> 3\u001b[0;31m \u001b[0mcorr\u001b[0m\u001b[0;34m.\u001b[0m\u001b[0mstyle\u001b[0m\u001b[0;34m.\u001b[0m\u001b[0mbacground_gradient\u001b[0m\u001b[0;34m(\u001b[0m\u001b[0;34m)\u001b[0m\u001b[0;34m\u001b[0m\u001b[0;34m\u001b[0m\u001b[0m\n\u001b[0m",
      "\u001b[0;31mAttributeError\u001b[0m: 'Styler' object has no attribute 'bacground_gradient'"
     ]
    }
   ],
   "source": [
    "df.drop(inplace = True, columns = [\"Month\"])\n",
    "corr = round(df.corr(),3)\n",
    "corr.style.bacground_gradient()"
   ]
  },
  {
   "cell_type": "code",
   "execution_count": null,
   "metadata": {},
   "outputs": [],
   "source": [
    "#TEST CHI-CUADRADO"
   ]
  },
  {
   "cell_type": "code",
   "execution_count": 9,
   "metadata": {},
   "outputs": [],
   "source": [
    "import pandas as pd \n",
    "import numpy as np \n",
    "\n",
    "df = pd.read_csv(\"../Tascas/Data/DelayedFlights.csv\", nrows=100000)"
   ]
  },
  {
   "cell_type": "code",
   "execution_count": 10,
   "metadata": {},
   "outputs": [],
   "source": [
    "np.random.seed(0)\n",
    "df = df[df[\"Origin\"].isin([\"HOU\",\"ATL\",\"IND\"])]\n",
    "df = df.sample(frac=1)\n",
    "df = df[0:1000]"
   ]
  },
  {
   "cell_type": "code",
   "execution_count": 12,
   "metadata": {},
   "outputs": [],
   "source": [
    "df[\"BigDelay\"] = df[\"ArrDelay\"] >30\n",
    "observados = pd.crosstab(index=df['BigDelay'], columns=df['Origin'], margins= True)"
   ]
  },
  {
   "cell_type": "code",
   "execution_count": 13,
   "metadata": {},
   "outputs": [
    {
     "output_type": "execute_result",
     "data": {
      "text/plain": [
       "Origin    ATL  HOU  IND   All\n",
       "BigDelay                     \n",
       "False     336  269   36   641\n",
       "True      217  110   32   359\n",
       "All       553  379   68  1000"
      ],
      "text/html": "<div>\n<style scoped>\n    .dataframe tbody tr th:only-of-type {\n        vertical-align: middle;\n    }\n\n    .dataframe tbody tr th {\n        vertical-align: top;\n    }\n\n    .dataframe thead th {\n        text-align: right;\n    }\n</style>\n<table border=\"1\" class=\"dataframe\">\n  <thead>\n    <tr style=\"text-align: right;\">\n      <th>Origin</th>\n      <th>ATL</th>\n      <th>HOU</th>\n      <th>IND</th>\n      <th>All</th>\n    </tr>\n    <tr>\n      <th>BigDelay</th>\n      <th></th>\n      <th></th>\n      <th></th>\n      <th></th>\n    </tr>\n  </thead>\n  <tbody>\n    <tr>\n      <th>False</th>\n      <td>336</td>\n      <td>269</td>\n      <td>36</td>\n      <td>641</td>\n    </tr>\n    <tr>\n      <th>True</th>\n      <td>217</td>\n      <td>110</td>\n      <td>32</td>\n      <td>359</td>\n    </tr>\n    <tr>\n      <th>All</th>\n      <td>553</td>\n      <td>379</td>\n      <td>68</td>\n      <td>1000</td>\n    </tr>\n  </tbody>\n</table>\n</div>"
     },
     "metadata": {},
     "execution_count": 13
    }
   ],
   "source": [
    "observados"
   ]
  },
  {
   "cell_type": "code",
   "execution_count": 14,
   "metadata": {},
   "outputs": [],
   "source": [
    "from scipy.stats import chi2_contingency"
   ]
  },
  {
   "cell_type": "code",
   "execution_count": 15,
   "metadata": {},
   "outputs": [],
   "source": [
    "test = chi2_contingency(observados)"
   ]
  },
  {
   "cell_type": "code",
   "execution_count": 16,
   "metadata": {},
   "outputs": [
    {
     "output_type": "execute_result",
     "data": {
      "text/plain": [
       "(14.148521571972086,\n",
       " 0.028020388668468777,\n",
       " 6,\n",
       " array([[ 354.473,  242.939,   43.588,  641.   ],\n",
       "        [ 198.527,  136.061,   24.412,  359.   ],\n",
       "        [ 553.   ,  379.   ,   68.   , 1000.   ]]))"
      ]
     },
     "metadata": {},
     "execution_count": 16
    }
   ],
   "source": [
    "test"
   ]
  },
  {
   "cell_type": "code",
   "execution_count": 17,
   "metadata": {},
   "outputs": [],
   "source": [
    "esperados = pd.DataFrame(test[3])"
   ]
  },
  {
   "cell_type": "code",
   "execution_count": 18,
   "metadata": {},
   "outputs": [
    {
     "output_type": "execute_result",
     "data": {
      "text/plain": [
       "         0        1       2       3\n",
       "0  354.473  242.939  43.588   641.0\n",
       "1  198.527  136.061  24.412   359.0\n",
       "2  553.000  379.000  68.000  1000.0"
      ],
      "text/html": "<div>\n<style scoped>\n    .dataframe tbody tr th:only-of-type {\n        vertical-align: middle;\n    }\n\n    .dataframe tbody tr th {\n        vertical-align: top;\n    }\n\n    .dataframe thead th {\n        text-align: right;\n    }\n</style>\n<table border=\"1\" class=\"dataframe\">\n  <thead>\n    <tr style=\"text-align: right;\">\n      <th></th>\n      <th>0</th>\n      <th>1</th>\n      <th>2</th>\n      <th>3</th>\n    </tr>\n  </thead>\n  <tbody>\n    <tr>\n      <th>0</th>\n      <td>354.473</td>\n      <td>242.939</td>\n      <td>43.588</td>\n      <td>641.0</td>\n    </tr>\n    <tr>\n      <th>1</th>\n      <td>198.527</td>\n      <td>136.061</td>\n      <td>24.412</td>\n      <td>359.0</td>\n    </tr>\n    <tr>\n      <th>2</th>\n      <td>553.000</td>\n      <td>379.000</td>\n      <td>68.000</td>\n      <td>1000.0</td>\n    </tr>\n  </tbody>\n</table>\n</div>"
     },
     "metadata": {},
     "execution_count": 18
    }
   ],
   "source": [
    "esperados"
   ]
  },
  {
   "cell_type": "code",
   "execution_count": 20,
   "metadata": {},
   "outputs": [],
   "source": [
    "esperados_rel = round(esperados.apply(lambda r: r/len(df) *100, axis=1),2)"
   ]
  },
  {
   "cell_type": "code",
   "execution_count": 21,
   "metadata": {},
   "outputs": [],
   "source": [
    "observados_rel = round(observados.apply(lambda r: r/len(df) *100, axis=1),2)"
   ]
  },
  {
   "cell_type": "code",
   "execution_count": 22,
   "metadata": {},
   "outputs": [
    {
     "output_type": "execute_result",
     "data": {
      "text/plain": [
       "Origin     ATL   HOU  IND    All\n",
       "BigDelay                        \n",
       "False     33.6  26.9  3.6   64.1\n",
       "True      21.7  11.0  3.2   35.9\n",
       "All       55.3  37.9  6.8  100.0"
      ],
      "text/html": "<div>\n<style scoped>\n    .dataframe tbody tr th:only-of-type {\n        vertical-align: middle;\n    }\n\n    .dataframe tbody tr th {\n        vertical-align: top;\n    }\n\n    .dataframe thead th {\n        text-align: right;\n    }\n</style>\n<table border=\"1\" class=\"dataframe\">\n  <thead>\n    <tr style=\"text-align: right;\">\n      <th>Origin</th>\n      <th>ATL</th>\n      <th>HOU</th>\n      <th>IND</th>\n      <th>All</th>\n    </tr>\n    <tr>\n      <th>BigDelay</th>\n      <th></th>\n      <th></th>\n      <th></th>\n      <th></th>\n    </tr>\n  </thead>\n  <tbody>\n    <tr>\n      <th>False</th>\n      <td>33.6</td>\n      <td>26.9</td>\n      <td>3.6</td>\n      <td>64.1</td>\n    </tr>\n    <tr>\n      <th>True</th>\n      <td>21.7</td>\n      <td>11.0</td>\n      <td>3.2</td>\n      <td>35.9</td>\n    </tr>\n    <tr>\n      <th>All</th>\n      <td>55.3</td>\n      <td>37.9</td>\n      <td>6.8</td>\n      <td>100.0</td>\n    </tr>\n  </tbody>\n</table>\n</div>"
     },
     "metadata": {},
     "execution_count": 22
    }
   ],
   "source": [
    "observados_rel"
   ]
  },
  {
   "cell_type": "code",
   "execution_count": 23,
   "metadata": {},
   "outputs": [
    {
     "output_type": "execute_result",
     "data": {
      "text/plain": [
       "       0      1     2      3\n",
       "0  35.45  24.29  4.36   64.1\n",
       "1  19.85  13.61  2.44   35.9\n",
       "2  55.30  37.90  6.80  100.0"
      ],
      "text/html": "<div>\n<style scoped>\n    .dataframe tbody tr th:only-of-type {\n        vertical-align: middle;\n    }\n\n    .dataframe tbody tr th {\n        vertical-align: top;\n    }\n\n    .dataframe thead th {\n        text-align: right;\n    }\n</style>\n<table border=\"1\" class=\"dataframe\">\n  <thead>\n    <tr style=\"text-align: right;\">\n      <th></th>\n      <th>0</th>\n      <th>1</th>\n      <th>2</th>\n      <th>3</th>\n    </tr>\n  </thead>\n  <tbody>\n    <tr>\n      <th>0</th>\n      <td>35.45</td>\n      <td>24.29</td>\n      <td>4.36</td>\n      <td>64.1</td>\n    </tr>\n    <tr>\n      <th>1</th>\n      <td>19.85</td>\n      <td>13.61</td>\n      <td>2.44</td>\n      <td>35.9</td>\n    </tr>\n    <tr>\n      <th>2</th>\n      <td>55.30</td>\n      <td>37.90</td>\n      <td>6.80</td>\n      <td>100.0</td>\n    </tr>\n  </tbody>\n</table>\n</div>"
     },
     "metadata": {},
     "execution_count": 23
    }
   ],
   "source": [
    "esperados_rel"
   ]
  },
  {
   "cell_type": "code",
   "execution_count": 24,
   "metadata": {},
   "outputs": [
    {
     "output_type": "execute_result",
     "data": {
      "text/plain": [
       "0.028020388668468777"
      ]
     },
     "metadata": {},
     "execution_count": 24
    }
   ],
   "source": [
    "test[1]"
   ]
  },
  {
   "cell_type": "code",
   "execution_count": 26,
   "metadata": {},
   "outputs": [],
   "source": [
    "#valor < 0.05 hay diferencias significativas\n",
    "#valor > 0.05 no hay diferencias significativas\n"
   ]
  },
  {
   "cell_type": "code",
   "execution_count": 27,
   "metadata": {},
   "outputs": [],
   "source": [
    "#OUTLAYERS\n",
    "import pandas as pd \n",
    "import numpy as np \n",
    "\n",
    "df = pd.read_csv(\"../Tascas/Data/DelayedFlights.csv\", nrows=100000)"
   ]
  },
  {
   "cell_type": "code",
   "execution_count": 29,
   "metadata": {},
   "outputs": [],
   "source": [
    "x= df[\"ArrDelay\"].dropna()"
   ]
  },
  {
   "cell_type": "code",
   "execution_count": 30,
   "metadata": {},
   "outputs": [],
   "source": [
    "Q1 = np.percentile(x,25)\n",
    "Q3 = np.percentile(x,75)"
   ]
  },
  {
   "cell_type": "code",
   "execution_count": 31,
   "metadata": {},
   "outputs": [],
   "source": [
    "rangointer = Q3 -Q1"
   ]
  },
  {
   "cell_type": "code",
   "execution_count": 34,
   "metadata": {},
   "outputs": [],
   "source": [
    "umbralsuperior = Q3 + 1.5*rangointer\n",
    "umbralinferior = Q1 - 1.5*rangointer"
   ]
  },
  {
   "cell_type": "code",
   "execution_count": 35,
   "metadata": {},
   "outputs": [
    {
     "output_type": "execute_result",
     "data": {
      "text/plain": [
       "129.0"
      ]
     },
     "metadata": {},
     "execution_count": 35
    }
   ],
   "source": [
    "umbralsuperior"
   ]
  },
  {
   "cell_type": "code",
   "execution_count": 37,
   "metadata": {},
   "outputs": [
    {
     "output_type": "execute_result",
     "data": {
      "text/plain": [
       "-63.0"
      ]
     },
     "metadata": {},
     "execution_count": 37
    }
   ],
   "source": [
    "umbralinferior"
   ]
  },
  {
   "cell_type": "code",
   "execution_count": 38,
   "metadata": {},
   "outputs": [
    {
     "output_type": "execute_result",
     "data": {
      "text/plain": [
       "0.07358812318186378"
      ]
     },
     "metadata": {},
     "execution_count": 38
    }
   ],
   "source": [
    "np.mean(x > umbralsuperior)"
   ]
  },
  {
   "cell_type": "code",
   "execution_count": 39,
   "metadata": {},
   "outputs": [
    {
     "output_type": "execute_result",
     "data": {
      "text/plain": [
       "2.0062192797672787e-05"
      ]
     },
     "metadata": {},
     "execution_count": 39
    }
   ],
   "source": [
    "np.mean(x < umbralinferior)"
   ]
  },
  {
   "cell_type": "code",
   "execution_count": 40,
   "metadata": {},
   "outputs": [],
   "source": [
    "from sklearn.covariance import  EllipticEnvelope"
   ]
  },
  {
   "cell_type": "code",
   "execution_count": 48,
   "metadata": {},
   "outputs": [],
   "source": [
    "outliers = EllipticEnvelope(contamination = .01)"
   ]
  },
  {
   "cell_type": "code",
   "execution_count": 49,
   "metadata": {},
   "outputs": [],
   "source": [
    "var_list = [\"DepDelay\", \"TaxiIn\", \"TaxiOut\", \"CarrierDelay\",\"WeatherDelay\", \"NASDelay\", \"SecurityDelay\", \"LateAircraftDelay\"]"
   ]
  },
  {
   "cell_type": "code",
   "execution_count": 50,
   "metadata": {},
   "outputs": [],
   "source": [
    "x = np.array(df.loc[:,var_list].dropna())"
   ]
  },
  {
   "cell_type": "code",
   "execution_count": 51,
   "metadata": {},
   "outputs": [
    {
     "output_type": "execute_result",
     "data": {
      "text/plain": [
       "EllipticEnvelope(contamination=0.01)"
      ]
     },
     "metadata": {},
     "execution_count": 51
    }
   ],
   "source": [
    "outliers.fit(x)"
   ]
  },
  {
   "cell_type": "code",
   "execution_count": 52,
   "metadata": {},
   "outputs": [],
   "source": [
    "pred = outliers.predict(x)"
   ]
  },
  {
   "cell_type": "code",
   "execution_count": 53,
   "metadata": {},
   "outputs": [
    {
     "output_type": "execute_result",
     "data": {
      "text/plain": [
       "array([1, 1, 1, ..., 1, 1, 1])"
      ]
     },
     "metadata": {},
     "execution_count": 53
    }
   ],
   "source": [
    "pred"
   ]
  },
  {
   "cell_type": "code",
   "execution_count": 54,
   "metadata": {},
   "outputs": [],
   "source": [
    "elip_outliers = np.where(pred == -1)[0]"
   ]
  },
  {
   "cell_type": "code",
   "execution_count": 55,
   "metadata": {},
   "outputs": [
    {
     "output_type": "execute_result",
     "data": {
      "text/plain": [
       "array([   18,    56,   269,   272,   614,   615,   616,  1767,  1821,\n",
       "        2177,  2233,  2413,  2600,  2613,  2621,  2629,  2704,  3283,\n",
       "        3546,  3590,  3666,  3679,  3686,  3791,  3831,  3895,  4058,\n",
       "        4148,  4338,  4710,  5532,  5648,  5650,  5651,  5658,  5659,\n",
       "        5660,  5661,  5662,  5664,  5669,  5673,  5697,  6311,  6312,\n",
       "        6511,  6513,  6515,  6516,  6520,  6527,  6868,  8135,  8475,\n",
       "        8885,  9030,  9074,  9081,  9193,  9199,  9447,  9472,  9992,\n",
       "       10002, 11584, 12046, 12047, 12049, 12303, 12359, 12692, 12938,\n",
       "       13013, 13459, 13515, 13518, 13643, 13669, 13767, 13845, 14408,\n",
       "       14726, 15204, 15763, 16105, 16138, 16142, 16199, 16219, 16301,\n",
       "       16305, 17051, 17221, 17238, 17472, 17516, 17532, 17538, 17580,\n",
       "       17585, 17587, 18041, 18059, 18063, 18075, 18097, 18348, 18366,\n",
       "       18381, 18447, 18497, 18592, 18638, 18812, 18941, 19011, 19043,\n",
       "       19278, 19295, 19408, 19434, 19541, 19558, 19673, 19717, 19800,\n",
       "       19862, 19888, 19959, 19989, 20042, 20064, 20159, 20298, 20421,\n",
       "       20576, 20735, 20795, 20835, 20848, 20873, 20885, 20967, 21169,\n",
       "       21171, 21387, 21477, 21580, 21660, 21855, 21879, 21961, 21997,\n",
       "       22068, 22092, 22341, 22356, 22358, 22372, 22419, 22568, 22645,\n",
       "       22704, 22714, 23158, 23479, 23483, 23484, 23575, 23595, 23820,\n",
       "       23844, 23892, 23911, 23967, 23970, 23979, 24071, 24651, 24669,\n",
       "       24862, 25019, 25040, 25047, 25050, 25171, 25265, 25306, 25587,\n",
       "       25630, 25743, 25890, 25913, 26042, 26224, 26231, 26276, 26283,\n",
       "       26293, 26308, 26315, 26316, 26327, 26329, 26340, 26352, 26379,\n",
       "       26392, 26893, 26962, 27042, 27050, 27103, 27221, 27372, 27459,\n",
       "       28119, 28226, 28231, 28246, 28264, 28266, 28479, 28480, 28483,\n",
       "       28486, 28494, 28512, 28521, 28549, 28610, 28667, 29534, 29567,\n",
       "       29595, 29599, 29669, 29723, 29865, 29941, 30097, 30128, 30134,\n",
       "       31791, 31822, 32187, 32546, 32587, 32738, 32968, 32969, 32970,\n",
       "       32971, 32991, 32993, 32999, 33003, 33004, 33007, 33010, 33014,\n",
       "       33040, 33048, 33049, 33106, 33116, 33127, 33141, 33307, 33405,\n",
       "       33437, 33638, 33653, 33720, 33946, 33973, 34209, 34225, 34227,\n",
       "       34408, 34424, 34626, 34704, 34828, 34896, 34924, 34937, 34957,\n",
       "       34984, 35006, 35016, 35030, 35035, 35140, 35239, 35265, 35266,\n",
       "       35349, 35502, 35512, 35592, 35891, 35983, 36115, 36154, 36192,\n",
       "       36226, 36397, 36540, 36763, 37014, 37025, 37177, 37351, 37432,\n",
       "       37494, 37509, 37516, 37523, 37526, 37530, 37532, 37537, 37550,\n",
       "       37558, 37577, 37581, 37587, 37589, 37592, 37594, 37595, 37628,\n",
       "       37677, 37684, 37727, 37730, 37767, 37806, 38015, 38283, 38484,\n",
       "       38543, 38547, 38548, 38589, 38590, 38596, 38603, 38664, 38668,\n",
       "       38719, 38728, 38764, 38784, 38786, 38787, 38847, 38980, 38981,\n",
       "       39010, 39038, 39051, 39065, 39079, 39118, 39174, 39175, 39230,\n",
       "       39246, 39285, 39365, 39366, 39465, 39581, 39707, 39717, 39839,\n",
       "       39949, 40170, 40262, 40356, 40800, 40891, 40894, 40908, 40911,\n",
       "       40912, 40914, 40936, 40948, 40949, 40969, 40971, 40977, 40982,\n",
       "       40984, 41016, 41030, 41046, 41070, 41075, 41080, 41082, 41083,\n",
       "       41086, 41087, 41090, 41092, 41102, 41190, 41538, 41563, 41594,\n",
       "       41651, 41921, 41969, 41991, 42036, 42047, 42211, 42240, 42244,\n",
       "       42255, 42267, 42286, 42301, 42362, 42401, 42407, 42515, 42665,\n",
       "       42677, 42700, 42708, 42713, 42721, 42825, 42890, 42896, 43155,\n",
       "       43269, 43277, 43278, 43289, 43295, 43309, 43321, 43323, 43328,\n",
       "       43329, 43331, 43334, 43343, 43400, 43409, 43436, 43475, 43593,\n",
       "       43611, 43640, 43658, 43693, 43773, 43843, 43867, 43916, 43955,\n",
       "       44086, 44147, 44221, 44237, 44377, 44403, 44419, 44487, 44802,\n",
       "       45176, 45637, 45915, 46234, 46624, 46829, 46979, 47055, 47222,\n",
       "       47497, 47760, 47774, 47829, 48076, 48086, 48664, 48834, 49176,\n",
       "       49207, 49208, 49612, 49858, 49859, 50463, 50686, 50773, 50886,\n",
       "       51482, 51526, 52221, 52527, 53374, 53616, 54310, 54311, 54341,\n",
       "       54720, 54800, 54813, 54834, 54930, 54984, 55076, 55077, 55081,\n",
       "       55086, 55087, 55211, 55212, 55213, 55216, 55282, 55283, 55284,\n",
       "       55286, 55376, 55611, 56229, 56337, 56451, 56528, 56558, 56733,\n",
       "       57941, 58062, 58761, 58812, 58819, 59329, 59336, 59498, 59569,\n",
       "       59609, 59613, 59967, 59970, 59988, 60003, 60006, 60222, 60224,\n",
       "       60229, 60232, 60245, 60249, 60253, 60261, 60262, 60269, 60271,\n",
       "       60272, 60567, 60635, 60672, 60674, 60676, 60678, 60719, 60734,\n",
       "       60741, 60743, 60777, 60786, 60791, 60900, 60903, 60946, 60947,\n",
       "       60949, 60951, 61021, 61026, 61028, 61031, 61036, 61111, 61322,\n",
       "       61327, 61346, 61368, 61391, 61398, 61414, 61471, 61485, 61519,\n",
       "       61589, 61627, 61630, 61631, 61689, 61690, 61692, 61695, 61696,\n",
       "       61697, 61700, 61703, 61712, 61714, 61715, 62109, 62525, 62530,\n",
       "       62532, 62543, 62594, 62604, 62630, 62651, 62656, 62689, 62691,\n",
       "       62692, 62695, 62698, 62700, 62701, 62707, 62709, 62710, 62724,\n",
       "       62727, 62729, 62736, 62738, 62748, 62958, 63190, 63425, 63445,\n",
       "       63495, 63749, 64558, 64952])"
      ]
     },
     "metadata": {},
     "execution_count": 55
    }
   ],
   "source": [
    "elip_outliers"
   ]
  },
  {
   "cell_type": "code",
   "execution_count": null,
   "metadata": {},
   "outputs": [],
   "source": []
  }
 ]
}