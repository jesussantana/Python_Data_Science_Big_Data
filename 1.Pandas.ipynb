{
 "metadata": {
  "language_info": {
   "codemirror_mode": {
    "name": "ipython",
    "version": 3
   },
   "file_extension": ".py",
   "mimetype": "text/x-python",
   "name": "python",
   "nbconvert_exporter": "python",
   "pygments_lexer": "ipython3",
   "version": "3.8.5-final"
  },
  "orig_nbformat": 2,
  "kernelspec": {
   "name": "python3",
   "display_name": "Python 3",
   "language": "python"
  }
 },
 "nbformat": 4,
 "nbformat_minor": 2,
 "cells": [
  {
   "cell_type": "code",
   "execution_count": 1,
   "metadata": {},
   "outputs": [],
   "source": [
    "import pandas as pd\n",
    "import numpy as np"
   ]
  },
  {
   "cell_type": "code",
   "execution_count": 2,
   "metadata": {},
   "outputs": [],
   "source": [
    "import findspark \n",
    "findspark.init()\n",
    "\n",
    "import pyspark"
   ]
  },
  {
   "cell_type": "code",
   "execution_count": 3,
   "metadata": {},
   "outputs": [
    {
     "output_type": "stream",
     "name": "stdout",
     "text": [
      "0.5007753372192383\n"
     ]
    }
   ],
   "source": [
    " import time\n",
    "\n",
    " start = time.time()\n",
    "\n",
    " time.sleep(0.5)\n",
    "\n",
    " end = time.time()\n",
    "\n",
    " print(end - start)"
   ]
  },
  {
   "cell_type": "code",
   "execution_count": 4,
   "metadata": {},
   "outputs": [
    {
     "output_type": "stream",
     "name": "stdout",
     "text": [
      "0:00:01.001261\n"
     ]
    }
   ],
   "source": [
    "from datetime import timedelta\n",
    "\n",
    "start = time.monotonic()\n",
    "\n",
    "time.sleep(1)\n",
    "\n",
    "end = time.monotonic()\n",
    "\n",
    "print(timedelta(seconds = end - start))"
   ]
  },
  {
   "cell_type": "code",
   "execution_count": 5,
   "metadata": {},
   "outputs": [
    {
     "output_type": "stream",
     "name": "stdout",
     "text": [
      "False\n"
     ]
    }
   ],
   "source": [
    "start = time.time()\n",
    "\n",
    "time.sleep(0.5)\n",
    "\n",
    "end = time.time()\n",
    "\n",
    "start2 = time.time()\n",
    "\n",
    "time.sleep(0.501)\n",
    "\n",
    "end2 = time.time()\n",
    "\n",
    "print(end - start > end2 - start2)\n"
   ]
  },
  {
   "cell_type": "code",
   "execution_count": 6,
   "metadata": {},
   "outputs": [],
   "source": [
    "import pandas as pd\n",
    "df = pd.read_csv(\"../Tascas/Data/DelayedFlights.csv\", nrows=1000)"
   ]
  },
  {
   "cell_type": "code",
   "execution_count": 7,
   "metadata": {},
   "outputs": [
    {
     "output_type": "execute_result",
     "data": {
      "text/plain": [
       "   Unnamed: 0  Year  Month  DayofMonth  DayOfWeek  DepTime  CRSDepTime  \\\n",
       "0           0  2008      1           3          4   2003.0        1955   \n",
       "1           1  2008      1           3          4    754.0         735   \n",
       "2           2  2008      1           3          4    628.0         620   \n",
       "3           4  2008      1           3          4   1829.0        1755   \n",
       "4           5  2008      1           3          4   1940.0        1915   \n",
       "5           6  2008      1           3          4   1937.0        1830   \n",
       "6          10  2008      1           3          4    706.0         700   \n",
       "7          11  2008      1           3          4   1644.0        1510   \n",
       "8          15  2008      1           3          4   1029.0        1020   \n",
       "9          16  2008      1           3          4   1452.0        1425   \n",
       "\n",
       "   ArrTime  CRSArrTime UniqueCarrier  ...  TaxiIn TaxiOut  Cancelled  \\\n",
       "0   2211.0        2225            WN  ...     4.0     8.0          0   \n",
       "1   1002.0        1000            WN  ...     5.0    10.0          0   \n",
       "2    804.0         750            WN  ...     3.0    17.0          0   \n",
       "3   1959.0        1925            WN  ...     3.0    10.0          0   \n",
       "4   2121.0        2110            WN  ...     4.0    10.0          0   \n",
       "5   2037.0        1940            WN  ...     3.0     7.0          0   \n",
       "6    916.0         915            WN  ...     5.0    19.0          0   \n",
       "7   1845.0        1725            WN  ...     6.0     8.0          0   \n",
       "8   1021.0        1010            WN  ...     6.0     9.0          0   \n",
       "9   1640.0        1625            WN  ...     7.0     8.0          0   \n",
       "\n",
       "   CancellationCode  Diverted  CarrierDelay  WeatherDelay NASDelay  \\\n",
       "0                 N         0           NaN           NaN      NaN   \n",
       "1                 N         0           NaN           NaN      NaN   \n",
       "2                 N         0           NaN           NaN      NaN   \n",
       "3                 N         0           2.0           0.0      0.0   \n",
       "4                 N         0           NaN           NaN      NaN   \n",
       "5                 N         0          10.0           0.0      0.0   \n",
       "6                 N         0           NaN           NaN      NaN   \n",
       "7                 N         0           8.0           0.0      0.0   \n",
       "8                 N         0           NaN           NaN      NaN   \n",
       "9                 N         0           3.0           0.0      0.0   \n",
       "\n",
       "  SecurityDelay  LateAircraftDelay  \n",
       "0           NaN                NaN  \n",
       "1           NaN                NaN  \n",
       "2           NaN                NaN  \n",
       "3           0.0               32.0  \n",
       "4           NaN                NaN  \n",
       "5           0.0               47.0  \n",
       "6           NaN                NaN  \n",
       "7           0.0               72.0  \n",
       "8           NaN                NaN  \n",
       "9           0.0               12.0  \n",
       "\n",
       "[10 rows x 30 columns]"
      ],
      "text/html": "<div>\n<style scoped>\n    .dataframe tbody tr th:only-of-type {\n        vertical-align: middle;\n    }\n\n    .dataframe tbody tr th {\n        vertical-align: top;\n    }\n\n    .dataframe thead th {\n        text-align: right;\n    }\n</style>\n<table border=\"1\" class=\"dataframe\">\n  <thead>\n    <tr style=\"text-align: right;\">\n      <th></th>\n      <th>Unnamed: 0</th>\n      <th>Year</th>\n      <th>Month</th>\n      <th>DayofMonth</th>\n      <th>DayOfWeek</th>\n      <th>DepTime</th>\n      <th>CRSDepTime</th>\n      <th>ArrTime</th>\n      <th>CRSArrTime</th>\n      <th>UniqueCarrier</th>\n      <th>...</th>\n      <th>TaxiIn</th>\n      <th>TaxiOut</th>\n      <th>Cancelled</th>\n      <th>CancellationCode</th>\n      <th>Diverted</th>\n      <th>CarrierDelay</th>\n      <th>WeatherDelay</th>\n      <th>NASDelay</th>\n      <th>SecurityDelay</th>\n      <th>LateAircraftDelay</th>\n    </tr>\n  </thead>\n  <tbody>\n    <tr>\n      <th>0</th>\n      <td>0</td>\n      <td>2008</td>\n      <td>1</td>\n      <td>3</td>\n      <td>4</td>\n      <td>2003.0</td>\n      <td>1955</td>\n      <td>2211.0</td>\n      <td>2225</td>\n      <td>WN</td>\n      <td>...</td>\n      <td>4.0</td>\n      <td>8.0</td>\n      <td>0</td>\n      <td>N</td>\n      <td>0</td>\n      <td>NaN</td>\n      <td>NaN</td>\n      <td>NaN</td>\n      <td>NaN</td>\n      <td>NaN</td>\n    </tr>\n    <tr>\n      <th>1</th>\n      <td>1</td>\n      <td>2008</td>\n      <td>1</td>\n      <td>3</td>\n      <td>4</td>\n      <td>754.0</td>\n      <td>735</td>\n      <td>1002.0</td>\n      <td>1000</td>\n      <td>WN</td>\n      <td>...</td>\n      <td>5.0</td>\n      <td>10.0</td>\n      <td>0</td>\n      <td>N</td>\n      <td>0</td>\n      <td>NaN</td>\n      <td>NaN</td>\n      <td>NaN</td>\n      <td>NaN</td>\n      <td>NaN</td>\n    </tr>\n    <tr>\n      <th>2</th>\n      <td>2</td>\n      <td>2008</td>\n      <td>1</td>\n      <td>3</td>\n      <td>4</td>\n      <td>628.0</td>\n      <td>620</td>\n      <td>804.0</td>\n      <td>750</td>\n      <td>WN</td>\n      <td>...</td>\n      <td>3.0</td>\n      <td>17.0</td>\n      <td>0</td>\n      <td>N</td>\n      <td>0</td>\n      <td>NaN</td>\n      <td>NaN</td>\n      <td>NaN</td>\n      <td>NaN</td>\n      <td>NaN</td>\n    </tr>\n    <tr>\n      <th>3</th>\n      <td>4</td>\n      <td>2008</td>\n      <td>1</td>\n      <td>3</td>\n      <td>4</td>\n      <td>1829.0</td>\n      <td>1755</td>\n      <td>1959.0</td>\n      <td>1925</td>\n      <td>WN</td>\n      <td>...</td>\n      <td>3.0</td>\n      <td>10.0</td>\n      <td>0</td>\n      <td>N</td>\n      <td>0</td>\n      <td>2.0</td>\n      <td>0.0</td>\n      <td>0.0</td>\n      <td>0.0</td>\n      <td>32.0</td>\n    </tr>\n    <tr>\n      <th>4</th>\n      <td>5</td>\n      <td>2008</td>\n      <td>1</td>\n      <td>3</td>\n      <td>4</td>\n      <td>1940.0</td>\n      <td>1915</td>\n      <td>2121.0</td>\n      <td>2110</td>\n      <td>WN</td>\n      <td>...</td>\n      <td>4.0</td>\n      <td>10.0</td>\n      <td>0</td>\n      <td>N</td>\n      <td>0</td>\n      <td>NaN</td>\n      <td>NaN</td>\n      <td>NaN</td>\n      <td>NaN</td>\n      <td>NaN</td>\n    </tr>\n    <tr>\n      <th>5</th>\n      <td>6</td>\n      <td>2008</td>\n      <td>1</td>\n      <td>3</td>\n      <td>4</td>\n      <td>1937.0</td>\n      <td>1830</td>\n      <td>2037.0</td>\n      <td>1940</td>\n      <td>WN</td>\n      <td>...</td>\n      <td>3.0</td>\n      <td>7.0</td>\n      <td>0</td>\n      <td>N</td>\n      <td>0</td>\n      <td>10.0</td>\n      <td>0.0</td>\n      <td>0.0</td>\n      <td>0.0</td>\n      <td>47.0</td>\n    </tr>\n    <tr>\n      <th>6</th>\n      <td>10</td>\n      <td>2008</td>\n      <td>1</td>\n      <td>3</td>\n      <td>4</td>\n      <td>706.0</td>\n      <td>700</td>\n      <td>916.0</td>\n      <td>915</td>\n      <td>WN</td>\n      <td>...</td>\n      <td>5.0</td>\n      <td>19.0</td>\n      <td>0</td>\n      <td>N</td>\n      <td>0</td>\n      <td>NaN</td>\n      <td>NaN</td>\n      <td>NaN</td>\n      <td>NaN</td>\n      <td>NaN</td>\n    </tr>\n    <tr>\n      <th>7</th>\n      <td>11</td>\n      <td>2008</td>\n      <td>1</td>\n      <td>3</td>\n      <td>4</td>\n      <td>1644.0</td>\n      <td>1510</td>\n      <td>1845.0</td>\n      <td>1725</td>\n      <td>WN</td>\n      <td>...</td>\n      <td>6.0</td>\n      <td>8.0</td>\n      <td>0</td>\n      <td>N</td>\n      <td>0</td>\n      <td>8.0</td>\n      <td>0.0</td>\n      <td>0.0</td>\n      <td>0.0</td>\n      <td>72.0</td>\n    </tr>\n    <tr>\n      <th>8</th>\n      <td>15</td>\n      <td>2008</td>\n      <td>1</td>\n      <td>3</td>\n      <td>4</td>\n      <td>1029.0</td>\n      <td>1020</td>\n      <td>1021.0</td>\n      <td>1010</td>\n      <td>WN</td>\n      <td>...</td>\n      <td>6.0</td>\n      <td>9.0</td>\n      <td>0</td>\n      <td>N</td>\n      <td>0</td>\n      <td>NaN</td>\n      <td>NaN</td>\n      <td>NaN</td>\n      <td>NaN</td>\n      <td>NaN</td>\n    </tr>\n    <tr>\n      <th>9</th>\n      <td>16</td>\n      <td>2008</td>\n      <td>1</td>\n      <td>3</td>\n      <td>4</td>\n      <td>1452.0</td>\n      <td>1425</td>\n      <td>1640.0</td>\n      <td>1625</td>\n      <td>WN</td>\n      <td>...</td>\n      <td>7.0</td>\n      <td>8.0</td>\n      <td>0</td>\n      <td>N</td>\n      <td>0</td>\n      <td>3.0</td>\n      <td>0.0</td>\n      <td>0.0</td>\n      <td>0.0</td>\n      <td>12.0</td>\n    </tr>\n  </tbody>\n</table>\n<p>10 rows × 30 columns</p>\n</div>"
     },
     "metadata": {},
     "execution_count": 7
    }
   ],
   "source": [
    "df.head(10)"
   ]
  },
  {
   "cell_type": "code",
   "execution_count": 8,
   "metadata": {},
   "outputs": [
    {
     "output_type": "execute_result",
     "data": {
      "text/plain": [
       "     Unnamed: 0  Year  Month  DayofMonth  DayOfWeek  DepTime  CRSDepTime  \\\n",
       "995        1354  2008      1           3          4   1553.0        1545   \n",
       "996        1355  2008      1           3          4   1836.0        1750   \n",
       "997        1356  2008      1           3          4   1933.0        1835   \n",
       "998        1357  2008      1           3          4   1121.0        1055   \n",
       "999        1358  2008      1           3          4    808.0         800   \n",
       "\n",
       "     ArrTime  CRSArrTime UniqueCarrier  ...  TaxiIn TaxiOut  Cancelled  \\\n",
       "995   1617.0        1605            WN  ...     2.0    10.0          0   \n",
       "996   1902.0        1810            WN  ...     3.0    13.0          0   \n",
       "997   1955.0        1855            WN  ...     2.0    10.0          0   \n",
       "998   1151.0        1125            WN  ...     3.0    17.0          0   \n",
       "999    832.0         825            WN  ...     4.0     9.0          0   \n",
       "\n",
       "     CancellationCode  Diverted  CarrierDelay  WeatherDelay NASDelay  \\\n",
       "995                 N         0           NaN           NaN      NaN   \n",
       "996                 N         0           0.0           0.0      6.0   \n",
       "997                 N         0           0.0           0.0      3.0   \n",
       "998                 N         0           1.0           0.0      0.0   \n",
       "999                 N         0           NaN           NaN      NaN   \n",
       "\n",
       "    SecurityDelay  LateAircraftDelay  \n",
       "995           NaN                NaN  \n",
       "996           0.0               46.0  \n",
       "997           0.0               57.0  \n",
       "998           0.0               25.0  \n",
       "999           NaN                NaN  \n",
       "\n",
       "[5 rows x 30 columns]"
      ],
      "text/html": "<div>\n<style scoped>\n    .dataframe tbody tr th:only-of-type {\n        vertical-align: middle;\n    }\n\n    .dataframe tbody tr th {\n        vertical-align: top;\n    }\n\n    .dataframe thead th {\n        text-align: right;\n    }\n</style>\n<table border=\"1\" class=\"dataframe\">\n  <thead>\n    <tr style=\"text-align: right;\">\n      <th></th>\n      <th>Unnamed: 0</th>\n      <th>Year</th>\n      <th>Month</th>\n      <th>DayofMonth</th>\n      <th>DayOfWeek</th>\n      <th>DepTime</th>\n      <th>CRSDepTime</th>\n      <th>ArrTime</th>\n      <th>CRSArrTime</th>\n      <th>UniqueCarrier</th>\n      <th>...</th>\n      <th>TaxiIn</th>\n      <th>TaxiOut</th>\n      <th>Cancelled</th>\n      <th>CancellationCode</th>\n      <th>Diverted</th>\n      <th>CarrierDelay</th>\n      <th>WeatherDelay</th>\n      <th>NASDelay</th>\n      <th>SecurityDelay</th>\n      <th>LateAircraftDelay</th>\n    </tr>\n  </thead>\n  <tbody>\n    <tr>\n      <th>995</th>\n      <td>1354</td>\n      <td>2008</td>\n      <td>1</td>\n      <td>3</td>\n      <td>4</td>\n      <td>1553.0</td>\n      <td>1545</td>\n      <td>1617.0</td>\n      <td>1605</td>\n      <td>WN</td>\n      <td>...</td>\n      <td>2.0</td>\n      <td>10.0</td>\n      <td>0</td>\n      <td>N</td>\n      <td>0</td>\n      <td>NaN</td>\n      <td>NaN</td>\n      <td>NaN</td>\n      <td>NaN</td>\n      <td>NaN</td>\n    </tr>\n    <tr>\n      <th>996</th>\n      <td>1355</td>\n      <td>2008</td>\n      <td>1</td>\n      <td>3</td>\n      <td>4</td>\n      <td>1836.0</td>\n      <td>1750</td>\n      <td>1902.0</td>\n      <td>1810</td>\n      <td>WN</td>\n      <td>...</td>\n      <td>3.0</td>\n      <td>13.0</td>\n      <td>0</td>\n      <td>N</td>\n      <td>0</td>\n      <td>0.0</td>\n      <td>0.0</td>\n      <td>6.0</td>\n      <td>0.0</td>\n      <td>46.0</td>\n    </tr>\n    <tr>\n      <th>997</th>\n      <td>1356</td>\n      <td>2008</td>\n      <td>1</td>\n      <td>3</td>\n      <td>4</td>\n      <td>1933.0</td>\n      <td>1835</td>\n      <td>1955.0</td>\n      <td>1855</td>\n      <td>WN</td>\n      <td>...</td>\n      <td>2.0</td>\n      <td>10.0</td>\n      <td>0</td>\n      <td>N</td>\n      <td>0</td>\n      <td>0.0</td>\n      <td>0.0</td>\n      <td>3.0</td>\n      <td>0.0</td>\n      <td>57.0</td>\n    </tr>\n    <tr>\n      <th>998</th>\n      <td>1357</td>\n      <td>2008</td>\n      <td>1</td>\n      <td>3</td>\n      <td>4</td>\n      <td>1121.0</td>\n      <td>1055</td>\n      <td>1151.0</td>\n      <td>1125</td>\n      <td>WN</td>\n      <td>...</td>\n      <td>3.0</td>\n      <td>17.0</td>\n      <td>0</td>\n      <td>N</td>\n      <td>0</td>\n      <td>1.0</td>\n      <td>0.0</td>\n      <td>0.0</td>\n      <td>0.0</td>\n      <td>25.0</td>\n    </tr>\n    <tr>\n      <th>999</th>\n      <td>1358</td>\n      <td>2008</td>\n      <td>1</td>\n      <td>3</td>\n      <td>4</td>\n      <td>808.0</td>\n      <td>800</td>\n      <td>832.0</td>\n      <td>825</td>\n      <td>WN</td>\n      <td>...</td>\n      <td>4.0</td>\n      <td>9.0</td>\n      <td>0</td>\n      <td>N</td>\n      <td>0</td>\n      <td>NaN</td>\n      <td>NaN</td>\n      <td>NaN</td>\n      <td>NaN</td>\n      <td>NaN</td>\n    </tr>\n  </tbody>\n</table>\n<p>5 rows × 30 columns</p>\n</div>"
     },
     "metadata": {},
     "execution_count": 8
    }
   ],
   "source": [
    "df.tail()"
   ]
  },
  {
   "cell_type": "code",
   "execution_count": 9,
   "metadata": {},
   "outputs": [
    {
     "output_type": "execute_result",
     "data": {
      "text/plain": [
       "     Unnamed: 0  Year  Month  DayofMonth  DayOfWeek  DepTime  CRSDepTime  \\\n",
       "292         397  2008      1           3          4   1159.0        1150   \n",
       "767        1013  2008      1           3          4    837.0         830   \n",
       "281         385  2008      1           3          4   1851.0        1830   \n",
       "739         976  2008      1           3          4   1628.0        1520   \n",
       "142         203  2008      1           3          4   1838.0        1800   \n",
       "..          ...   ...    ...         ...        ...      ...         ...   \n",
       "177         248  2008      1           3          4   1348.0        1330   \n",
       "605         811  2008      1           3          4   2239.0        2115   \n",
       "907        1233  2008      1           3          4   2132.0        2050   \n",
       "966        1312  2008      1           3          4   1100.0        1050   \n",
       "362         499  2008      1           3          4    643.0         630   \n",
       "\n",
       "     ArrTime  CRSArrTime UniqueCarrier  ...  TaxiIn TaxiOut  Cancelled  \\\n",
       "292   1635.0        1635            WN  ...     3.0    12.0          0   \n",
       "767    951.0         945            WN  ...     8.0     9.0          0   \n",
       "281   2059.0        2045            WN  ...     3.0     6.0          0   \n",
       "739   1729.0        1625            WN  ...     1.0    10.0          0   \n",
       "142   1930.0        1855            WN  ...     3.0    17.0          0   \n",
       "..       ...         ...           ...  ...     ...     ...        ...   \n",
       "177   1455.0        1435            WN  ...     2.0    14.0          0   \n",
       "605   2358.0        2240            WN  ...     2.0    10.0          0   \n",
       "907   2222.0        2150            WN  ...     4.0     7.0          0   \n",
       "966   1210.0        1205            WN  ...     7.0    16.0          0   \n",
       "362    726.0         720            WN  ...     9.0    11.0          0   \n",
       "\n",
       "     CancellationCode  Diverted  CarrierDelay  WeatherDelay NASDelay  \\\n",
       "292                 N         0           NaN           NaN      NaN   \n",
       "767                 N         0           NaN           NaN      NaN   \n",
       "281                 N         0           NaN           NaN      NaN   \n",
       "739                 N         0          17.0           0.0      0.0   \n",
       "142                 N         0           0.0           0.0      0.0   \n",
       "..                ...       ...           ...           ...      ...   \n",
       "177                 N         0           8.0           0.0      2.0   \n",
       "605                 N         0           7.0           0.0      0.0   \n",
       "907                 N         0          23.0           0.0      0.0   \n",
       "966                 N         0           NaN           NaN      NaN   \n",
       "362                 N         0           NaN           NaN      NaN   \n",
       "\n",
       "    SecurityDelay  LateAircraftDelay  \n",
       "292           NaN                NaN  \n",
       "767           NaN                NaN  \n",
       "281           NaN                NaN  \n",
       "739           0.0               47.0  \n",
       "142           0.0               35.0  \n",
       "..            ...                ...  \n",
       "177           0.0               10.0  \n",
       "605           0.0               71.0  \n",
       "907           0.0                9.0  \n",
       "966           NaN                NaN  \n",
       "362           NaN                NaN  \n",
       "\n",
       "[1000 rows x 30 columns]"
      ],
      "text/html": "<div>\n<style scoped>\n    .dataframe tbody tr th:only-of-type {\n        vertical-align: middle;\n    }\n\n    .dataframe tbody tr th {\n        vertical-align: top;\n    }\n\n    .dataframe thead th {\n        text-align: right;\n    }\n</style>\n<table border=\"1\" class=\"dataframe\">\n  <thead>\n    <tr style=\"text-align: right;\">\n      <th></th>\n      <th>Unnamed: 0</th>\n      <th>Year</th>\n      <th>Month</th>\n      <th>DayofMonth</th>\n      <th>DayOfWeek</th>\n      <th>DepTime</th>\n      <th>CRSDepTime</th>\n      <th>ArrTime</th>\n      <th>CRSArrTime</th>\n      <th>UniqueCarrier</th>\n      <th>...</th>\n      <th>TaxiIn</th>\n      <th>TaxiOut</th>\n      <th>Cancelled</th>\n      <th>CancellationCode</th>\n      <th>Diverted</th>\n      <th>CarrierDelay</th>\n      <th>WeatherDelay</th>\n      <th>NASDelay</th>\n      <th>SecurityDelay</th>\n      <th>LateAircraftDelay</th>\n    </tr>\n  </thead>\n  <tbody>\n    <tr>\n      <th>292</th>\n      <td>397</td>\n      <td>2008</td>\n      <td>1</td>\n      <td>3</td>\n      <td>4</td>\n      <td>1159.0</td>\n      <td>1150</td>\n      <td>1635.0</td>\n      <td>1635</td>\n      <td>WN</td>\n      <td>...</td>\n      <td>3.0</td>\n      <td>12.0</td>\n      <td>0</td>\n      <td>N</td>\n      <td>0</td>\n      <td>NaN</td>\n      <td>NaN</td>\n      <td>NaN</td>\n      <td>NaN</td>\n      <td>NaN</td>\n    </tr>\n    <tr>\n      <th>767</th>\n      <td>1013</td>\n      <td>2008</td>\n      <td>1</td>\n      <td>3</td>\n      <td>4</td>\n      <td>837.0</td>\n      <td>830</td>\n      <td>951.0</td>\n      <td>945</td>\n      <td>WN</td>\n      <td>...</td>\n      <td>8.0</td>\n      <td>9.0</td>\n      <td>0</td>\n      <td>N</td>\n      <td>0</td>\n      <td>NaN</td>\n      <td>NaN</td>\n      <td>NaN</td>\n      <td>NaN</td>\n      <td>NaN</td>\n    </tr>\n    <tr>\n      <th>281</th>\n      <td>385</td>\n      <td>2008</td>\n      <td>1</td>\n      <td>3</td>\n      <td>4</td>\n      <td>1851.0</td>\n      <td>1830</td>\n      <td>2059.0</td>\n      <td>2045</td>\n      <td>WN</td>\n      <td>...</td>\n      <td>3.0</td>\n      <td>6.0</td>\n      <td>0</td>\n      <td>N</td>\n      <td>0</td>\n      <td>NaN</td>\n      <td>NaN</td>\n      <td>NaN</td>\n      <td>NaN</td>\n      <td>NaN</td>\n    </tr>\n    <tr>\n      <th>739</th>\n      <td>976</td>\n      <td>2008</td>\n      <td>1</td>\n      <td>3</td>\n      <td>4</td>\n      <td>1628.0</td>\n      <td>1520</td>\n      <td>1729.0</td>\n      <td>1625</td>\n      <td>WN</td>\n      <td>...</td>\n      <td>1.0</td>\n      <td>10.0</td>\n      <td>0</td>\n      <td>N</td>\n      <td>0</td>\n      <td>17.0</td>\n      <td>0.0</td>\n      <td>0.0</td>\n      <td>0.0</td>\n      <td>47.0</td>\n    </tr>\n    <tr>\n      <th>142</th>\n      <td>203</td>\n      <td>2008</td>\n      <td>1</td>\n      <td>3</td>\n      <td>4</td>\n      <td>1838.0</td>\n      <td>1800</td>\n      <td>1930.0</td>\n      <td>1855</td>\n      <td>WN</td>\n      <td>...</td>\n      <td>3.0</td>\n      <td>17.0</td>\n      <td>0</td>\n      <td>N</td>\n      <td>0</td>\n      <td>0.0</td>\n      <td>0.0</td>\n      <td>0.0</td>\n      <td>0.0</td>\n      <td>35.0</td>\n    </tr>\n    <tr>\n      <th>...</th>\n      <td>...</td>\n      <td>...</td>\n      <td>...</td>\n      <td>...</td>\n      <td>...</td>\n      <td>...</td>\n      <td>...</td>\n      <td>...</td>\n      <td>...</td>\n      <td>...</td>\n      <td>...</td>\n      <td>...</td>\n      <td>...</td>\n      <td>...</td>\n      <td>...</td>\n      <td>...</td>\n      <td>...</td>\n      <td>...</td>\n      <td>...</td>\n      <td>...</td>\n      <td>...</td>\n    </tr>\n    <tr>\n      <th>177</th>\n      <td>248</td>\n      <td>2008</td>\n      <td>1</td>\n      <td>3</td>\n      <td>4</td>\n      <td>1348.0</td>\n      <td>1330</td>\n      <td>1455.0</td>\n      <td>1435</td>\n      <td>WN</td>\n      <td>...</td>\n      <td>2.0</td>\n      <td>14.0</td>\n      <td>0</td>\n      <td>N</td>\n      <td>0</td>\n      <td>8.0</td>\n      <td>0.0</td>\n      <td>2.0</td>\n      <td>0.0</td>\n      <td>10.0</td>\n    </tr>\n    <tr>\n      <th>605</th>\n      <td>811</td>\n      <td>2008</td>\n      <td>1</td>\n      <td>3</td>\n      <td>4</td>\n      <td>2239.0</td>\n      <td>2115</td>\n      <td>2358.0</td>\n      <td>2240</td>\n      <td>WN</td>\n      <td>...</td>\n      <td>2.0</td>\n      <td>10.0</td>\n      <td>0</td>\n      <td>N</td>\n      <td>0</td>\n      <td>7.0</td>\n      <td>0.0</td>\n      <td>0.0</td>\n      <td>0.0</td>\n      <td>71.0</td>\n    </tr>\n    <tr>\n      <th>907</th>\n      <td>1233</td>\n      <td>2008</td>\n      <td>1</td>\n      <td>3</td>\n      <td>4</td>\n      <td>2132.0</td>\n      <td>2050</td>\n      <td>2222.0</td>\n      <td>2150</td>\n      <td>WN</td>\n      <td>...</td>\n      <td>4.0</td>\n      <td>7.0</td>\n      <td>0</td>\n      <td>N</td>\n      <td>0</td>\n      <td>23.0</td>\n      <td>0.0</td>\n      <td>0.0</td>\n      <td>0.0</td>\n      <td>9.0</td>\n    </tr>\n    <tr>\n      <th>966</th>\n      <td>1312</td>\n      <td>2008</td>\n      <td>1</td>\n      <td>3</td>\n      <td>4</td>\n      <td>1100.0</td>\n      <td>1050</td>\n      <td>1210.0</td>\n      <td>1205</td>\n      <td>WN</td>\n      <td>...</td>\n      <td>7.0</td>\n      <td>16.0</td>\n      <td>0</td>\n      <td>N</td>\n      <td>0</td>\n      <td>NaN</td>\n      <td>NaN</td>\n      <td>NaN</td>\n      <td>NaN</td>\n      <td>NaN</td>\n    </tr>\n    <tr>\n      <th>362</th>\n      <td>499</td>\n      <td>2008</td>\n      <td>1</td>\n      <td>3</td>\n      <td>4</td>\n      <td>643.0</td>\n      <td>630</td>\n      <td>726.0</td>\n      <td>720</td>\n      <td>WN</td>\n      <td>...</td>\n      <td>9.0</td>\n      <td>11.0</td>\n      <td>0</td>\n      <td>N</td>\n      <td>0</td>\n      <td>NaN</td>\n      <td>NaN</td>\n      <td>NaN</td>\n      <td>NaN</td>\n      <td>NaN</td>\n    </tr>\n  </tbody>\n</table>\n<p>1000 rows × 30 columns</p>\n</div>"
     },
     "metadata": {},
     "execution_count": 9
    }
   ],
   "source": [
    "df = df.sample(frac = 1)\n",
    "df"
   ]
  },
  {
   "cell_type": "code",
   "execution_count": 10,
   "metadata": {},
   "outputs": [
    {
     "output_type": "execute_result",
     "data": {
      "text/plain": [
       "Index(['Unnamed: 0', 'Year', 'Month', 'DayofMonth', 'DayOfWeek', 'DepTime',\n",
       "       'CRSDepTime', 'ArrTime', 'CRSArrTime', 'UniqueCarrier', 'FlightNum',\n",
       "       'TailNum', 'ActualElapsedTime', 'CRSElapsedTime', 'AirTime', 'ArrDelay',\n",
       "       'DepDelay', 'Origin', 'Dest', 'Distance', 'TaxiIn', 'TaxiOut',\n",
       "       'Cancelled', 'CancellationCode', 'Diverted', 'CarrierDelay',\n",
       "       'WeatherDelay', 'NASDelay', 'SecurityDelay', 'LateAircraftDelay'],\n",
       "      dtype='object')"
      ]
     },
     "metadata": {},
     "execution_count": 10
    }
   ],
   "source": [
    "df.columns"
   ]
  },
  {
   "cell_type": "code",
   "execution_count": 11,
   "metadata": {},
   "outputs": [
    {
     "output_type": "execute_result",
     "data": {
      "text/plain": [
       "292    1159.0\n",
       "767     837.0\n",
       "281    1851.0\n",
       "739    1628.0\n",
       "142    1838.0\n",
       "        ...  \n",
       "177    1348.0\n",
       "605    2239.0\n",
       "907    2132.0\n",
       "966    1100.0\n",
       "362     643.0\n",
       "Name: DepTime, Length: 1000, dtype: float64"
      ]
     },
     "metadata": {},
     "execution_count": 11
    }
   ],
   "source": [
    "df.DepTime"
   ]
  },
  {
   "cell_type": "code",
   "execution_count": 12,
   "metadata": {},
   "outputs": [
    {
     "output_type": "execute_result",
     "data": {
      "text/plain": [
       "Unnamed: 0             int64\n",
       "Year                   int64\n",
       "Month                  int64\n",
       "DayofMonth             int64\n",
       "DayOfWeek              int64\n",
       "DepTime              float64\n",
       "CRSDepTime             int64\n",
       "ArrTime              float64\n",
       "CRSArrTime             int64\n",
       "UniqueCarrier         object\n",
       "FlightNum              int64\n",
       "TailNum               object\n",
       "ActualElapsedTime    float64\n",
       "CRSElapsedTime       float64\n",
       "AirTime              float64\n",
       "ArrDelay             float64\n",
       "DepDelay             float64\n",
       "Origin                object\n",
       "Dest                  object\n",
       "Distance               int64\n",
       "TaxiIn               float64\n",
       "TaxiOut              float64\n",
       "Cancelled              int64\n",
       "CancellationCode      object\n",
       "Diverted               int64\n",
       "CarrierDelay         float64\n",
       "WeatherDelay         float64\n",
       "NASDelay             float64\n",
       "SecurityDelay        float64\n",
       "LateAircraftDelay    float64\n",
       "dtype: object"
      ]
     },
     "metadata": {},
     "execution_count": 12
    }
   ],
   "source": [
    "df.dtypes"
   ]
  },
  {
   "cell_type": "code",
   "execution_count": 13,
   "metadata": {},
   "outputs": [
    {
     "output_type": "execute_result",
     "data": {
      "text/plain": [
       "array([[397, 2008, 1, ..., nan, nan, nan],\n",
       "       [1013, 2008, 1, ..., nan, nan, nan],\n",
       "       [385, 2008, 1, ..., nan, nan, nan],\n",
       "       ...,\n",
       "       [1233, 2008, 1, ..., 0.0, 0.0, 9.0],\n",
       "       [1312, 2008, 1, ..., nan, nan, nan],\n",
       "       [499, 2008, 1, ..., nan, nan, nan]], dtype=object)"
      ]
     },
     "metadata": {},
     "execution_count": 13
    }
   ],
   "source": [
    "df.values"
   ]
  },
  {
   "cell_type": "code",
   "execution_count": 14,
   "metadata": {},
   "outputs": [],
   "source": [
    "df2 = df.head(10)"
   ]
  },
  {
   "cell_type": "code",
   "execution_count": 15,
   "metadata": {},
   "outputs": [
    {
     "output_type": "execute_result",
     "data": {
      "text/plain": [
       "     Unnamed: 0  Year  Month  DayofMonth  DayOfWeek  DepTime  CRSDepTime  \\\n",
       "292         397  2008      1           3          4   1159.0        1150   \n",
       "767        1013  2008      1           3          4    837.0         830   \n",
       "281         385  2008      1           3          4   1851.0        1830   \n",
       "739         976  2008      1           3          4   1628.0        1520   \n",
       "142         203  2008      1           3          4   1838.0        1800   \n",
       "580         784  2008      1           3          4   1947.0        1935   \n",
       "223         310  2008      1           3          4   1558.0        1530   \n",
       "893        1210  2008      1           3          4    636.0         630   \n",
       "8            15  2008      1           3          4   1029.0        1020   \n",
       "672         886  2008      1           3          4   1355.0        1305   \n",
       "\n",
       "     ArrTime  CRSArrTime UniqueCarrier  ...  TaxiIn TaxiOut  Cancelled  \\\n",
       "292   1635.0        1635            WN  ...     3.0    12.0          0   \n",
       "767    951.0         945            WN  ...     8.0     9.0          0   \n",
       "281   2059.0        2045            WN  ...     3.0     6.0          0   \n",
       "739   1729.0        1625            WN  ...     1.0    10.0          0   \n",
       "142   1930.0        1855            WN  ...     3.0    17.0          0   \n",
       "580   2110.0        2100            WN  ...     4.0    14.0          0   \n",
       "223   2049.0        2040            WN  ...     4.0    17.0          0   \n",
       "893    755.0         750            WN  ...     7.0    18.0          0   \n",
       "8     1021.0        1010            WN  ...     6.0     9.0          0   \n",
       "672   1451.0        1410            WN  ...     4.0     8.0          0   \n",
       "\n",
       "     CancellationCode  Diverted  CarrierDelay  WeatherDelay NASDelay  \\\n",
       "292                 N         0           NaN           NaN      NaN   \n",
       "767                 N         0           NaN           NaN      NaN   \n",
       "281                 N         0           NaN           NaN      NaN   \n",
       "739                 N         0          17.0           0.0      0.0   \n",
       "142                 N         0           0.0           0.0      0.0   \n",
       "580                 N         0           NaN           NaN      NaN   \n",
       "223                 N         0           NaN           NaN      NaN   \n",
       "893                 N         0           NaN           NaN      NaN   \n",
       "8                   N         0           NaN           NaN      NaN   \n",
       "672                 N         0          39.0           0.0      0.0   \n",
       "\n",
       "    SecurityDelay  LateAircraftDelay  \n",
       "292           NaN                NaN  \n",
       "767           NaN                NaN  \n",
       "281           NaN                NaN  \n",
       "739           0.0               47.0  \n",
       "142           0.0               35.0  \n",
       "580           NaN                NaN  \n",
       "223           NaN                NaN  \n",
       "893           NaN                NaN  \n",
       "8             NaN                NaN  \n",
       "672           0.0                2.0  \n",
       "\n",
       "[10 rows x 30 columns]"
      ],
      "text/html": "<div>\n<style scoped>\n    .dataframe tbody tr th:only-of-type {\n        vertical-align: middle;\n    }\n\n    .dataframe tbody tr th {\n        vertical-align: top;\n    }\n\n    .dataframe thead th {\n        text-align: right;\n    }\n</style>\n<table border=\"1\" class=\"dataframe\">\n  <thead>\n    <tr style=\"text-align: right;\">\n      <th></th>\n      <th>Unnamed: 0</th>\n      <th>Year</th>\n      <th>Month</th>\n      <th>DayofMonth</th>\n      <th>DayOfWeek</th>\n      <th>DepTime</th>\n      <th>CRSDepTime</th>\n      <th>ArrTime</th>\n      <th>CRSArrTime</th>\n      <th>UniqueCarrier</th>\n      <th>...</th>\n      <th>TaxiIn</th>\n      <th>TaxiOut</th>\n      <th>Cancelled</th>\n      <th>CancellationCode</th>\n      <th>Diverted</th>\n      <th>CarrierDelay</th>\n      <th>WeatherDelay</th>\n      <th>NASDelay</th>\n      <th>SecurityDelay</th>\n      <th>LateAircraftDelay</th>\n    </tr>\n  </thead>\n  <tbody>\n    <tr>\n      <th>292</th>\n      <td>397</td>\n      <td>2008</td>\n      <td>1</td>\n      <td>3</td>\n      <td>4</td>\n      <td>1159.0</td>\n      <td>1150</td>\n      <td>1635.0</td>\n      <td>1635</td>\n      <td>WN</td>\n      <td>...</td>\n      <td>3.0</td>\n      <td>12.0</td>\n      <td>0</td>\n      <td>N</td>\n      <td>0</td>\n      <td>NaN</td>\n      <td>NaN</td>\n      <td>NaN</td>\n      <td>NaN</td>\n      <td>NaN</td>\n    </tr>\n    <tr>\n      <th>767</th>\n      <td>1013</td>\n      <td>2008</td>\n      <td>1</td>\n      <td>3</td>\n      <td>4</td>\n      <td>837.0</td>\n      <td>830</td>\n      <td>951.0</td>\n      <td>945</td>\n      <td>WN</td>\n      <td>...</td>\n      <td>8.0</td>\n      <td>9.0</td>\n      <td>0</td>\n      <td>N</td>\n      <td>0</td>\n      <td>NaN</td>\n      <td>NaN</td>\n      <td>NaN</td>\n      <td>NaN</td>\n      <td>NaN</td>\n    </tr>\n    <tr>\n      <th>281</th>\n      <td>385</td>\n      <td>2008</td>\n      <td>1</td>\n      <td>3</td>\n      <td>4</td>\n      <td>1851.0</td>\n      <td>1830</td>\n      <td>2059.0</td>\n      <td>2045</td>\n      <td>WN</td>\n      <td>...</td>\n      <td>3.0</td>\n      <td>6.0</td>\n      <td>0</td>\n      <td>N</td>\n      <td>0</td>\n      <td>NaN</td>\n      <td>NaN</td>\n      <td>NaN</td>\n      <td>NaN</td>\n      <td>NaN</td>\n    </tr>\n    <tr>\n      <th>739</th>\n      <td>976</td>\n      <td>2008</td>\n      <td>1</td>\n      <td>3</td>\n      <td>4</td>\n      <td>1628.0</td>\n      <td>1520</td>\n      <td>1729.0</td>\n      <td>1625</td>\n      <td>WN</td>\n      <td>...</td>\n      <td>1.0</td>\n      <td>10.0</td>\n      <td>0</td>\n      <td>N</td>\n      <td>0</td>\n      <td>17.0</td>\n      <td>0.0</td>\n      <td>0.0</td>\n      <td>0.0</td>\n      <td>47.0</td>\n    </tr>\n    <tr>\n      <th>142</th>\n      <td>203</td>\n      <td>2008</td>\n      <td>1</td>\n      <td>3</td>\n      <td>4</td>\n      <td>1838.0</td>\n      <td>1800</td>\n      <td>1930.0</td>\n      <td>1855</td>\n      <td>WN</td>\n      <td>...</td>\n      <td>3.0</td>\n      <td>17.0</td>\n      <td>0</td>\n      <td>N</td>\n      <td>0</td>\n      <td>0.0</td>\n      <td>0.0</td>\n      <td>0.0</td>\n      <td>0.0</td>\n      <td>35.0</td>\n    </tr>\n    <tr>\n      <th>580</th>\n      <td>784</td>\n      <td>2008</td>\n      <td>1</td>\n      <td>3</td>\n      <td>4</td>\n      <td>1947.0</td>\n      <td>1935</td>\n      <td>2110.0</td>\n      <td>2100</td>\n      <td>WN</td>\n      <td>...</td>\n      <td>4.0</td>\n      <td>14.0</td>\n      <td>0</td>\n      <td>N</td>\n      <td>0</td>\n      <td>NaN</td>\n      <td>NaN</td>\n      <td>NaN</td>\n      <td>NaN</td>\n      <td>NaN</td>\n    </tr>\n    <tr>\n      <th>223</th>\n      <td>310</td>\n      <td>2008</td>\n      <td>1</td>\n      <td>3</td>\n      <td>4</td>\n      <td>1558.0</td>\n      <td>1530</td>\n      <td>2049.0</td>\n      <td>2040</td>\n      <td>WN</td>\n      <td>...</td>\n      <td>4.0</td>\n      <td>17.0</td>\n      <td>0</td>\n      <td>N</td>\n      <td>0</td>\n      <td>NaN</td>\n      <td>NaN</td>\n      <td>NaN</td>\n      <td>NaN</td>\n      <td>NaN</td>\n    </tr>\n    <tr>\n      <th>893</th>\n      <td>1210</td>\n      <td>2008</td>\n      <td>1</td>\n      <td>3</td>\n      <td>4</td>\n      <td>636.0</td>\n      <td>630</td>\n      <td>755.0</td>\n      <td>750</td>\n      <td>WN</td>\n      <td>...</td>\n      <td>7.0</td>\n      <td>18.0</td>\n      <td>0</td>\n      <td>N</td>\n      <td>0</td>\n      <td>NaN</td>\n      <td>NaN</td>\n      <td>NaN</td>\n      <td>NaN</td>\n      <td>NaN</td>\n    </tr>\n    <tr>\n      <th>8</th>\n      <td>15</td>\n      <td>2008</td>\n      <td>1</td>\n      <td>3</td>\n      <td>4</td>\n      <td>1029.0</td>\n      <td>1020</td>\n      <td>1021.0</td>\n      <td>1010</td>\n      <td>WN</td>\n      <td>...</td>\n      <td>6.0</td>\n      <td>9.0</td>\n      <td>0</td>\n      <td>N</td>\n      <td>0</td>\n      <td>NaN</td>\n      <td>NaN</td>\n      <td>NaN</td>\n      <td>NaN</td>\n      <td>NaN</td>\n    </tr>\n    <tr>\n      <th>672</th>\n      <td>886</td>\n      <td>2008</td>\n      <td>1</td>\n      <td>3</td>\n      <td>4</td>\n      <td>1355.0</td>\n      <td>1305</td>\n      <td>1451.0</td>\n      <td>1410</td>\n      <td>WN</td>\n      <td>...</td>\n      <td>4.0</td>\n      <td>8.0</td>\n      <td>0</td>\n      <td>N</td>\n      <td>0</td>\n      <td>39.0</td>\n      <td>0.0</td>\n      <td>0.0</td>\n      <td>0.0</td>\n      <td>2.0</td>\n    </tr>\n  </tbody>\n</table>\n<p>10 rows × 30 columns</p>\n</div>"
     },
     "metadata": {},
     "execution_count": 15
    }
   ],
   "source": [
    "df2"
   ]
  },
  {
   "cell_type": "code",
   "execution_count": 16,
   "metadata": {},
   "outputs": [
    {
     "output_type": "execute_result",
     "data": {
      "text/plain": [
       "292     0.0\n",
       "767     6.0\n",
       "281    14.0\n",
       "739    64.0\n",
       "142    35.0\n",
       "Name: ArrDelay, dtype: float64"
      ]
     },
     "metadata": {},
     "execution_count": 16
    }
   ],
   "source": [
    "df[\"ArrDelay\"].head()"
   ]
  },
  {
   "cell_type": "code",
   "execution_count": 17,
   "metadata": {},
   "outputs": [
    {
     "output_type": "execute_result",
     "data": {
      "text/plain": [
       "     Unnamed: 0  Year  Month  DayofMonth  DayOfWeek  DepTime  CRSDepTime  \\\n",
       "292         397  2008      1           3          4   1159.0        1150   \n",
       "767        1013  2008      1           3          4    837.0         830   \n",
       "281         385  2008      1           3          4   1851.0        1830   \n",
       "739         976  2008      1           3          4   1628.0        1520   \n",
       "142         203  2008      1           3          4   1838.0        1800   \n",
       "580         784  2008      1           3          4   1947.0        1935   \n",
       "223         310  2008      1           3          4   1558.0        1530   \n",
       "893        1210  2008      1           3          4    636.0         630   \n",
       "8            15  2008      1           3          4   1029.0        1020   \n",
       "672         886  2008      1           3          4   1355.0        1305   \n",
       "\n",
       "     ArrTime  CRSArrTime UniqueCarrier  ...  TaxiIn TaxiOut  Cancelled  \\\n",
       "292   1635.0        1635            WN  ...     3.0    12.0          0   \n",
       "767    951.0         945            WN  ...     8.0     9.0          0   \n",
       "281   2059.0        2045            WN  ...     3.0     6.0          0   \n",
       "739   1729.0        1625            WN  ...     1.0    10.0          0   \n",
       "142   1930.0        1855            WN  ...     3.0    17.0          0   \n",
       "580   2110.0        2100            WN  ...     4.0    14.0          0   \n",
       "223   2049.0        2040            WN  ...     4.0    17.0          0   \n",
       "893    755.0         750            WN  ...     7.0    18.0          0   \n",
       "8     1021.0        1010            WN  ...     6.0     9.0          0   \n",
       "672   1451.0        1410            WN  ...     4.0     8.0          0   \n",
       "\n",
       "     CancellationCode  Diverted  CarrierDelay  WeatherDelay NASDelay  \\\n",
       "292                 N         0           NaN           NaN      NaN   \n",
       "767                 N         0           NaN           NaN      NaN   \n",
       "281                 N         0           NaN           NaN      NaN   \n",
       "739                 N         0          17.0           0.0      0.0   \n",
       "142                 N         0           0.0           0.0      0.0   \n",
       "580                 N         0           NaN           NaN      NaN   \n",
       "223                 N         0           NaN           NaN      NaN   \n",
       "893                 N         0           NaN           NaN      NaN   \n",
       "8                   N         0           NaN           NaN      NaN   \n",
       "672                 N         0          39.0           0.0      0.0   \n",
       "\n",
       "    SecurityDelay  LateAircraftDelay  \n",
       "292           NaN                NaN  \n",
       "767           NaN                NaN  \n",
       "281           NaN                NaN  \n",
       "739           0.0               47.0  \n",
       "142           0.0               35.0  \n",
       "580           NaN                NaN  \n",
       "223           NaN                NaN  \n",
       "893           NaN                NaN  \n",
       "8             NaN                NaN  \n",
       "672           0.0                2.0  \n",
       "\n",
       "[10 rows x 30 columns]"
      ],
      "text/html": "<div>\n<style scoped>\n    .dataframe tbody tr th:only-of-type {\n        vertical-align: middle;\n    }\n\n    .dataframe tbody tr th {\n        vertical-align: top;\n    }\n\n    .dataframe thead th {\n        text-align: right;\n    }\n</style>\n<table border=\"1\" class=\"dataframe\">\n  <thead>\n    <tr style=\"text-align: right;\">\n      <th></th>\n      <th>Unnamed: 0</th>\n      <th>Year</th>\n      <th>Month</th>\n      <th>DayofMonth</th>\n      <th>DayOfWeek</th>\n      <th>DepTime</th>\n      <th>CRSDepTime</th>\n      <th>ArrTime</th>\n      <th>CRSArrTime</th>\n      <th>UniqueCarrier</th>\n      <th>...</th>\n      <th>TaxiIn</th>\n      <th>TaxiOut</th>\n      <th>Cancelled</th>\n      <th>CancellationCode</th>\n      <th>Diverted</th>\n      <th>CarrierDelay</th>\n      <th>WeatherDelay</th>\n      <th>NASDelay</th>\n      <th>SecurityDelay</th>\n      <th>LateAircraftDelay</th>\n    </tr>\n  </thead>\n  <tbody>\n    <tr>\n      <th>292</th>\n      <td>397</td>\n      <td>2008</td>\n      <td>1</td>\n      <td>3</td>\n      <td>4</td>\n      <td>1159.0</td>\n      <td>1150</td>\n      <td>1635.0</td>\n      <td>1635</td>\n      <td>WN</td>\n      <td>...</td>\n      <td>3.0</td>\n      <td>12.0</td>\n      <td>0</td>\n      <td>N</td>\n      <td>0</td>\n      <td>NaN</td>\n      <td>NaN</td>\n      <td>NaN</td>\n      <td>NaN</td>\n      <td>NaN</td>\n    </tr>\n    <tr>\n      <th>767</th>\n      <td>1013</td>\n      <td>2008</td>\n      <td>1</td>\n      <td>3</td>\n      <td>4</td>\n      <td>837.0</td>\n      <td>830</td>\n      <td>951.0</td>\n      <td>945</td>\n      <td>WN</td>\n      <td>...</td>\n      <td>8.0</td>\n      <td>9.0</td>\n      <td>0</td>\n      <td>N</td>\n      <td>0</td>\n      <td>NaN</td>\n      <td>NaN</td>\n      <td>NaN</td>\n      <td>NaN</td>\n      <td>NaN</td>\n    </tr>\n    <tr>\n      <th>281</th>\n      <td>385</td>\n      <td>2008</td>\n      <td>1</td>\n      <td>3</td>\n      <td>4</td>\n      <td>1851.0</td>\n      <td>1830</td>\n      <td>2059.0</td>\n      <td>2045</td>\n      <td>WN</td>\n      <td>...</td>\n      <td>3.0</td>\n      <td>6.0</td>\n      <td>0</td>\n      <td>N</td>\n      <td>0</td>\n      <td>NaN</td>\n      <td>NaN</td>\n      <td>NaN</td>\n      <td>NaN</td>\n      <td>NaN</td>\n    </tr>\n    <tr>\n      <th>739</th>\n      <td>976</td>\n      <td>2008</td>\n      <td>1</td>\n      <td>3</td>\n      <td>4</td>\n      <td>1628.0</td>\n      <td>1520</td>\n      <td>1729.0</td>\n      <td>1625</td>\n      <td>WN</td>\n      <td>...</td>\n      <td>1.0</td>\n      <td>10.0</td>\n      <td>0</td>\n      <td>N</td>\n      <td>0</td>\n      <td>17.0</td>\n      <td>0.0</td>\n      <td>0.0</td>\n      <td>0.0</td>\n      <td>47.0</td>\n    </tr>\n    <tr>\n      <th>142</th>\n      <td>203</td>\n      <td>2008</td>\n      <td>1</td>\n      <td>3</td>\n      <td>4</td>\n      <td>1838.0</td>\n      <td>1800</td>\n      <td>1930.0</td>\n      <td>1855</td>\n      <td>WN</td>\n      <td>...</td>\n      <td>3.0</td>\n      <td>17.0</td>\n      <td>0</td>\n      <td>N</td>\n      <td>0</td>\n      <td>0.0</td>\n      <td>0.0</td>\n      <td>0.0</td>\n      <td>0.0</td>\n      <td>35.0</td>\n    </tr>\n    <tr>\n      <th>580</th>\n      <td>784</td>\n      <td>2008</td>\n      <td>1</td>\n      <td>3</td>\n      <td>4</td>\n      <td>1947.0</td>\n      <td>1935</td>\n      <td>2110.0</td>\n      <td>2100</td>\n      <td>WN</td>\n      <td>...</td>\n      <td>4.0</td>\n      <td>14.0</td>\n      <td>0</td>\n      <td>N</td>\n      <td>0</td>\n      <td>NaN</td>\n      <td>NaN</td>\n      <td>NaN</td>\n      <td>NaN</td>\n      <td>NaN</td>\n    </tr>\n    <tr>\n      <th>223</th>\n      <td>310</td>\n      <td>2008</td>\n      <td>1</td>\n      <td>3</td>\n      <td>4</td>\n      <td>1558.0</td>\n      <td>1530</td>\n      <td>2049.0</td>\n      <td>2040</td>\n      <td>WN</td>\n      <td>...</td>\n      <td>4.0</td>\n      <td>17.0</td>\n      <td>0</td>\n      <td>N</td>\n      <td>0</td>\n      <td>NaN</td>\n      <td>NaN</td>\n      <td>NaN</td>\n      <td>NaN</td>\n      <td>NaN</td>\n    </tr>\n    <tr>\n      <th>893</th>\n      <td>1210</td>\n      <td>2008</td>\n      <td>1</td>\n      <td>3</td>\n      <td>4</td>\n      <td>636.0</td>\n      <td>630</td>\n      <td>755.0</td>\n      <td>750</td>\n      <td>WN</td>\n      <td>...</td>\n      <td>7.0</td>\n      <td>18.0</td>\n      <td>0</td>\n      <td>N</td>\n      <td>0</td>\n      <td>NaN</td>\n      <td>NaN</td>\n      <td>NaN</td>\n      <td>NaN</td>\n      <td>NaN</td>\n    </tr>\n    <tr>\n      <th>8</th>\n      <td>15</td>\n      <td>2008</td>\n      <td>1</td>\n      <td>3</td>\n      <td>4</td>\n      <td>1029.0</td>\n      <td>1020</td>\n      <td>1021.0</td>\n      <td>1010</td>\n      <td>WN</td>\n      <td>...</td>\n      <td>6.0</td>\n      <td>9.0</td>\n      <td>0</td>\n      <td>N</td>\n      <td>0</td>\n      <td>NaN</td>\n      <td>NaN</td>\n      <td>NaN</td>\n      <td>NaN</td>\n      <td>NaN</td>\n    </tr>\n    <tr>\n      <th>672</th>\n      <td>886</td>\n      <td>2008</td>\n      <td>1</td>\n      <td>3</td>\n      <td>4</td>\n      <td>1355.0</td>\n      <td>1305</td>\n      <td>1451.0</td>\n      <td>1410</td>\n      <td>WN</td>\n      <td>...</td>\n      <td>4.0</td>\n      <td>8.0</td>\n      <td>0</td>\n      <td>N</td>\n      <td>0</td>\n      <td>39.0</td>\n      <td>0.0</td>\n      <td>0.0</td>\n      <td>0.0</td>\n      <td>2.0</td>\n    </tr>\n  </tbody>\n</table>\n<p>10 rows × 30 columns</p>\n</div>"
     },
     "metadata": {},
     "execution_count": 17
    }
   ],
   "source": [
    "df[0:10]"
   ]
  },
  {
   "cell_type": "code",
   "execution_count": 18,
   "metadata": {},
   "outputs": [
    {
     "output_type": "execute_result",
     "data": {
      "text/plain": [
       "     Unnamed: 0  Year  Month  DayofMonth  DayOfWeek  DepTime  CRSDepTime  \\\n",
       "292         397  2008      1           3          4   1159.0        1150   \n",
       "767        1013  2008      1           3          4    837.0         830   \n",
       "281         385  2008      1           3          4   1851.0        1830   \n",
       "142         203  2008      1           3          4   1838.0        1800   \n",
       "580         784  2008      1           3          4   1947.0        1935   \n",
       "\n",
       "     ArrTime  CRSArrTime UniqueCarrier  ...  TaxiIn TaxiOut  Cancelled  \\\n",
       "292   1635.0        1635            WN  ...     3.0    12.0          0   \n",
       "767    951.0         945            WN  ...     8.0     9.0          0   \n",
       "281   2059.0        2045            WN  ...     3.0     6.0          0   \n",
       "142   1930.0        1855            WN  ...     3.0    17.0          0   \n",
       "580   2110.0        2100            WN  ...     4.0    14.0          0   \n",
       "\n",
       "     CancellationCode  Diverted  CarrierDelay  WeatherDelay NASDelay  \\\n",
       "292                 N         0           NaN           NaN      NaN   \n",
       "767                 N         0           NaN           NaN      NaN   \n",
       "281                 N         0           NaN           NaN      NaN   \n",
       "142                 N         0           0.0           0.0      0.0   \n",
       "580                 N         0           NaN           NaN      NaN   \n",
       "\n",
       "    SecurityDelay  LateAircraftDelay  \n",
       "292           NaN                NaN  \n",
       "767           NaN                NaN  \n",
       "281           NaN                NaN  \n",
       "142           0.0               35.0  \n",
       "580           NaN                NaN  \n",
       "\n",
       "[5 rows x 30 columns]"
      ],
      "text/html": "<div>\n<style scoped>\n    .dataframe tbody tr th:only-of-type {\n        vertical-align: middle;\n    }\n\n    .dataframe tbody tr th {\n        vertical-align: top;\n    }\n\n    .dataframe thead th {\n        text-align: right;\n    }\n</style>\n<table border=\"1\" class=\"dataframe\">\n  <thead>\n    <tr style=\"text-align: right;\">\n      <th></th>\n      <th>Unnamed: 0</th>\n      <th>Year</th>\n      <th>Month</th>\n      <th>DayofMonth</th>\n      <th>DayOfWeek</th>\n      <th>DepTime</th>\n      <th>CRSDepTime</th>\n      <th>ArrTime</th>\n      <th>CRSArrTime</th>\n      <th>UniqueCarrier</th>\n      <th>...</th>\n      <th>TaxiIn</th>\n      <th>TaxiOut</th>\n      <th>Cancelled</th>\n      <th>CancellationCode</th>\n      <th>Diverted</th>\n      <th>CarrierDelay</th>\n      <th>WeatherDelay</th>\n      <th>NASDelay</th>\n      <th>SecurityDelay</th>\n      <th>LateAircraftDelay</th>\n    </tr>\n  </thead>\n  <tbody>\n    <tr>\n      <th>292</th>\n      <td>397</td>\n      <td>2008</td>\n      <td>1</td>\n      <td>3</td>\n      <td>4</td>\n      <td>1159.0</td>\n      <td>1150</td>\n      <td>1635.0</td>\n      <td>1635</td>\n      <td>WN</td>\n      <td>...</td>\n      <td>3.0</td>\n      <td>12.0</td>\n      <td>0</td>\n      <td>N</td>\n      <td>0</td>\n      <td>NaN</td>\n      <td>NaN</td>\n      <td>NaN</td>\n      <td>NaN</td>\n      <td>NaN</td>\n    </tr>\n    <tr>\n      <th>767</th>\n      <td>1013</td>\n      <td>2008</td>\n      <td>1</td>\n      <td>3</td>\n      <td>4</td>\n      <td>837.0</td>\n      <td>830</td>\n      <td>951.0</td>\n      <td>945</td>\n      <td>WN</td>\n      <td>...</td>\n      <td>8.0</td>\n      <td>9.0</td>\n      <td>0</td>\n      <td>N</td>\n      <td>0</td>\n      <td>NaN</td>\n      <td>NaN</td>\n      <td>NaN</td>\n      <td>NaN</td>\n      <td>NaN</td>\n    </tr>\n    <tr>\n      <th>281</th>\n      <td>385</td>\n      <td>2008</td>\n      <td>1</td>\n      <td>3</td>\n      <td>4</td>\n      <td>1851.0</td>\n      <td>1830</td>\n      <td>2059.0</td>\n      <td>2045</td>\n      <td>WN</td>\n      <td>...</td>\n      <td>3.0</td>\n      <td>6.0</td>\n      <td>0</td>\n      <td>N</td>\n      <td>0</td>\n      <td>NaN</td>\n      <td>NaN</td>\n      <td>NaN</td>\n      <td>NaN</td>\n      <td>NaN</td>\n    </tr>\n    <tr>\n      <th>142</th>\n      <td>203</td>\n      <td>2008</td>\n      <td>1</td>\n      <td>3</td>\n      <td>4</td>\n      <td>1838.0</td>\n      <td>1800</td>\n      <td>1930.0</td>\n      <td>1855</td>\n      <td>WN</td>\n      <td>...</td>\n      <td>3.0</td>\n      <td>17.0</td>\n      <td>0</td>\n      <td>N</td>\n      <td>0</td>\n      <td>0.0</td>\n      <td>0.0</td>\n      <td>0.0</td>\n      <td>0.0</td>\n      <td>35.0</td>\n    </tr>\n    <tr>\n      <th>580</th>\n      <td>784</td>\n      <td>2008</td>\n      <td>1</td>\n      <td>3</td>\n      <td>4</td>\n      <td>1947.0</td>\n      <td>1935</td>\n      <td>2110.0</td>\n      <td>2100</td>\n      <td>WN</td>\n      <td>...</td>\n      <td>4.0</td>\n      <td>14.0</td>\n      <td>0</td>\n      <td>N</td>\n      <td>0</td>\n      <td>NaN</td>\n      <td>NaN</td>\n      <td>NaN</td>\n      <td>NaN</td>\n      <td>NaN</td>\n    </tr>\n  </tbody>\n</table>\n<p>5 rows × 30 columns</p>\n</div>"
     },
     "metadata": {},
     "execution_count": 18
    }
   ],
   "source": [
    "df[df[\"ArrDelay\"] < 60].head()"
   ]
  },
  {
   "cell_type": "code",
   "execution_count": 19,
   "metadata": {},
   "outputs": [
    {
     "output_type": "execute_result",
     "data": {
      "text/plain": [
       "     Unnamed: 0  Year  Month  DayofMonth  DayOfWeek  DepTime  CRSDepTime  \\\n",
       "739         976  2008      1           3          4   1628.0        1520   \n",
       "541         742  2008      1           3          4   1544.0        1405   \n",
       "676         890  2008      1           3          4   2221.0        2050   \n",
       "7            11  2008      1           3          4   1644.0        1510   \n",
       "23           37  2008      1           3          4   1812.0        1650   \n",
       "\n",
       "     ArrTime  CRSArrTime UniqueCarrier  ...  TaxiIn TaxiOut  Cancelled  \\\n",
       "739   1729.0        1625            WN  ...     1.0    10.0          0   \n",
       "541   1825.0        1650            WN  ...     5.0    15.0          0   \n",
       "676    135.0          20            WN  ...     3.0     9.0          0   \n",
       "7     1845.0        1725            WN  ...     6.0     8.0          0   \n",
       "23    1927.0        1815            WN  ...     6.0    11.0          0   \n",
       "\n",
       "     CancellationCode  Diverted  CarrierDelay  WeatherDelay NASDelay  \\\n",
       "739                 N         0          17.0           0.0      0.0   \n",
       "541                 N         0          51.0           0.0      0.0   \n",
       "676                 N         0          44.0           0.0      0.0   \n",
       "7                   N         0           8.0           0.0      0.0   \n",
       "23                  N         0           3.0           0.0      0.0   \n",
       "\n",
       "    SecurityDelay  LateAircraftDelay  \n",
       "739           0.0               47.0  \n",
       "541           0.0               44.0  \n",
       "676           0.0               31.0  \n",
       "7             0.0               72.0  \n",
       "23            0.0               69.0  \n",
       "\n",
       "[5 rows x 30 columns]"
      ],
      "text/html": "<div>\n<style scoped>\n    .dataframe tbody tr th:only-of-type {\n        vertical-align: middle;\n    }\n\n    .dataframe tbody tr th {\n        vertical-align: top;\n    }\n\n    .dataframe thead th {\n        text-align: right;\n    }\n</style>\n<table border=\"1\" class=\"dataframe\">\n  <thead>\n    <tr style=\"text-align: right;\">\n      <th></th>\n      <th>Unnamed: 0</th>\n      <th>Year</th>\n      <th>Month</th>\n      <th>DayofMonth</th>\n      <th>DayOfWeek</th>\n      <th>DepTime</th>\n      <th>CRSDepTime</th>\n      <th>ArrTime</th>\n      <th>CRSArrTime</th>\n      <th>UniqueCarrier</th>\n      <th>...</th>\n      <th>TaxiIn</th>\n      <th>TaxiOut</th>\n      <th>Cancelled</th>\n      <th>CancellationCode</th>\n      <th>Diverted</th>\n      <th>CarrierDelay</th>\n      <th>WeatherDelay</th>\n      <th>NASDelay</th>\n      <th>SecurityDelay</th>\n      <th>LateAircraftDelay</th>\n    </tr>\n  </thead>\n  <tbody>\n    <tr>\n      <th>739</th>\n      <td>976</td>\n      <td>2008</td>\n      <td>1</td>\n      <td>3</td>\n      <td>4</td>\n      <td>1628.0</td>\n      <td>1520</td>\n      <td>1729.0</td>\n      <td>1625</td>\n      <td>WN</td>\n      <td>...</td>\n      <td>1.0</td>\n      <td>10.0</td>\n      <td>0</td>\n      <td>N</td>\n      <td>0</td>\n      <td>17.0</td>\n      <td>0.0</td>\n      <td>0.0</td>\n      <td>0.0</td>\n      <td>47.0</td>\n    </tr>\n    <tr>\n      <th>541</th>\n      <td>742</td>\n      <td>2008</td>\n      <td>1</td>\n      <td>3</td>\n      <td>4</td>\n      <td>1544.0</td>\n      <td>1405</td>\n      <td>1825.0</td>\n      <td>1650</td>\n      <td>WN</td>\n      <td>...</td>\n      <td>5.0</td>\n      <td>15.0</td>\n      <td>0</td>\n      <td>N</td>\n      <td>0</td>\n      <td>51.0</td>\n      <td>0.0</td>\n      <td>0.0</td>\n      <td>0.0</td>\n      <td>44.0</td>\n    </tr>\n    <tr>\n      <th>676</th>\n      <td>890</td>\n      <td>2008</td>\n      <td>1</td>\n      <td>3</td>\n      <td>4</td>\n      <td>2221.0</td>\n      <td>2050</td>\n      <td>135.0</td>\n      <td>20</td>\n      <td>WN</td>\n      <td>...</td>\n      <td>3.0</td>\n      <td>9.0</td>\n      <td>0</td>\n      <td>N</td>\n      <td>0</td>\n      <td>44.0</td>\n      <td>0.0</td>\n      <td>0.0</td>\n      <td>0.0</td>\n      <td>31.0</td>\n    </tr>\n    <tr>\n      <th>7</th>\n      <td>11</td>\n      <td>2008</td>\n      <td>1</td>\n      <td>3</td>\n      <td>4</td>\n      <td>1644.0</td>\n      <td>1510</td>\n      <td>1845.0</td>\n      <td>1725</td>\n      <td>WN</td>\n      <td>...</td>\n      <td>6.0</td>\n      <td>8.0</td>\n      <td>0</td>\n      <td>N</td>\n      <td>0</td>\n      <td>8.0</td>\n      <td>0.0</td>\n      <td>0.0</td>\n      <td>0.0</td>\n      <td>72.0</td>\n    </tr>\n    <tr>\n      <th>23</th>\n      <td>37</td>\n      <td>2008</td>\n      <td>1</td>\n      <td>3</td>\n      <td>4</td>\n      <td>1812.0</td>\n      <td>1650</td>\n      <td>1927.0</td>\n      <td>1815</td>\n      <td>WN</td>\n      <td>...</td>\n      <td>6.0</td>\n      <td>11.0</td>\n      <td>0</td>\n      <td>N</td>\n      <td>0</td>\n      <td>3.0</td>\n      <td>0.0</td>\n      <td>0.0</td>\n      <td>0.0</td>\n      <td>69.0</td>\n    </tr>\n  </tbody>\n</table>\n<p>5 rows × 30 columns</p>\n</div>"
     },
     "metadata": {},
     "execution_count": 19
    }
   ],
   "source": [
    "df[df[\"ArrDelay\"] > 60].head()"
   ]
  },
  {
   "cell_type": "code",
   "execution_count": 20,
   "metadata": {},
   "outputs": [
    {
     "output_type": "execute_result",
     "data": {
      "text/plain": [
       "     Unnamed: 0  Year  Month  DayofMonth  DayOfWeek  DepTime  CRSDepTime  \\\n",
       "437         610  2008      1           3          4   1942.0        1840   \n",
       "997        1356  2008      1           3          4   1933.0        1835   \n",
       "61           96  2008      1           3          4   2039.0        1930   \n",
       "310         423  2008      1           3          4   2117.0        2010   \n",
       "\n",
       "     ArrTime  CRSArrTime UniqueCarrier  ...  TaxiIn TaxiOut  Cancelled  \\\n",
       "437   2205.0        2105            WN  ...     4.0     9.0          0   \n",
       "997   1955.0        1855            WN  ...     2.0    10.0          0   \n",
       "61     155.0          55            WN  ...     5.0    14.0          0   \n",
       "310   2355.0        2255            WN  ...     4.0    10.0          0   \n",
       "\n",
       "     CancellationCode  Diverted  CarrierDelay  WeatherDelay NASDelay  \\\n",
       "437                 N         0          60.0           0.0      0.0   \n",
       "997                 N         0           0.0           0.0      3.0   \n",
       "61                  N         0           0.0           0.0     22.0   \n",
       "310                 N         0           0.0           0.0      1.0   \n",
       "\n",
       "    SecurityDelay  LateAircraftDelay  \n",
       "437           0.0                0.0  \n",
       "997           0.0               57.0  \n",
       "61            0.0               38.0  \n",
       "310           0.0               59.0  \n",
       "\n",
       "[4 rows x 30 columns]"
      ],
      "text/html": "<div>\n<style scoped>\n    .dataframe tbody tr th:only-of-type {\n        vertical-align: middle;\n    }\n\n    .dataframe tbody tr th {\n        vertical-align: top;\n    }\n\n    .dataframe thead th {\n        text-align: right;\n    }\n</style>\n<table border=\"1\" class=\"dataframe\">\n  <thead>\n    <tr style=\"text-align: right;\">\n      <th></th>\n      <th>Unnamed: 0</th>\n      <th>Year</th>\n      <th>Month</th>\n      <th>DayofMonth</th>\n      <th>DayOfWeek</th>\n      <th>DepTime</th>\n      <th>CRSDepTime</th>\n      <th>ArrTime</th>\n      <th>CRSArrTime</th>\n      <th>UniqueCarrier</th>\n      <th>...</th>\n      <th>TaxiIn</th>\n      <th>TaxiOut</th>\n      <th>Cancelled</th>\n      <th>CancellationCode</th>\n      <th>Diverted</th>\n      <th>CarrierDelay</th>\n      <th>WeatherDelay</th>\n      <th>NASDelay</th>\n      <th>SecurityDelay</th>\n      <th>LateAircraftDelay</th>\n    </tr>\n  </thead>\n  <tbody>\n    <tr>\n      <th>437</th>\n      <td>610</td>\n      <td>2008</td>\n      <td>1</td>\n      <td>3</td>\n      <td>4</td>\n      <td>1942.0</td>\n      <td>1840</td>\n      <td>2205.0</td>\n      <td>2105</td>\n      <td>WN</td>\n      <td>...</td>\n      <td>4.0</td>\n      <td>9.0</td>\n      <td>0</td>\n      <td>N</td>\n      <td>0</td>\n      <td>60.0</td>\n      <td>0.0</td>\n      <td>0.0</td>\n      <td>0.0</td>\n      <td>0.0</td>\n    </tr>\n    <tr>\n      <th>997</th>\n      <td>1356</td>\n      <td>2008</td>\n      <td>1</td>\n      <td>3</td>\n      <td>4</td>\n      <td>1933.0</td>\n      <td>1835</td>\n      <td>1955.0</td>\n      <td>1855</td>\n      <td>WN</td>\n      <td>...</td>\n      <td>2.0</td>\n      <td>10.0</td>\n      <td>0</td>\n      <td>N</td>\n      <td>0</td>\n      <td>0.0</td>\n      <td>0.0</td>\n      <td>3.0</td>\n      <td>0.0</td>\n      <td>57.0</td>\n    </tr>\n    <tr>\n      <th>61</th>\n      <td>96</td>\n      <td>2008</td>\n      <td>1</td>\n      <td>3</td>\n      <td>4</td>\n      <td>2039.0</td>\n      <td>1930</td>\n      <td>155.0</td>\n      <td>55</td>\n      <td>WN</td>\n      <td>...</td>\n      <td>5.0</td>\n      <td>14.0</td>\n      <td>0</td>\n      <td>N</td>\n      <td>0</td>\n      <td>0.0</td>\n      <td>0.0</td>\n      <td>22.0</td>\n      <td>0.0</td>\n      <td>38.0</td>\n    </tr>\n    <tr>\n      <th>310</th>\n      <td>423</td>\n      <td>2008</td>\n      <td>1</td>\n      <td>3</td>\n      <td>4</td>\n      <td>2117.0</td>\n      <td>2010</td>\n      <td>2355.0</td>\n      <td>2255</td>\n      <td>WN</td>\n      <td>...</td>\n      <td>4.0</td>\n      <td>10.0</td>\n      <td>0</td>\n      <td>N</td>\n      <td>0</td>\n      <td>0.0</td>\n      <td>0.0</td>\n      <td>1.0</td>\n      <td>0.0</td>\n      <td>59.0</td>\n    </tr>\n  </tbody>\n</table>\n<p>4 rows × 30 columns</p>\n</div>"
     },
     "metadata": {},
     "execution_count": 20
    }
   ],
   "source": [
    "df[df[\"ArrDelay\"] == 60].head()"
   ]
  },
  {
   "cell_type": "code",
   "execution_count": 21,
   "metadata": {},
   "outputs": [
    {
     "output_type": "execute_result",
     "data": {
      "text/plain": [
       "     Unnamed: 0  Year  Month  DayofMonth  DayOfWeek  DepTime  CRSDepTime  \\\n",
       "292         397  2008      1           3          4   1159.0        1150   \n",
       "767        1013  2008      1           3          4    837.0         830   \n",
       "281         385  2008      1           3          4   1851.0        1830   \n",
       "739         976  2008      1           3          4   1628.0        1520   \n",
       "142         203  2008      1           3          4   1838.0        1800   \n",
       "\n",
       "     ArrTime  CRSArrTime UniqueCarrier  ...  TaxiIn TaxiOut  Cancelled  \\\n",
       "292   1635.0        1635            WN  ...     3.0    12.0          0   \n",
       "767    951.0         945            WN  ...     8.0     9.0          0   \n",
       "281   2059.0        2045            WN  ...     3.0     6.0          0   \n",
       "739   1729.0        1625            WN  ...     1.0    10.0          0   \n",
       "142   1930.0        1855            WN  ...     3.0    17.0          0   \n",
       "\n",
       "     CancellationCode  Diverted  CarrierDelay  WeatherDelay NASDelay  \\\n",
       "292                 N         0           NaN           NaN      NaN   \n",
       "767                 N         0           NaN           NaN      NaN   \n",
       "281                 N         0           NaN           NaN      NaN   \n",
       "739                 N         0          17.0           0.0      0.0   \n",
       "142                 N         0           0.0           0.0      0.0   \n",
       "\n",
       "    SecurityDelay  LateAircraftDelay  \n",
       "292           NaN                NaN  \n",
       "767           NaN                NaN  \n",
       "281           NaN                NaN  \n",
       "739           0.0               47.0  \n",
       "142           0.0               35.0  \n",
       "\n",
       "[5 rows x 30 columns]"
      ],
      "text/html": "<div>\n<style scoped>\n    .dataframe tbody tr th:only-of-type {\n        vertical-align: middle;\n    }\n\n    .dataframe tbody tr th {\n        vertical-align: top;\n    }\n\n    .dataframe thead th {\n        text-align: right;\n    }\n</style>\n<table border=\"1\" class=\"dataframe\">\n  <thead>\n    <tr style=\"text-align: right;\">\n      <th></th>\n      <th>Unnamed: 0</th>\n      <th>Year</th>\n      <th>Month</th>\n      <th>DayofMonth</th>\n      <th>DayOfWeek</th>\n      <th>DepTime</th>\n      <th>CRSDepTime</th>\n      <th>ArrTime</th>\n      <th>CRSArrTime</th>\n      <th>UniqueCarrier</th>\n      <th>...</th>\n      <th>TaxiIn</th>\n      <th>TaxiOut</th>\n      <th>Cancelled</th>\n      <th>CancellationCode</th>\n      <th>Diverted</th>\n      <th>CarrierDelay</th>\n      <th>WeatherDelay</th>\n      <th>NASDelay</th>\n      <th>SecurityDelay</th>\n      <th>LateAircraftDelay</th>\n    </tr>\n  </thead>\n  <tbody>\n    <tr>\n      <th>292</th>\n      <td>397</td>\n      <td>2008</td>\n      <td>1</td>\n      <td>3</td>\n      <td>4</td>\n      <td>1159.0</td>\n      <td>1150</td>\n      <td>1635.0</td>\n      <td>1635</td>\n      <td>WN</td>\n      <td>...</td>\n      <td>3.0</td>\n      <td>12.0</td>\n      <td>0</td>\n      <td>N</td>\n      <td>0</td>\n      <td>NaN</td>\n      <td>NaN</td>\n      <td>NaN</td>\n      <td>NaN</td>\n      <td>NaN</td>\n    </tr>\n    <tr>\n      <th>767</th>\n      <td>1013</td>\n      <td>2008</td>\n      <td>1</td>\n      <td>3</td>\n      <td>4</td>\n      <td>837.0</td>\n      <td>830</td>\n      <td>951.0</td>\n      <td>945</td>\n      <td>WN</td>\n      <td>...</td>\n      <td>8.0</td>\n      <td>9.0</td>\n      <td>0</td>\n      <td>N</td>\n      <td>0</td>\n      <td>NaN</td>\n      <td>NaN</td>\n      <td>NaN</td>\n      <td>NaN</td>\n      <td>NaN</td>\n    </tr>\n    <tr>\n      <th>281</th>\n      <td>385</td>\n      <td>2008</td>\n      <td>1</td>\n      <td>3</td>\n      <td>4</td>\n      <td>1851.0</td>\n      <td>1830</td>\n      <td>2059.0</td>\n      <td>2045</td>\n      <td>WN</td>\n      <td>...</td>\n      <td>3.0</td>\n      <td>6.0</td>\n      <td>0</td>\n      <td>N</td>\n      <td>0</td>\n      <td>NaN</td>\n      <td>NaN</td>\n      <td>NaN</td>\n      <td>NaN</td>\n      <td>NaN</td>\n    </tr>\n    <tr>\n      <th>739</th>\n      <td>976</td>\n      <td>2008</td>\n      <td>1</td>\n      <td>3</td>\n      <td>4</td>\n      <td>1628.0</td>\n      <td>1520</td>\n      <td>1729.0</td>\n      <td>1625</td>\n      <td>WN</td>\n      <td>...</td>\n      <td>1.0</td>\n      <td>10.0</td>\n      <td>0</td>\n      <td>N</td>\n      <td>0</td>\n      <td>17.0</td>\n      <td>0.0</td>\n      <td>0.0</td>\n      <td>0.0</td>\n      <td>47.0</td>\n    </tr>\n    <tr>\n      <th>142</th>\n      <td>203</td>\n      <td>2008</td>\n      <td>1</td>\n      <td>3</td>\n      <td>4</td>\n      <td>1838.0</td>\n      <td>1800</td>\n      <td>1930.0</td>\n      <td>1855</td>\n      <td>WN</td>\n      <td>...</td>\n      <td>3.0</td>\n      <td>17.0</td>\n      <td>0</td>\n      <td>N</td>\n      <td>0</td>\n      <td>0.0</td>\n      <td>0.0</td>\n      <td>0.0</td>\n      <td>0.0</td>\n      <td>35.0</td>\n    </tr>\n  </tbody>\n</table>\n<p>5 rows × 30 columns</p>\n</div>"
     },
     "metadata": {},
     "execution_count": 21
    }
   ],
   "source": [
    "df[df[\"ArrDelay\"] != 60].head()"
   ]
  },
  {
   "cell_type": "code",
   "execution_count": 22,
   "metadata": {},
   "outputs": [
    {
     "output_type": "execute_result",
     "data": {
      "text/plain": [
       "Empty DataFrame\n",
       "Columns: [Unnamed: 0, Year, Month, DayofMonth, DayOfWeek, DepTime, CRSDepTime, ArrTime, CRSArrTime, UniqueCarrier, FlightNum, TailNum, ActualElapsedTime, CRSElapsedTime, AirTime, ArrDelay, DepDelay, Origin, Dest, Distance, TaxiIn, TaxiOut, Cancelled, CancellationCode, Diverted, CarrierDelay, WeatherDelay, NASDelay, SecurityDelay, LateAircraftDelay]\n",
       "Index: []\n",
       "\n",
       "[0 rows x 30 columns]"
      ],
      "text/html": "<div>\n<style scoped>\n    .dataframe tbody tr th:only-of-type {\n        vertical-align: middle;\n    }\n\n    .dataframe tbody tr th {\n        vertical-align: top;\n    }\n\n    .dataframe thead th {\n        text-align: right;\n    }\n</style>\n<table border=\"1\" class=\"dataframe\">\n  <thead>\n    <tr style=\"text-align: right;\">\n      <th></th>\n      <th>Unnamed: 0</th>\n      <th>Year</th>\n      <th>Month</th>\n      <th>DayofMonth</th>\n      <th>DayOfWeek</th>\n      <th>DepTime</th>\n      <th>CRSDepTime</th>\n      <th>ArrTime</th>\n      <th>CRSArrTime</th>\n      <th>UniqueCarrier</th>\n      <th>...</th>\n      <th>TaxiIn</th>\n      <th>TaxiOut</th>\n      <th>Cancelled</th>\n      <th>CancellationCode</th>\n      <th>Diverted</th>\n      <th>CarrierDelay</th>\n      <th>WeatherDelay</th>\n      <th>NASDelay</th>\n      <th>SecurityDelay</th>\n      <th>LateAircraftDelay</th>\n    </tr>\n  </thead>\n  <tbody>\n  </tbody>\n</table>\n<p>0 rows × 30 columns</p>\n</div>"
     },
     "metadata": {},
     "execution_count": 22
    }
   ],
   "source": [
    "df[df[\"Origin\"]==\"ATL\"].head()"
   ]
  },
  {
   "cell_type": "code",
   "execution_count": 23,
   "metadata": {},
   "outputs": [
    {
     "output_type": "execute_result",
     "data": {
      "text/plain": [
       "Empty DataFrame\n",
       "Columns: [Unnamed: 0, Year, Month, DayofMonth, DayOfWeek, DepTime, CRSDepTime, ArrTime, CRSArrTime, UniqueCarrier, FlightNum, TailNum, ActualElapsedTime, CRSElapsedTime, AirTime, ArrDelay, DepDelay, Origin, Dest, Distance, TaxiIn, TaxiOut, Cancelled, CancellationCode, Diverted, CarrierDelay, WeatherDelay, NASDelay, SecurityDelay, LateAircraftDelay]\n",
       "Index: []\n",
       "\n",
       "[0 rows x 30 columns]"
      ],
      "text/html": "<div>\n<style scoped>\n    .dataframe tbody tr th:only-of-type {\n        vertical-align: middle;\n    }\n\n    .dataframe tbody tr th {\n        vertical-align: top;\n    }\n\n    .dataframe thead th {\n        text-align: right;\n    }\n</style>\n<table border=\"1\" class=\"dataframe\">\n  <thead>\n    <tr style=\"text-align: right;\">\n      <th></th>\n      <th>Unnamed: 0</th>\n      <th>Year</th>\n      <th>Month</th>\n      <th>DayofMonth</th>\n      <th>DayOfWeek</th>\n      <th>DepTime</th>\n      <th>CRSDepTime</th>\n      <th>ArrTime</th>\n      <th>CRSArrTime</th>\n      <th>UniqueCarrier</th>\n      <th>...</th>\n      <th>TaxiIn</th>\n      <th>TaxiOut</th>\n      <th>Cancelled</th>\n      <th>CancellationCode</th>\n      <th>Diverted</th>\n      <th>CarrierDelay</th>\n      <th>WeatherDelay</th>\n      <th>NASDelay</th>\n      <th>SecurityDelay</th>\n      <th>LateAircraftDelay</th>\n    </tr>\n  </thead>\n  <tbody>\n  </tbody>\n</table>\n<p>0 rows × 30 columns</p>\n</div>"
     },
     "metadata": {},
     "execution_count": 23
    }
   ],
   "source": [
    "df[(df[\"Origin\"]==\"ATL\") & (df[\"ArrDelay\"] > 60)].head()"
   ]
  },
  {
   "cell_type": "code",
   "execution_count": 24,
   "metadata": {},
   "outputs": [
    {
     "output_type": "execute_result",
     "data": {
      "text/plain": [
       "Empty DataFrame\n",
       "Columns: [Unnamed: 0, Year, Month, DayofMonth, DayOfWeek, DepTime, CRSDepTime, ArrTime, CRSArrTime, UniqueCarrier, FlightNum, TailNum, ActualElapsedTime, CRSElapsedTime, AirTime, ArrDelay, DepDelay, Origin, Dest, Distance, TaxiIn, TaxiOut, Cancelled, CancellationCode, Diverted, CarrierDelay, WeatherDelay, NASDelay, SecurityDelay, LateAircraftDelay]\n",
       "Index: []\n",
       "\n",
       "[0 rows x 30 columns]"
      ],
      "text/html": "<div>\n<style scoped>\n    .dataframe tbody tr th:only-of-type {\n        vertical-align: middle;\n    }\n\n    .dataframe tbody tr th {\n        vertical-align: top;\n    }\n\n    .dataframe thead th {\n        text-align: right;\n    }\n</style>\n<table border=\"1\" class=\"dataframe\">\n  <thead>\n    <tr style=\"text-align: right;\">\n      <th></th>\n      <th>Unnamed: 0</th>\n      <th>Year</th>\n      <th>Month</th>\n      <th>DayofMonth</th>\n      <th>DayOfWeek</th>\n      <th>DepTime</th>\n      <th>CRSDepTime</th>\n      <th>ArrTime</th>\n      <th>CRSArrTime</th>\n      <th>UniqueCarrier</th>\n      <th>...</th>\n      <th>TaxiIn</th>\n      <th>TaxiOut</th>\n      <th>Cancelled</th>\n      <th>CancellationCode</th>\n      <th>Diverted</th>\n      <th>CarrierDelay</th>\n      <th>WeatherDelay</th>\n      <th>NASDelay</th>\n      <th>SecurityDelay</th>\n      <th>LateAircraftDelay</th>\n    </tr>\n  </thead>\n  <tbody>\n  </tbody>\n</table>\n<p>0 rows × 30 columns</p>\n</div>"
     },
     "metadata": {},
     "execution_count": 24
    }
   ],
   "source": [
    "df[df.Origin.isin([\"HOU\",\"ATL\"])].head()"
   ]
  },
  {
   "cell_type": "code",
   "execution_count": 25,
   "metadata": {},
   "outputs": [
    {
     "output_type": "execute_result",
     "data": {
      "text/plain": [
       "Empty DataFrame\n",
       "Columns: [Unnamed: 0, Year, Month, DayofMonth, DayOfWeek, DepTime, CRSDepTime, ArrTime, CRSArrTime, UniqueCarrier, FlightNum, TailNum, ActualElapsedTime, CRSElapsedTime, AirTime, ArrDelay, DepDelay, Origin, Dest, Distance, TaxiIn, TaxiOut, Cancelled, CancellationCode, Diverted, CarrierDelay, WeatherDelay, NASDelay, SecurityDelay, LateAircraftDelay]\n",
       "Index: []\n",
       "\n",
       "[0 rows x 30 columns]"
      ],
      "text/html": "<div>\n<style scoped>\n    .dataframe tbody tr th:only-of-type {\n        vertical-align: middle;\n    }\n\n    .dataframe tbody tr th {\n        vertical-align: top;\n    }\n\n    .dataframe thead th {\n        text-align: right;\n    }\n</style>\n<table border=\"1\" class=\"dataframe\">\n  <thead>\n    <tr style=\"text-align: right;\">\n      <th></th>\n      <th>Unnamed: 0</th>\n      <th>Year</th>\n      <th>Month</th>\n      <th>DayofMonth</th>\n      <th>DayOfWeek</th>\n      <th>DepTime</th>\n      <th>CRSDepTime</th>\n      <th>ArrTime</th>\n      <th>CRSArrTime</th>\n      <th>UniqueCarrier</th>\n      <th>...</th>\n      <th>TaxiIn</th>\n      <th>TaxiOut</th>\n      <th>Cancelled</th>\n      <th>CancellationCode</th>\n      <th>Diverted</th>\n      <th>CarrierDelay</th>\n      <th>WeatherDelay</th>\n      <th>NASDelay</th>\n      <th>SecurityDelay</th>\n      <th>LateAircraftDelay</th>\n    </tr>\n  </thead>\n  <tbody>\n  </tbody>\n</table>\n<p>0 rows × 30 columns</p>\n</div>"
     },
     "metadata": {},
     "execution_count": 25
    }
   ],
   "source": [
    "df[pd.isna(df[\"CRSDepTime\"])].head()"
   ]
  },
  {
   "cell_type": "code",
   "execution_count": 26,
   "metadata": {},
   "outputs": [
    {
     "output_type": "execute_result",
     "data": {
      "text/plain": [
       "0"
      ]
     },
     "metadata": {},
     "execution_count": 26
    }
   ],
   "source": [
    "len(df[pd.isna(df[\"CRSDepTime\"])])"
   ]
  },
  {
   "cell_type": "code",
   "execution_count": 27,
   "metadata": {},
   "outputs": [],
   "source": [
    "#TRANSFORMACIONES"
   ]
  },
  {
   "cell_type": "code",
   "execution_count": 28,
   "metadata": {},
   "outputs": [],
   "source": [
    "df[\"HoursDelay\"] = round(df[\"ArrDelay\"] / 60)"
   ]
  },
  {
   "cell_type": "code",
   "execution_count": 29,
   "metadata": {},
   "outputs": [
    {
     "output_type": "execute_result",
     "data": {
      "text/plain": [
       "292    0.0\n",
       "767    0.0\n",
       "281    0.0\n",
       "739    1.0\n",
       "142    1.0\n",
       "Name: HoursDelay, dtype: float64"
      ]
     },
     "metadata": {},
     "execution_count": 29
    }
   ],
   "source": [
    "df[\"HoursDelay\"].head()"
   ]
  },
  {
   "cell_type": "code",
   "execution_count": 30,
   "metadata": {},
   "outputs": [
    {
     "output_type": "execute_result",
     "data": {
      "text/plain": [
       "     Unnamed: 0  Year  Month  DayofMonth  DayOfWeek  DepTime  CRSDepTime  \\\n",
       "292         397  2008      1           3          4   1159.0        1150   \n",
       "767        1013  2008      1           3          4    837.0         830   \n",
       "281         385  2008      1           3          4   1851.0        1830   \n",
       "739         976  2008      1           3          4   1628.0        1520   \n",
       "142         203  2008      1           3          4   1838.0        1800   \n",
       "\n",
       "     ArrTime  CRSArrTime UniqueCarrier  ...  TaxiOut Cancelled  \\\n",
       "292   1635.0        1635            WN  ...     12.0         0   \n",
       "767    951.0         945            WN  ...      9.0         0   \n",
       "281   2059.0        2045            WN  ...      6.0         0   \n",
       "739   1729.0        1625            WN  ...     10.0         0   \n",
       "142   1930.0        1855            WN  ...     17.0         0   \n",
       "\n",
       "     CancellationCode  Diverted  CarrierDelay  WeatherDelay  NASDelay  \\\n",
       "292                 N         0           NaN           NaN       NaN   \n",
       "767                 N         0           NaN           NaN       NaN   \n",
       "281                 N         0           NaN           NaN       NaN   \n",
       "739                 N         0          17.0           0.0       0.0   \n",
       "142                 N         0           0.0           0.0       0.0   \n",
       "\n",
       "    SecurityDelay LateAircraftDelay  HoursDelay  \n",
       "292           NaN               NaN         0.0  \n",
       "767           NaN               NaN         0.0  \n",
       "281           NaN               NaN         0.0  \n",
       "739           0.0              47.0         1.0  \n",
       "142           0.0              35.0         1.0  \n",
       "\n",
       "[5 rows x 31 columns]"
      ],
      "text/html": "<div>\n<style scoped>\n    .dataframe tbody tr th:only-of-type {\n        vertical-align: middle;\n    }\n\n    .dataframe tbody tr th {\n        vertical-align: top;\n    }\n\n    .dataframe thead th {\n        text-align: right;\n    }\n</style>\n<table border=\"1\" class=\"dataframe\">\n  <thead>\n    <tr style=\"text-align: right;\">\n      <th></th>\n      <th>Unnamed: 0</th>\n      <th>Year</th>\n      <th>Month</th>\n      <th>DayofMonth</th>\n      <th>DayOfWeek</th>\n      <th>DepTime</th>\n      <th>CRSDepTime</th>\n      <th>ArrTime</th>\n      <th>CRSArrTime</th>\n      <th>UniqueCarrier</th>\n      <th>...</th>\n      <th>TaxiOut</th>\n      <th>Cancelled</th>\n      <th>CancellationCode</th>\n      <th>Diverted</th>\n      <th>CarrierDelay</th>\n      <th>WeatherDelay</th>\n      <th>NASDelay</th>\n      <th>SecurityDelay</th>\n      <th>LateAircraftDelay</th>\n      <th>HoursDelay</th>\n    </tr>\n  </thead>\n  <tbody>\n    <tr>\n      <th>292</th>\n      <td>397</td>\n      <td>2008</td>\n      <td>1</td>\n      <td>3</td>\n      <td>4</td>\n      <td>1159.0</td>\n      <td>1150</td>\n      <td>1635.0</td>\n      <td>1635</td>\n      <td>WN</td>\n      <td>...</td>\n      <td>12.0</td>\n      <td>0</td>\n      <td>N</td>\n      <td>0</td>\n      <td>NaN</td>\n      <td>NaN</td>\n      <td>NaN</td>\n      <td>NaN</td>\n      <td>NaN</td>\n      <td>0.0</td>\n    </tr>\n    <tr>\n      <th>767</th>\n      <td>1013</td>\n      <td>2008</td>\n      <td>1</td>\n      <td>3</td>\n      <td>4</td>\n      <td>837.0</td>\n      <td>830</td>\n      <td>951.0</td>\n      <td>945</td>\n      <td>WN</td>\n      <td>...</td>\n      <td>9.0</td>\n      <td>0</td>\n      <td>N</td>\n      <td>0</td>\n      <td>NaN</td>\n      <td>NaN</td>\n      <td>NaN</td>\n      <td>NaN</td>\n      <td>NaN</td>\n      <td>0.0</td>\n    </tr>\n    <tr>\n      <th>281</th>\n      <td>385</td>\n      <td>2008</td>\n      <td>1</td>\n      <td>3</td>\n      <td>4</td>\n      <td>1851.0</td>\n      <td>1830</td>\n      <td>2059.0</td>\n      <td>2045</td>\n      <td>WN</td>\n      <td>...</td>\n      <td>6.0</td>\n      <td>0</td>\n      <td>N</td>\n      <td>0</td>\n      <td>NaN</td>\n      <td>NaN</td>\n      <td>NaN</td>\n      <td>NaN</td>\n      <td>NaN</td>\n      <td>0.0</td>\n    </tr>\n    <tr>\n      <th>739</th>\n      <td>976</td>\n      <td>2008</td>\n      <td>1</td>\n      <td>3</td>\n      <td>4</td>\n      <td>1628.0</td>\n      <td>1520</td>\n      <td>1729.0</td>\n      <td>1625</td>\n      <td>WN</td>\n      <td>...</td>\n      <td>10.0</td>\n      <td>0</td>\n      <td>N</td>\n      <td>0</td>\n      <td>17.0</td>\n      <td>0.0</td>\n      <td>0.0</td>\n      <td>0.0</td>\n      <td>47.0</td>\n      <td>1.0</td>\n    </tr>\n    <tr>\n      <th>142</th>\n      <td>203</td>\n      <td>2008</td>\n      <td>1</td>\n      <td>3</td>\n      <td>4</td>\n      <td>1838.0</td>\n      <td>1800</td>\n      <td>1930.0</td>\n      <td>1855</td>\n      <td>WN</td>\n      <td>...</td>\n      <td>17.0</td>\n      <td>0</td>\n      <td>N</td>\n      <td>0</td>\n      <td>0.0</td>\n      <td>0.0</td>\n      <td>0.0</td>\n      <td>0.0</td>\n      <td>35.0</td>\n      <td>1.0</td>\n    </tr>\n  </tbody>\n</table>\n<p>5 rows × 31 columns</p>\n</div>"
     },
     "metadata": {},
     "execution_count": 30
    }
   ],
   "source": [
    "df.head()"
   ]
  },
  {
   "cell_type": "code",
   "execution_count": 31,
   "metadata": {},
   "outputs": [],
   "source": [
    "del(df[\"HoursDelay\"])"
   ]
  },
  {
   "cell_type": "code",
   "execution_count": 32,
   "metadata": {},
   "outputs": [
    {
     "output_type": "execute_result",
     "data": {
      "text/plain": [
       "     Unnamed: 0  Year  Month  DayofMonth  DayOfWeek  DepTime  CRSDepTime  \\\n",
       "292         397  2008      1           3          4   1159.0        1150   \n",
       "767        1013  2008      1           3          4    837.0         830   \n",
       "281         385  2008      1           3          4   1851.0        1830   \n",
       "739         976  2008      1           3          4   1628.0        1520   \n",
       "142         203  2008      1           3          4   1838.0        1800   \n",
       "\n",
       "     ArrTime  CRSArrTime UniqueCarrier  ...  TaxiIn TaxiOut  Cancelled  \\\n",
       "292   1635.0        1635            WN  ...     3.0    12.0          0   \n",
       "767    951.0         945            WN  ...     8.0     9.0          0   \n",
       "281   2059.0        2045            WN  ...     3.0     6.0          0   \n",
       "739   1729.0        1625            WN  ...     1.0    10.0          0   \n",
       "142   1930.0        1855            WN  ...     3.0    17.0          0   \n",
       "\n",
       "     CancellationCode  Diverted  CarrierDelay  WeatherDelay NASDelay  \\\n",
       "292                 N         0           NaN           NaN      NaN   \n",
       "767                 N         0           NaN           NaN      NaN   \n",
       "281                 N         0           NaN           NaN      NaN   \n",
       "739                 N         0          17.0           0.0      0.0   \n",
       "142                 N         0           0.0           0.0      0.0   \n",
       "\n",
       "    SecurityDelay  LateAircraftDelay  \n",
       "292           NaN                NaN  \n",
       "767           NaN                NaN  \n",
       "281           NaN                NaN  \n",
       "739           0.0               47.0  \n",
       "142           0.0               35.0  \n",
       "\n",
       "[5 rows x 30 columns]"
      ],
      "text/html": "<div>\n<style scoped>\n    .dataframe tbody tr th:only-of-type {\n        vertical-align: middle;\n    }\n\n    .dataframe tbody tr th {\n        vertical-align: top;\n    }\n\n    .dataframe thead th {\n        text-align: right;\n    }\n</style>\n<table border=\"1\" class=\"dataframe\">\n  <thead>\n    <tr style=\"text-align: right;\">\n      <th></th>\n      <th>Unnamed: 0</th>\n      <th>Year</th>\n      <th>Month</th>\n      <th>DayofMonth</th>\n      <th>DayOfWeek</th>\n      <th>DepTime</th>\n      <th>CRSDepTime</th>\n      <th>ArrTime</th>\n      <th>CRSArrTime</th>\n      <th>UniqueCarrier</th>\n      <th>...</th>\n      <th>TaxiIn</th>\n      <th>TaxiOut</th>\n      <th>Cancelled</th>\n      <th>CancellationCode</th>\n      <th>Diverted</th>\n      <th>CarrierDelay</th>\n      <th>WeatherDelay</th>\n      <th>NASDelay</th>\n      <th>SecurityDelay</th>\n      <th>LateAircraftDelay</th>\n    </tr>\n  </thead>\n  <tbody>\n    <tr>\n      <th>292</th>\n      <td>397</td>\n      <td>2008</td>\n      <td>1</td>\n      <td>3</td>\n      <td>4</td>\n      <td>1159.0</td>\n      <td>1150</td>\n      <td>1635.0</td>\n      <td>1635</td>\n      <td>WN</td>\n      <td>...</td>\n      <td>3.0</td>\n      <td>12.0</td>\n      <td>0</td>\n      <td>N</td>\n      <td>0</td>\n      <td>NaN</td>\n      <td>NaN</td>\n      <td>NaN</td>\n      <td>NaN</td>\n      <td>NaN</td>\n    </tr>\n    <tr>\n      <th>767</th>\n      <td>1013</td>\n      <td>2008</td>\n      <td>1</td>\n      <td>3</td>\n      <td>4</td>\n      <td>837.0</td>\n      <td>830</td>\n      <td>951.0</td>\n      <td>945</td>\n      <td>WN</td>\n      <td>...</td>\n      <td>8.0</td>\n      <td>9.0</td>\n      <td>0</td>\n      <td>N</td>\n      <td>0</td>\n      <td>NaN</td>\n      <td>NaN</td>\n      <td>NaN</td>\n      <td>NaN</td>\n      <td>NaN</td>\n    </tr>\n    <tr>\n      <th>281</th>\n      <td>385</td>\n      <td>2008</td>\n      <td>1</td>\n      <td>3</td>\n      <td>4</td>\n      <td>1851.0</td>\n      <td>1830</td>\n      <td>2059.0</td>\n      <td>2045</td>\n      <td>WN</td>\n      <td>...</td>\n      <td>3.0</td>\n      <td>6.0</td>\n      <td>0</td>\n      <td>N</td>\n      <td>0</td>\n      <td>NaN</td>\n      <td>NaN</td>\n      <td>NaN</td>\n      <td>NaN</td>\n      <td>NaN</td>\n    </tr>\n    <tr>\n      <th>739</th>\n      <td>976</td>\n      <td>2008</td>\n      <td>1</td>\n      <td>3</td>\n      <td>4</td>\n      <td>1628.0</td>\n      <td>1520</td>\n      <td>1729.0</td>\n      <td>1625</td>\n      <td>WN</td>\n      <td>...</td>\n      <td>1.0</td>\n      <td>10.0</td>\n      <td>0</td>\n      <td>N</td>\n      <td>0</td>\n      <td>17.0</td>\n      <td>0.0</td>\n      <td>0.0</td>\n      <td>0.0</td>\n      <td>47.0</td>\n    </tr>\n    <tr>\n      <th>142</th>\n      <td>203</td>\n      <td>2008</td>\n      <td>1</td>\n      <td>3</td>\n      <td>4</td>\n      <td>1838.0</td>\n      <td>1800</td>\n      <td>1930.0</td>\n      <td>1855</td>\n      <td>WN</td>\n      <td>...</td>\n      <td>3.0</td>\n      <td>17.0</td>\n      <td>0</td>\n      <td>N</td>\n      <td>0</td>\n      <td>0.0</td>\n      <td>0.0</td>\n      <td>0.0</td>\n      <td>0.0</td>\n      <td>35.0</td>\n    </tr>\n  </tbody>\n</table>\n<p>5 rows × 30 columns</p>\n</div>"
     },
     "metadata": {},
     "execution_count": 32
    }
   ],
   "source": [
    "df.head()"
   ]
  },
  {
   "cell_type": "code",
   "execution_count": 33,
   "metadata": {},
   "outputs": [
    {
     "output_type": "execute_result",
     "data": {
      "text/plain": [
       "     Unnamed: 0  Month  DayofMonth  DayOfWeek  DepTime  CRSDepTime  ArrTime  \\\n",
       "292         397      1           3          4   1159.0        1150   1635.0   \n",
       "767        1013      1           3          4    837.0         830    951.0   \n",
       "281         385      1           3          4   1851.0        1830   2059.0   \n",
       "739         976      1           3          4   1628.0        1520   1729.0   \n",
       "142         203      1           3          4   1838.0        1800   1930.0   \n",
       "..          ...    ...         ...        ...      ...         ...      ...   \n",
       "177         248      1           3          4   1348.0        1330   1455.0   \n",
       "605         811      1           3          4   2239.0        2115   2358.0   \n",
       "907        1233      1           3          4   2132.0        2050   2222.0   \n",
       "966        1312      1           3          4   1100.0        1050   1210.0   \n",
       "362         499      1           3          4    643.0         630    726.0   \n",
       "\n",
       "     CRSArrTime UniqueCarrier  FlightNum  ... Dest  Distance  TaxiIn  TaxiOut  \\\n",
       "292        1635            WN       2624  ...  SAT      1210     3.0     12.0   \n",
       "767         945            WN        304  ...  LAX       337     8.0      9.0   \n",
       "281        2045            WN        314  ...  PHX       370     3.0      6.0   \n",
       "739        1625            WN       1311  ...  BUR       325     1.0     10.0   \n",
       "142        1855            WN       2730  ...  ONT       197     3.0     17.0   \n",
       "..          ...           ...        ...  ...  ...       ...     ...      ...   \n",
       "177        1435            WN        341  ...  SAN       258     2.0     14.0   \n",
       "605        2240            WN       3491  ...  OMA       423     2.0     10.0   \n",
       "907        2150            WN       3155  ...  GEG       279     4.0      7.0   \n",
       "966        1205            WN       2560  ...  PIT       267     7.0     16.0   \n",
       "362         720            WN       1235  ...  DEN       533     9.0     11.0   \n",
       "\n",
       "     CancellationCode  CarrierDelay WeatherDelay NASDelay  SecurityDelay  \\\n",
       "292                 N           NaN          NaN      NaN            NaN   \n",
       "767                 N           NaN          NaN      NaN            NaN   \n",
       "281                 N           NaN          NaN      NaN            NaN   \n",
       "739                 N          17.0          0.0      0.0            0.0   \n",
       "142                 N           0.0          0.0      0.0            0.0   \n",
       "..                ...           ...          ...      ...            ...   \n",
       "177                 N           8.0          0.0      2.0            0.0   \n",
       "605                 N           7.0          0.0      0.0            0.0   \n",
       "907                 N          23.0          0.0      0.0            0.0   \n",
       "966                 N           NaN          NaN      NaN            NaN   \n",
       "362                 N           NaN          NaN      NaN            NaN   \n",
       "\n",
       "     LateAircraftDelay  \n",
       "292                NaN  \n",
       "767                NaN  \n",
       "281                NaN  \n",
       "739               47.0  \n",
       "142               35.0  \n",
       "..                 ...  \n",
       "177               10.0  \n",
       "605               71.0  \n",
       "907                9.0  \n",
       "966                NaN  \n",
       "362                NaN  \n",
       "\n",
       "[1000 rows x 27 columns]"
      ],
      "text/html": "<div>\n<style scoped>\n    .dataframe tbody tr th:only-of-type {\n        vertical-align: middle;\n    }\n\n    .dataframe tbody tr th {\n        vertical-align: top;\n    }\n\n    .dataframe thead th {\n        text-align: right;\n    }\n</style>\n<table border=\"1\" class=\"dataframe\">\n  <thead>\n    <tr style=\"text-align: right;\">\n      <th></th>\n      <th>Unnamed: 0</th>\n      <th>Month</th>\n      <th>DayofMonth</th>\n      <th>DayOfWeek</th>\n      <th>DepTime</th>\n      <th>CRSDepTime</th>\n      <th>ArrTime</th>\n      <th>CRSArrTime</th>\n      <th>UniqueCarrier</th>\n      <th>FlightNum</th>\n      <th>...</th>\n      <th>Dest</th>\n      <th>Distance</th>\n      <th>TaxiIn</th>\n      <th>TaxiOut</th>\n      <th>CancellationCode</th>\n      <th>CarrierDelay</th>\n      <th>WeatherDelay</th>\n      <th>NASDelay</th>\n      <th>SecurityDelay</th>\n      <th>LateAircraftDelay</th>\n    </tr>\n  </thead>\n  <tbody>\n    <tr>\n      <th>292</th>\n      <td>397</td>\n      <td>1</td>\n      <td>3</td>\n      <td>4</td>\n      <td>1159.0</td>\n      <td>1150</td>\n      <td>1635.0</td>\n      <td>1635</td>\n      <td>WN</td>\n      <td>2624</td>\n      <td>...</td>\n      <td>SAT</td>\n      <td>1210</td>\n      <td>3.0</td>\n      <td>12.0</td>\n      <td>N</td>\n      <td>NaN</td>\n      <td>NaN</td>\n      <td>NaN</td>\n      <td>NaN</td>\n      <td>NaN</td>\n    </tr>\n    <tr>\n      <th>767</th>\n      <td>1013</td>\n      <td>1</td>\n      <td>3</td>\n      <td>4</td>\n      <td>837.0</td>\n      <td>830</td>\n      <td>951.0</td>\n      <td>945</td>\n      <td>WN</td>\n      <td>304</td>\n      <td>...</td>\n      <td>LAX</td>\n      <td>337</td>\n      <td>8.0</td>\n      <td>9.0</td>\n      <td>N</td>\n      <td>NaN</td>\n      <td>NaN</td>\n      <td>NaN</td>\n      <td>NaN</td>\n      <td>NaN</td>\n    </tr>\n    <tr>\n      <th>281</th>\n      <td>385</td>\n      <td>1</td>\n      <td>3</td>\n      <td>4</td>\n      <td>1851.0</td>\n      <td>1830</td>\n      <td>2059.0</td>\n      <td>2045</td>\n      <td>WN</td>\n      <td>314</td>\n      <td>...</td>\n      <td>PHX</td>\n      <td>370</td>\n      <td>3.0</td>\n      <td>6.0</td>\n      <td>N</td>\n      <td>NaN</td>\n      <td>NaN</td>\n      <td>NaN</td>\n      <td>NaN</td>\n      <td>NaN</td>\n    </tr>\n    <tr>\n      <th>739</th>\n      <td>976</td>\n      <td>1</td>\n      <td>3</td>\n      <td>4</td>\n      <td>1628.0</td>\n      <td>1520</td>\n      <td>1729.0</td>\n      <td>1625</td>\n      <td>WN</td>\n      <td>1311</td>\n      <td>...</td>\n      <td>BUR</td>\n      <td>325</td>\n      <td>1.0</td>\n      <td>10.0</td>\n      <td>N</td>\n      <td>17.0</td>\n      <td>0.0</td>\n      <td>0.0</td>\n      <td>0.0</td>\n      <td>47.0</td>\n    </tr>\n    <tr>\n      <th>142</th>\n      <td>203</td>\n      <td>1</td>\n      <td>3</td>\n      <td>4</td>\n      <td>1838.0</td>\n      <td>1800</td>\n      <td>1930.0</td>\n      <td>1855</td>\n      <td>WN</td>\n      <td>2730</td>\n      <td>...</td>\n      <td>ONT</td>\n      <td>197</td>\n      <td>3.0</td>\n      <td>17.0</td>\n      <td>N</td>\n      <td>0.0</td>\n      <td>0.0</td>\n      <td>0.0</td>\n      <td>0.0</td>\n      <td>35.0</td>\n    </tr>\n    <tr>\n      <th>...</th>\n      <td>...</td>\n      <td>...</td>\n      <td>...</td>\n      <td>...</td>\n      <td>...</td>\n      <td>...</td>\n      <td>...</td>\n      <td>...</td>\n      <td>...</td>\n      <td>...</td>\n      <td>...</td>\n      <td>...</td>\n      <td>...</td>\n      <td>...</td>\n      <td>...</td>\n      <td>...</td>\n      <td>...</td>\n      <td>...</td>\n      <td>...</td>\n      <td>...</td>\n      <td>...</td>\n    </tr>\n    <tr>\n      <th>177</th>\n      <td>248</td>\n      <td>1</td>\n      <td>3</td>\n      <td>4</td>\n      <td>1348.0</td>\n      <td>1330</td>\n      <td>1455.0</td>\n      <td>1435</td>\n      <td>WN</td>\n      <td>341</td>\n      <td>...</td>\n      <td>SAN</td>\n      <td>258</td>\n      <td>2.0</td>\n      <td>14.0</td>\n      <td>N</td>\n      <td>8.0</td>\n      <td>0.0</td>\n      <td>2.0</td>\n      <td>0.0</td>\n      <td>10.0</td>\n    </tr>\n    <tr>\n      <th>605</th>\n      <td>811</td>\n      <td>1</td>\n      <td>3</td>\n      <td>4</td>\n      <td>2239.0</td>\n      <td>2115</td>\n      <td>2358.0</td>\n      <td>2240</td>\n      <td>WN</td>\n      <td>3491</td>\n      <td>...</td>\n      <td>OMA</td>\n      <td>423</td>\n      <td>2.0</td>\n      <td>10.0</td>\n      <td>N</td>\n      <td>7.0</td>\n      <td>0.0</td>\n      <td>0.0</td>\n      <td>0.0</td>\n      <td>71.0</td>\n    </tr>\n    <tr>\n      <th>907</th>\n      <td>1233</td>\n      <td>1</td>\n      <td>3</td>\n      <td>4</td>\n      <td>2132.0</td>\n      <td>2050</td>\n      <td>2222.0</td>\n      <td>2150</td>\n      <td>WN</td>\n      <td>3155</td>\n      <td>...</td>\n      <td>GEG</td>\n      <td>279</td>\n      <td>4.0</td>\n      <td>7.0</td>\n      <td>N</td>\n      <td>23.0</td>\n      <td>0.0</td>\n      <td>0.0</td>\n      <td>0.0</td>\n      <td>9.0</td>\n    </tr>\n    <tr>\n      <th>966</th>\n      <td>1312</td>\n      <td>1</td>\n      <td>3</td>\n      <td>4</td>\n      <td>1100.0</td>\n      <td>1050</td>\n      <td>1210.0</td>\n      <td>1205</td>\n      <td>WN</td>\n      <td>2560</td>\n      <td>...</td>\n      <td>PIT</td>\n      <td>267</td>\n      <td>7.0</td>\n      <td>16.0</td>\n      <td>N</td>\n      <td>NaN</td>\n      <td>NaN</td>\n      <td>NaN</td>\n      <td>NaN</td>\n      <td>NaN</td>\n    </tr>\n    <tr>\n      <th>362</th>\n      <td>499</td>\n      <td>1</td>\n      <td>3</td>\n      <td>4</td>\n      <td>643.0</td>\n      <td>630</td>\n      <td>726.0</td>\n      <td>720</td>\n      <td>WN</td>\n      <td>1235</td>\n      <td>...</td>\n      <td>DEN</td>\n      <td>533</td>\n      <td>9.0</td>\n      <td>11.0</td>\n      <td>N</td>\n      <td>NaN</td>\n      <td>NaN</td>\n      <td>NaN</td>\n      <td>NaN</td>\n      <td>NaN</td>\n    </tr>\n  </tbody>\n</table>\n<p>1000 rows × 27 columns</p>\n</div>"
     },
     "metadata": {},
     "execution_count": 33
    }
   ],
   "source": [
    "df.drop([\"Diverted\",\"Cancelled\",\"Year\"],axis=1)"
   ]
  },
  {
   "cell_type": "code",
   "execution_count": 34,
   "metadata": {},
   "outputs": [
    {
     "output_type": "execute_result",
     "data": {
      "text/plain": [
       "     Unnamed: 0  Year  Month  DayofMonth  DayOfWeek  DepTime  CRSDepTime  \\\n",
       "292         397  2008      1           3          4   1159.0        1150   \n",
       "767        1013  2008      1           3          4    837.0         830   \n",
       "281         385  2008      1           3          4   1851.0        1830   \n",
       "739         976  2008      1           3          4   1628.0        1520   \n",
       "142         203  2008      1           3          4   1838.0        1800   \n",
       "\n",
       "     ArrTime  CRSArrTime UniqueCarrier  ...  TaxiIn TaxiOut  Cancelled  \\\n",
       "292   1635.0        1635            WN  ...     3.0    12.0          0   \n",
       "767    951.0         945            WN  ...     8.0     9.0          0   \n",
       "281   2059.0        2045            WN  ...     3.0     6.0          0   \n",
       "739   1729.0        1625            WN  ...     1.0    10.0          0   \n",
       "142   1930.0        1855            WN  ...     3.0    17.0          0   \n",
       "\n",
       "     CancellationCode  Diverted  CarrierDelay  WeatherDelay NASDelay  \\\n",
       "292                 N         0           NaN           NaN      NaN   \n",
       "767                 N         0           NaN           NaN      NaN   \n",
       "281                 N         0           NaN           NaN      NaN   \n",
       "739                 N         0          17.0           0.0      0.0   \n",
       "142                 N         0           0.0           0.0      0.0   \n",
       "\n",
       "    SecurityDelay  LateAircraftDelay  \n",
       "292           NaN                NaN  \n",
       "767           NaN                NaN  \n",
       "281           NaN                NaN  \n",
       "739           0.0               47.0  \n",
       "142           0.0               35.0  \n",
       "\n",
       "[5 rows x 30 columns]"
      ],
      "text/html": "<div>\n<style scoped>\n    .dataframe tbody tr th:only-of-type {\n        vertical-align: middle;\n    }\n\n    .dataframe tbody tr th {\n        vertical-align: top;\n    }\n\n    .dataframe thead th {\n        text-align: right;\n    }\n</style>\n<table border=\"1\" class=\"dataframe\">\n  <thead>\n    <tr style=\"text-align: right;\">\n      <th></th>\n      <th>Unnamed: 0</th>\n      <th>Year</th>\n      <th>Month</th>\n      <th>DayofMonth</th>\n      <th>DayOfWeek</th>\n      <th>DepTime</th>\n      <th>CRSDepTime</th>\n      <th>ArrTime</th>\n      <th>CRSArrTime</th>\n      <th>UniqueCarrier</th>\n      <th>...</th>\n      <th>TaxiIn</th>\n      <th>TaxiOut</th>\n      <th>Cancelled</th>\n      <th>CancellationCode</th>\n      <th>Diverted</th>\n      <th>CarrierDelay</th>\n      <th>WeatherDelay</th>\n      <th>NASDelay</th>\n      <th>SecurityDelay</th>\n      <th>LateAircraftDelay</th>\n    </tr>\n  </thead>\n  <tbody>\n    <tr>\n      <th>292</th>\n      <td>397</td>\n      <td>2008</td>\n      <td>1</td>\n      <td>3</td>\n      <td>4</td>\n      <td>1159.0</td>\n      <td>1150</td>\n      <td>1635.0</td>\n      <td>1635</td>\n      <td>WN</td>\n      <td>...</td>\n      <td>3.0</td>\n      <td>12.0</td>\n      <td>0</td>\n      <td>N</td>\n      <td>0</td>\n      <td>NaN</td>\n      <td>NaN</td>\n      <td>NaN</td>\n      <td>NaN</td>\n      <td>NaN</td>\n    </tr>\n    <tr>\n      <th>767</th>\n      <td>1013</td>\n      <td>2008</td>\n      <td>1</td>\n      <td>3</td>\n      <td>4</td>\n      <td>837.0</td>\n      <td>830</td>\n      <td>951.0</td>\n      <td>945</td>\n      <td>WN</td>\n      <td>...</td>\n      <td>8.0</td>\n      <td>9.0</td>\n      <td>0</td>\n      <td>N</td>\n      <td>0</td>\n      <td>NaN</td>\n      <td>NaN</td>\n      <td>NaN</td>\n      <td>NaN</td>\n      <td>NaN</td>\n    </tr>\n    <tr>\n      <th>281</th>\n      <td>385</td>\n      <td>2008</td>\n      <td>1</td>\n      <td>3</td>\n      <td>4</td>\n      <td>1851.0</td>\n      <td>1830</td>\n      <td>2059.0</td>\n      <td>2045</td>\n      <td>WN</td>\n      <td>...</td>\n      <td>3.0</td>\n      <td>6.0</td>\n      <td>0</td>\n      <td>N</td>\n      <td>0</td>\n      <td>NaN</td>\n      <td>NaN</td>\n      <td>NaN</td>\n      <td>NaN</td>\n      <td>NaN</td>\n    </tr>\n    <tr>\n      <th>739</th>\n      <td>976</td>\n      <td>2008</td>\n      <td>1</td>\n      <td>3</td>\n      <td>4</td>\n      <td>1628.0</td>\n      <td>1520</td>\n      <td>1729.0</td>\n      <td>1625</td>\n      <td>WN</td>\n      <td>...</td>\n      <td>1.0</td>\n      <td>10.0</td>\n      <td>0</td>\n      <td>N</td>\n      <td>0</td>\n      <td>17.0</td>\n      <td>0.0</td>\n      <td>0.0</td>\n      <td>0.0</td>\n      <td>47.0</td>\n    </tr>\n    <tr>\n      <th>142</th>\n      <td>203</td>\n      <td>2008</td>\n      <td>1</td>\n      <td>3</td>\n      <td>4</td>\n      <td>1838.0</td>\n      <td>1800</td>\n      <td>1930.0</td>\n      <td>1855</td>\n      <td>WN</td>\n      <td>...</td>\n      <td>3.0</td>\n      <td>17.0</td>\n      <td>0</td>\n      <td>N</td>\n      <td>0</td>\n      <td>0.0</td>\n      <td>0.0</td>\n      <td>0.0</td>\n      <td>0.0</td>\n      <td>35.0</td>\n    </tr>\n  </tbody>\n</table>\n<p>5 rows × 30 columns</p>\n</div>"
     },
     "metadata": {},
     "execution_count": 34
    }
   ],
   "source": [
    "df.head()"
   ]
  },
  {
   "cell_type": "code",
   "execution_count": 35,
   "metadata": {},
   "outputs": [],
   "source": [
    "df1 = df.drop([\"Diverted\",\"Cancelled\",\"Year\"],axis=1)"
   ]
  },
  {
   "cell_type": "code",
   "execution_count": 36,
   "metadata": {},
   "outputs": [],
   "source": [
    "df1.drop([\"Month\",\"DayofMonth\"],axis=1, inplace=True)"
   ]
  },
  {
   "cell_type": "code",
   "execution_count": 37,
   "metadata": {},
   "outputs": [
    {
     "output_type": "execute_result",
     "data": {
      "text/plain": [
       "     Unnamed: 0  DayOfWeek  DepTime  CRSDepTime  ArrTime  CRSArrTime  \\\n",
       "292         397          4   1159.0        1150   1635.0        1635   \n",
       "767        1013          4    837.0         830    951.0         945   \n",
       "281         385          4   1851.0        1830   2059.0        2045   \n",
       "739         976          4   1628.0        1520   1729.0        1625   \n",
       "142         203          4   1838.0        1800   1930.0        1855   \n",
       "..          ...        ...      ...         ...      ...         ...   \n",
       "177         248          4   1348.0        1330   1455.0        1435   \n",
       "605         811          4   2239.0        2115   2358.0        2240   \n",
       "907        1233          4   2132.0        2050   2222.0        2150   \n",
       "966        1312          4   1100.0        1050   1210.0        1205   \n",
       "362         499          4    643.0         630    726.0         720   \n",
       "\n",
       "    UniqueCarrier  FlightNum TailNum  ActualElapsedTime  ...  Dest  Distance  \\\n",
       "292            WN       2624  N693SW              156.0  ...   SAT      1210   \n",
       "767            WN        304  N326SW               74.0  ...   LAX       337   \n",
       "281            WN        314  N229WN               68.0  ...   PHX       370   \n",
       "739            WN       1311  N605SW               61.0  ...   BUR       325   \n",
       "142            WN       2730  N273WN               52.0  ...   ONT       197   \n",
       "..            ...        ...     ...                ...  ...   ...       ...   \n",
       "177            WN        341  N315SW               67.0  ...   SAN       258   \n",
       "605            WN       3491  N523SW               79.0  ...   OMA       423   \n",
       "907            WN       3155  N449WN               50.0  ...   GEG       279   \n",
       "966            WN       2560  N789SW               70.0  ...   PIT       267   \n",
       "362            WN       1235  N600WN              103.0  ...   DEN       533   \n",
       "\n",
       "     TaxiIn  TaxiOut CancellationCode CarrierDelay  WeatherDelay  NASDelay  \\\n",
       "292     3.0     12.0                N          NaN           NaN       NaN   \n",
       "767     8.0      9.0                N          NaN           NaN       NaN   \n",
       "281     3.0      6.0                N          NaN           NaN       NaN   \n",
       "739     1.0     10.0                N         17.0           0.0       0.0   \n",
       "142     3.0     17.0                N          0.0           0.0       0.0   \n",
       "..      ...      ...              ...          ...           ...       ...   \n",
       "177     2.0     14.0                N          8.0           0.0       2.0   \n",
       "605     2.0     10.0                N          7.0           0.0       0.0   \n",
       "907     4.0      7.0                N         23.0           0.0       0.0   \n",
       "966     7.0     16.0                N          NaN           NaN       NaN   \n",
       "362     9.0     11.0                N          NaN           NaN       NaN   \n",
       "\n",
       "     SecurityDelay LateAircraftDelay  \n",
       "292            NaN               NaN  \n",
       "767            NaN               NaN  \n",
       "281            NaN               NaN  \n",
       "739            0.0              47.0  \n",
       "142            0.0              35.0  \n",
       "..             ...               ...  \n",
       "177            0.0              10.0  \n",
       "605            0.0              71.0  \n",
       "907            0.0               9.0  \n",
       "966            NaN               NaN  \n",
       "362            NaN               NaN  \n",
       "\n",
       "[999 rows x 25 columns]"
      ],
      "text/html": "<div>\n<style scoped>\n    .dataframe tbody tr th:only-of-type {\n        vertical-align: middle;\n    }\n\n    .dataframe tbody tr th {\n        vertical-align: top;\n    }\n\n    .dataframe thead th {\n        text-align: right;\n    }\n</style>\n<table border=\"1\" class=\"dataframe\">\n  <thead>\n    <tr style=\"text-align: right;\">\n      <th></th>\n      <th>Unnamed: 0</th>\n      <th>DayOfWeek</th>\n      <th>DepTime</th>\n      <th>CRSDepTime</th>\n      <th>ArrTime</th>\n      <th>CRSArrTime</th>\n      <th>UniqueCarrier</th>\n      <th>FlightNum</th>\n      <th>TailNum</th>\n      <th>ActualElapsedTime</th>\n      <th>...</th>\n      <th>Dest</th>\n      <th>Distance</th>\n      <th>TaxiIn</th>\n      <th>TaxiOut</th>\n      <th>CancellationCode</th>\n      <th>CarrierDelay</th>\n      <th>WeatherDelay</th>\n      <th>NASDelay</th>\n      <th>SecurityDelay</th>\n      <th>LateAircraftDelay</th>\n    </tr>\n  </thead>\n  <tbody>\n    <tr>\n      <th>292</th>\n      <td>397</td>\n      <td>4</td>\n      <td>1159.0</td>\n      <td>1150</td>\n      <td>1635.0</td>\n      <td>1635</td>\n      <td>WN</td>\n      <td>2624</td>\n      <td>N693SW</td>\n      <td>156.0</td>\n      <td>...</td>\n      <td>SAT</td>\n      <td>1210</td>\n      <td>3.0</td>\n      <td>12.0</td>\n      <td>N</td>\n      <td>NaN</td>\n      <td>NaN</td>\n      <td>NaN</td>\n      <td>NaN</td>\n      <td>NaN</td>\n    </tr>\n    <tr>\n      <th>767</th>\n      <td>1013</td>\n      <td>4</td>\n      <td>837.0</td>\n      <td>830</td>\n      <td>951.0</td>\n      <td>945</td>\n      <td>WN</td>\n      <td>304</td>\n      <td>N326SW</td>\n      <td>74.0</td>\n      <td>...</td>\n      <td>LAX</td>\n      <td>337</td>\n      <td>8.0</td>\n      <td>9.0</td>\n      <td>N</td>\n      <td>NaN</td>\n      <td>NaN</td>\n      <td>NaN</td>\n      <td>NaN</td>\n      <td>NaN</td>\n    </tr>\n    <tr>\n      <th>281</th>\n      <td>385</td>\n      <td>4</td>\n      <td>1851.0</td>\n      <td>1830</td>\n      <td>2059.0</td>\n      <td>2045</td>\n      <td>WN</td>\n      <td>314</td>\n      <td>N229WN</td>\n      <td>68.0</td>\n      <td>...</td>\n      <td>PHX</td>\n      <td>370</td>\n      <td>3.0</td>\n      <td>6.0</td>\n      <td>N</td>\n      <td>NaN</td>\n      <td>NaN</td>\n      <td>NaN</td>\n      <td>NaN</td>\n      <td>NaN</td>\n    </tr>\n    <tr>\n      <th>739</th>\n      <td>976</td>\n      <td>4</td>\n      <td>1628.0</td>\n      <td>1520</td>\n      <td>1729.0</td>\n      <td>1625</td>\n      <td>WN</td>\n      <td>1311</td>\n      <td>N605SW</td>\n      <td>61.0</td>\n      <td>...</td>\n      <td>BUR</td>\n      <td>325</td>\n      <td>1.0</td>\n      <td>10.0</td>\n      <td>N</td>\n      <td>17.0</td>\n      <td>0.0</td>\n      <td>0.0</td>\n      <td>0.0</td>\n      <td>47.0</td>\n    </tr>\n    <tr>\n      <th>142</th>\n      <td>203</td>\n      <td>4</td>\n      <td>1838.0</td>\n      <td>1800</td>\n      <td>1930.0</td>\n      <td>1855</td>\n      <td>WN</td>\n      <td>2730</td>\n      <td>N273WN</td>\n      <td>52.0</td>\n      <td>...</td>\n      <td>ONT</td>\n      <td>197</td>\n      <td>3.0</td>\n      <td>17.0</td>\n      <td>N</td>\n      <td>0.0</td>\n      <td>0.0</td>\n      <td>0.0</td>\n      <td>0.0</td>\n      <td>35.0</td>\n    </tr>\n    <tr>\n      <th>...</th>\n      <td>...</td>\n      <td>...</td>\n      <td>...</td>\n      <td>...</td>\n      <td>...</td>\n      <td>...</td>\n      <td>...</td>\n      <td>...</td>\n      <td>...</td>\n      <td>...</td>\n      <td>...</td>\n      <td>...</td>\n      <td>...</td>\n      <td>...</td>\n      <td>...</td>\n      <td>...</td>\n      <td>...</td>\n      <td>...</td>\n      <td>...</td>\n      <td>...</td>\n      <td>...</td>\n    </tr>\n    <tr>\n      <th>177</th>\n      <td>248</td>\n      <td>4</td>\n      <td>1348.0</td>\n      <td>1330</td>\n      <td>1455.0</td>\n      <td>1435</td>\n      <td>WN</td>\n      <td>341</td>\n      <td>N315SW</td>\n      <td>67.0</td>\n      <td>...</td>\n      <td>SAN</td>\n      <td>258</td>\n      <td>2.0</td>\n      <td>14.0</td>\n      <td>N</td>\n      <td>8.0</td>\n      <td>0.0</td>\n      <td>2.0</td>\n      <td>0.0</td>\n      <td>10.0</td>\n    </tr>\n    <tr>\n      <th>605</th>\n      <td>811</td>\n      <td>4</td>\n      <td>2239.0</td>\n      <td>2115</td>\n      <td>2358.0</td>\n      <td>2240</td>\n      <td>WN</td>\n      <td>3491</td>\n      <td>N523SW</td>\n      <td>79.0</td>\n      <td>...</td>\n      <td>OMA</td>\n      <td>423</td>\n      <td>2.0</td>\n      <td>10.0</td>\n      <td>N</td>\n      <td>7.0</td>\n      <td>0.0</td>\n      <td>0.0</td>\n      <td>0.0</td>\n      <td>71.0</td>\n    </tr>\n    <tr>\n      <th>907</th>\n      <td>1233</td>\n      <td>4</td>\n      <td>2132.0</td>\n      <td>2050</td>\n      <td>2222.0</td>\n      <td>2150</td>\n      <td>WN</td>\n      <td>3155</td>\n      <td>N449WN</td>\n      <td>50.0</td>\n      <td>...</td>\n      <td>GEG</td>\n      <td>279</td>\n      <td>4.0</td>\n      <td>7.0</td>\n      <td>N</td>\n      <td>23.0</td>\n      <td>0.0</td>\n      <td>0.0</td>\n      <td>0.0</td>\n      <td>9.0</td>\n    </tr>\n    <tr>\n      <th>966</th>\n      <td>1312</td>\n      <td>4</td>\n      <td>1100.0</td>\n      <td>1050</td>\n      <td>1210.0</td>\n      <td>1205</td>\n      <td>WN</td>\n      <td>2560</td>\n      <td>N789SW</td>\n      <td>70.0</td>\n      <td>...</td>\n      <td>PIT</td>\n      <td>267</td>\n      <td>7.0</td>\n      <td>16.0</td>\n      <td>N</td>\n      <td>NaN</td>\n      <td>NaN</td>\n      <td>NaN</td>\n      <td>NaN</td>\n      <td>NaN</td>\n    </tr>\n    <tr>\n      <th>362</th>\n      <td>499</td>\n      <td>4</td>\n      <td>643.0</td>\n      <td>630</td>\n      <td>726.0</td>\n      <td>720</td>\n      <td>WN</td>\n      <td>1235</td>\n      <td>N600WN</td>\n      <td>103.0</td>\n      <td>...</td>\n      <td>DEN</td>\n      <td>533</td>\n      <td>9.0</td>\n      <td>11.0</td>\n      <td>N</td>\n      <td>NaN</td>\n      <td>NaN</td>\n      <td>NaN</td>\n      <td>NaN</td>\n      <td>NaN</td>\n    </tr>\n  </tbody>\n</table>\n<p>999 rows × 25 columns</p>\n</div>"
     },
     "metadata": {},
     "execution_count": 37
    }
   ],
   "source": [
    "df1.drop(0)"
   ]
  },
  {
   "cell_type": "code",
   "execution_count": 38,
   "metadata": {},
   "outputs": [
    {
     "output_type": "execute_result",
     "data": {
      "text/plain": [
       "     Unnamed: 0  DayOfWeek  DepTime  CRSDepTime  ArrTime  CRSArrTime  \\\n",
       "292         397          4   1159.0        1150   1635.0        1635   \n",
       "767        1013          4    837.0         830    951.0         945   \n",
       "281         385          4   1851.0        1830   2059.0        2045   \n",
       "739         976          4   1628.0        1520   1729.0        1625   \n",
       "142         203          4   1838.0        1800   1930.0        1855   \n",
       "..          ...        ...      ...         ...      ...         ...   \n",
       "177         248          4   1348.0        1330   1455.0        1435   \n",
       "605         811          4   2239.0        2115   2358.0        2240   \n",
       "907        1233          4   2132.0        2050   2222.0        2150   \n",
       "966        1312          4   1100.0        1050   1210.0        1205   \n",
       "362         499          4    643.0         630    726.0         720   \n",
       "\n",
       "    UniqueCarrier  FlightNum TailNum  ActualElapsedTime  ...  Dest  Distance  \\\n",
       "292            WN       2624  N693SW              156.0  ...   SAT      1210   \n",
       "767            WN        304  N326SW               74.0  ...   LAX       337   \n",
       "281            WN        314  N229WN               68.0  ...   PHX       370   \n",
       "739            WN       1311  N605SW               61.0  ...   BUR       325   \n",
       "142            WN       2730  N273WN               52.0  ...   ONT       197   \n",
       "..            ...        ...     ...                ...  ...   ...       ...   \n",
       "177            WN        341  N315SW               67.0  ...   SAN       258   \n",
       "605            WN       3491  N523SW               79.0  ...   OMA       423   \n",
       "907            WN       3155  N449WN               50.0  ...   GEG       279   \n",
       "966            WN       2560  N789SW               70.0  ...   PIT       267   \n",
       "362            WN       1235  N600WN              103.0  ...   DEN       533   \n",
       "\n",
       "     TaxiIn  TaxiOut CancellationCode CarrierDelay  WeatherDelay  NASDelay  \\\n",
       "292     3.0     12.0                N          NaN           NaN       NaN   \n",
       "767     8.0      9.0                N          NaN           NaN       NaN   \n",
       "281     3.0      6.0                N          NaN           NaN       NaN   \n",
       "739     1.0     10.0                N         17.0           0.0       0.0   \n",
       "142     3.0     17.0                N          0.0           0.0       0.0   \n",
       "..      ...      ...              ...          ...           ...       ...   \n",
       "177     2.0     14.0                N          8.0           0.0       2.0   \n",
       "605     2.0     10.0                N          7.0           0.0       0.0   \n",
       "907     4.0      7.0                N         23.0           0.0       0.0   \n",
       "966     7.0     16.0                N          NaN           NaN       NaN   \n",
       "362     9.0     11.0                N          NaN           NaN       NaN   \n",
       "\n",
       "     SecurityDelay LateAircraftDelay  \n",
       "292            NaN               NaN  \n",
       "767            NaN               NaN  \n",
       "281            NaN               NaN  \n",
       "739            0.0              47.0  \n",
       "142            0.0              35.0  \n",
       "..             ...               ...  \n",
       "177            0.0              10.0  \n",
       "605            0.0              71.0  \n",
       "907            0.0               9.0  \n",
       "966            NaN               NaN  \n",
       "362            NaN               NaN  \n",
       "\n",
       "[900 rows x 25 columns]"
      ],
      "text/html": "<div>\n<style scoped>\n    .dataframe tbody tr th:only-of-type {\n        vertical-align: middle;\n    }\n\n    .dataframe tbody tr th {\n        vertical-align: top;\n    }\n\n    .dataframe thead th {\n        text-align: right;\n    }\n</style>\n<table border=\"1\" class=\"dataframe\">\n  <thead>\n    <tr style=\"text-align: right;\">\n      <th></th>\n      <th>Unnamed: 0</th>\n      <th>DayOfWeek</th>\n      <th>DepTime</th>\n      <th>CRSDepTime</th>\n      <th>ArrTime</th>\n      <th>CRSArrTime</th>\n      <th>UniqueCarrier</th>\n      <th>FlightNum</th>\n      <th>TailNum</th>\n      <th>ActualElapsedTime</th>\n      <th>...</th>\n      <th>Dest</th>\n      <th>Distance</th>\n      <th>TaxiIn</th>\n      <th>TaxiOut</th>\n      <th>CancellationCode</th>\n      <th>CarrierDelay</th>\n      <th>WeatherDelay</th>\n      <th>NASDelay</th>\n      <th>SecurityDelay</th>\n      <th>LateAircraftDelay</th>\n    </tr>\n  </thead>\n  <tbody>\n    <tr>\n      <th>292</th>\n      <td>397</td>\n      <td>4</td>\n      <td>1159.0</td>\n      <td>1150</td>\n      <td>1635.0</td>\n      <td>1635</td>\n      <td>WN</td>\n      <td>2624</td>\n      <td>N693SW</td>\n      <td>156.0</td>\n      <td>...</td>\n      <td>SAT</td>\n      <td>1210</td>\n      <td>3.0</td>\n      <td>12.0</td>\n      <td>N</td>\n      <td>NaN</td>\n      <td>NaN</td>\n      <td>NaN</td>\n      <td>NaN</td>\n      <td>NaN</td>\n    </tr>\n    <tr>\n      <th>767</th>\n      <td>1013</td>\n      <td>4</td>\n      <td>837.0</td>\n      <td>830</td>\n      <td>951.0</td>\n      <td>945</td>\n      <td>WN</td>\n      <td>304</td>\n      <td>N326SW</td>\n      <td>74.0</td>\n      <td>...</td>\n      <td>LAX</td>\n      <td>337</td>\n      <td>8.0</td>\n      <td>9.0</td>\n      <td>N</td>\n      <td>NaN</td>\n      <td>NaN</td>\n      <td>NaN</td>\n      <td>NaN</td>\n      <td>NaN</td>\n    </tr>\n    <tr>\n      <th>281</th>\n      <td>385</td>\n      <td>4</td>\n      <td>1851.0</td>\n      <td>1830</td>\n      <td>2059.0</td>\n      <td>2045</td>\n      <td>WN</td>\n      <td>314</td>\n      <td>N229WN</td>\n      <td>68.0</td>\n      <td>...</td>\n      <td>PHX</td>\n      <td>370</td>\n      <td>3.0</td>\n      <td>6.0</td>\n      <td>N</td>\n      <td>NaN</td>\n      <td>NaN</td>\n      <td>NaN</td>\n      <td>NaN</td>\n      <td>NaN</td>\n    </tr>\n    <tr>\n      <th>739</th>\n      <td>976</td>\n      <td>4</td>\n      <td>1628.0</td>\n      <td>1520</td>\n      <td>1729.0</td>\n      <td>1625</td>\n      <td>WN</td>\n      <td>1311</td>\n      <td>N605SW</td>\n      <td>61.0</td>\n      <td>...</td>\n      <td>BUR</td>\n      <td>325</td>\n      <td>1.0</td>\n      <td>10.0</td>\n      <td>N</td>\n      <td>17.0</td>\n      <td>0.0</td>\n      <td>0.0</td>\n      <td>0.0</td>\n      <td>47.0</td>\n    </tr>\n    <tr>\n      <th>142</th>\n      <td>203</td>\n      <td>4</td>\n      <td>1838.0</td>\n      <td>1800</td>\n      <td>1930.0</td>\n      <td>1855</td>\n      <td>WN</td>\n      <td>2730</td>\n      <td>N273WN</td>\n      <td>52.0</td>\n      <td>...</td>\n      <td>ONT</td>\n      <td>197</td>\n      <td>3.0</td>\n      <td>17.0</td>\n      <td>N</td>\n      <td>0.0</td>\n      <td>0.0</td>\n      <td>0.0</td>\n      <td>0.0</td>\n      <td>35.0</td>\n    </tr>\n    <tr>\n      <th>...</th>\n      <td>...</td>\n      <td>...</td>\n      <td>...</td>\n      <td>...</td>\n      <td>...</td>\n      <td>...</td>\n      <td>...</td>\n      <td>...</td>\n      <td>...</td>\n      <td>...</td>\n      <td>...</td>\n      <td>...</td>\n      <td>...</td>\n      <td>...</td>\n      <td>...</td>\n      <td>...</td>\n      <td>...</td>\n      <td>...</td>\n      <td>...</td>\n      <td>...</td>\n      <td>...</td>\n    </tr>\n    <tr>\n      <th>177</th>\n      <td>248</td>\n      <td>4</td>\n      <td>1348.0</td>\n      <td>1330</td>\n      <td>1455.0</td>\n      <td>1435</td>\n      <td>WN</td>\n      <td>341</td>\n      <td>N315SW</td>\n      <td>67.0</td>\n      <td>...</td>\n      <td>SAN</td>\n      <td>258</td>\n      <td>2.0</td>\n      <td>14.0</td>\n      <td>N</td>\n      <td>8.0</td>\n      <td>0.0</td>\n      <td>2.0</td>\n      <td>0.0</td>\n      <td>10.0</td>\n    </tr>\n    <tr>\n      <th>605</th>\n      <td>811</td>\n      <td>4</td>\n      <td>2239.0</td>\n      <td>2115</td>\n      <td>2358.0</td>\n      <td>2240</td>\n      <td>WN</td>\n      <td>3491</td>\n      <td>N523SW</td>\n      <td>79.0</td>\n      <td>...</td>\n      <td>OMA</td>\n      <td>423</td>\n      <td>2.0</td>\n      <td>10.0</td>\n      <td>N</td>\n      <td>7.0</td>\n      <td>0.0</td>\n      <td>0.0</td>\n      <td>0.0</td>\n      <td>71.0</td>\n    </tr>\n    <tr>\n      <th>907</th>\n      <td>1233</td>\n      <td>4</td>\n      <td>2132.0</td>\n      <td>2050</td>\n      <td>2222.0</td>\n      <td>2150</td>\n      <td>WN</td>\n      <td>3155</td>\n      <td>N449WN</td>\n      <td>50.0</td>\n      <td>...</td>\n      <td>GEG</td>\n      <td>279</td>\n      <td>4.0</td>\n      <td>7.0</td>\n      <td>N</td>\n      <td>23.0</td>\n      <td>0.0</td>\n      <td>0.0</td>\n      <td>0.0</td>\n      <td>9.0</td>\n    </tr>\n    <tr>\n      <th>966</th>\n      <td>1312</td>\n      <td>4</td>\n      <td>1100.0</td>\n      <td>1050</td>\n      <td>1210.0</td>\n      <td>1205</td>\n      <td>WN</td>\n      <td>2560</td>\n      <td>N789SW</td>\n      <td>70.0</td>\n      <td>...</td>\n      <td>PIT</td>\n      <td>267</td>\n      <td>7.0</td>\n      <td>16.0</td>\n      <td>N</td>\n      <td>NaN</td>\n      <td>NaN</td>\n      <td>NaN</td>\n      <td>NaN</td>\n      <td>NaN</td>\n    </tr>\n    <tr>\n      <th>362</th>\n      <td>499</td>\n      <td>4</td>\n      <td>643.0</td>\n      <td>630</td>\n      <td>726.0</td>\n      <td>720</td>\n      <td>WN</td>\n      <td>1235</td>\n      <td>N600WN</td>\n      <td>103.0</td>\n      <td>...</td>\n      <td>DEN</td>\n      <td>533</td>\n      <td>9.0</td>\n      <td>11.0</td>\n      <td>N</td>\n      <td>NaN</td>\n      <td>NaN</td>\n      <td>NaN</td>\n      <td>NaN</td>\n      <td>NaN</td>\n    </tr>\n  </tbody>\n</table>\n<p>900 rows × 25 columns</p>\n</div>"
     },
     "metadata": {},
     "execution_count": 38
    }
   ],
   "source": [
    "df1.drop(range(0,100))"
   ]
  },
  {
   "cell_type": "code",
   "execution_count": 39,
   "metadata": {},
   "outputs": [],
   "source": [
    "df= df.drop(range(0,100))"
   ]
  },
  {
   "cell_type": "code",
   "execution_count": 40,
   "metadata": {},
   "outputs": [],
   "source": [
    "dfATL= df[df.Origin == \"ATL\"]\n",
    "dfHOU= df[df.Origin == \"HOU\"]"
   ]
  },
  {
   "cell_type": "code",
   "execution_count": 41,
   "metadata": {},
   "outputs": [],
   "source": [
    "newdf = dfATL.append(dfHOU)"
   ]
  },
  {
   "cell_type": "code",
   "execution_count": 42,
   "metadata": {},
   "outputs": [
    {
     "output_type": "execute_result",
     "data": {
      "text/plain": [
       "Series([], Name: Origin, dtype: object)"
      ]
     },
     "metadata": {},
     "execution_count": 42
    }
   ],
   "source": [
    "newdf.Origin"
   ]
  },
  {
   "cell_type": "code",
   "execution_count": 43,
   "metadata": {},
   "outputs": [],
   "source": [
    "#GROUPBY"
   ]
  },
  {
   "cell_type": "code",
   "execution_count": 44,
   "metadata": {},
   "outputs": [
    {
     "output_type": "execute_result",
     "data": {
      "text/plain": [
       "DayOfWeek\n",
       "4    288.0\n",
       "Name: ArrDelay, dtype: float64"
      ]
     },
     "metadata": {},
     "execution_count": 44
    }
   ],
   "source": [
    "df.groupby(by= \"DayOfWeek\")[\"ArrDelay\"].max()"
   ]
  },
  {
   "cell_type": "code",
   "execution_count": 45,
   "metadata": {},
   "outputs": [
    {
     "output_type": "execute_result",
     "data": {
      "text/plain": [
       "DayOfWeek\n",
       "4   -22.0\n",
       "Name: ArrDelay, dtype: float64"
      ]
     },
     "metadata": {},
     "execution_count": 45
    }
   ],
   "source": [
    "df.groupby(by= \"DayOfWeek\")[\"ArrDelay\"].min()"
   ]
  },
  {
   "cell_type": "code",
   "execution_count": 46,
   "metadata": {},
   "outputs": [
    {
     "output_type": "execute_result",
     "data": {
      "text/plain": [
       "DayOfWeek\n",
       "4    33.256667\n",
       "Name: ArrDelay, dtype: float64"
      ]
     },
     "metadata": {},
     "execution_count": 46
    }
   ],
   "source": [
    "df.groupby(by= \"DayOfWeek\")[\"ArrDelay\"].mean()"
   ]
  },
  {
   "cell_type": "code",
   "execution_count": 47,
   "metadata": {},
   "outputs": [
    {
     "output_type": "execute_result",
     "data": {
      "text/plain": [
       "DayOfWeek\n",
       "4    900\n",
       "Name: ArrDelay, dtype: int64"
      ]
     },
     "metadata": {},
     "execution_count": 47
    }
   ],
   "source": [
    "df.groupby(by= \"DayOfWeek\")[\"ArrDelay\"].count()"
   ]
  },
  {
   "cell_type": "code",
   "execution_count": 48,
   "metadata": {},
   "outputs": [
    {
     "output_type": "execute_result",
     "data": {
      "text/plain": [
       "           count       mean        std   min   25%   50%   75%    max\n",
       "DayOfWeek                                                            \n",
       "4          900.0  33.256667  35.605734 -22.0  10.0  24.0  48.0  288.0"
      ],
      "text/html": "<div>\n<style scoped>\n    .dataframe tbody tr th:only-of-type {\n        vertical-align: middle;\n    }\n\n    .dataframe tbody tr th {\n        vertical-align: top;\n    }\n\n    .dataframe thead th {\n        text-align: right;\n    }\n</style>\n<table border=\"1\" class=\"dataframe\">\n  <thead>\n    <tr style=\"text-align: right;\">\n      <th></th>\n      <th>count</th>\n      <th>mean</th>\n      <th>std</th>\n      <th>min</th>\n      <th>25%</th>\n      <th>50%</th>\n      <th>75%</th>\n      <th>max</th>\n    </tr>\n    <tr>\n      <th>DayOfWeek</th>\n      <th></th>\n      <th></th>\n      <th></th>\n      <th></th>\n      <th></th>\n      <th></th>\n      <th></th>\n      <th></th>\n    </tr>\n  </thead>\n  <tbody>\n    <tr>\n      <th>4</th>\n      <td>900.0</td>\n      <td>33.256667</td>\n      <td>35.605734</td>\n      <td>-22.0</td>\n      <td>10.0</td>\n      <td>24.0</td>\n      <td>48.0</td>\n      <td>288.0</td>\n    </tr>\n  </tbody>\n</table>\n</div>"
     },
     "metadata": {},
     "execution_count": 48
    }
   ],
   "source": [
    "df.groupby(by= \"DayOfWeek\")[\"ArrDelay\"].describe()"
   ]
  },
  {
   "cell_type": "code",
   "execution_count": 49,
   "metadata": {},
   "outputs": [
    {
     "output_type": "stream",
     "name": "stderr",
     "text": [
      "<ipython-input-49-d861bdb97a95>:1: FutureWarning: Indexing with multiple keys (implicitly converted to a tuple of keys) will be deprecated, use a list instead.\n  df.groupby(by= \"DayOfWeek\")[\"ArrDelay\",\"DepTime\"].mean()\n"
     ]
    },
    {
     "output_type": "execute_result",
     "data": {
      "text/plain": [
       "            ArrDelay  DepTime\n",
       "DayOfWeek                    \n",
       "4          33.256667  1519.88"
      ],
      "text/html": "<div>\n<style scoped>\n    .dataframe tbody tr th:only-of-type {\n        vertical-align: middle;\n    }\n\n    .dataframe tbody tr th {\n        vertical-align: top;\n    }\n\n    .dataframe thead th {\n        text-align: right;\n    }\n</style>\n<table border=\"1\" class=\"dataframe\">\n  <thead>\n    <tr style=\"text-align: right;\">\n      <th></th>\n      <th>ArrDelay</th>\n      <th>DepTime</th>\n    </tr>\n    <tr>\n      <th>DayOfWeek</th>\n      <th></th>\n      <th></th>\n    </tr>\n  </thead>\n  <tbody>\n    <tr>\n      <th>4</th>\n      <td>33.256667</td>\n      <td>1519.88</td>\n    </tr>\n  </tbody>\n</table>\n</div>"
     },
     "metadata": {},
     "execution_count": 49
    }
   ],
   "source": [
    "df.groupby(by= \"DayOfWeek\")[\"ArrDelay\",\"DepTime\"].mean()"
   ]
  },
  {
   "cell_type": "code",
   "execution_count": 50,
   "metadata": {},
   "outputs": [
    {
     "output_type": "execute_result",
     "data": {
      "text/plain": [
       "DayOfWeek\n",
       "4    310.0\n",
       "Name: ArrDelay, dtype: float64"
      ]
     },
     "metadata": {},
     "execution_count": 50
    }
   ],
   "source": [
    "df.groupby(by= \"DayOfWeek\")[\"ArrDelay\"].max() - df.groupby(by= \"DayOfWeek\")[\"ArrDelay\"].min()"
   ]
  },
  {
   "cell_type": "code",
   "execution_count": 51,
   "metadata": {},
   "outputs": [],
   "source": [
    "dfATLHOU = df[df.Origin.isin([\"ATL\",\"HOU\"])]"
   ]
  },
  {
   "cell_type": "code",
   "execution_count": 52,
   "metadata": {},
   "outputs": [
    {
     "output_type": "execute_result",
     "data": {
      "text/plain": [
       "Series([], Name: ArrDelay, dtype: float64)"
      ]
     },
     "metadata": {},
     "execution_count": 52
    }
   ],
   "source": [
    "dfATLHOU.groupby(by= [\"DayOfWeek\", \"Origin\"])[\"ArrDelay\"].mean()"
   ]
  },
  {
   "cell_type": "code",
   "execution_count": 53,
   "metadata": {},
   "outputs": [],
   "source": [
    "mygropupby= dfATLHOU.groupby(by= [\"DayOfWeek\", \"Origin\"])[\"ArrDelay\"]"
   ]
  },
  {
   "cell_type": "code",
   "execution_count": 54,
   "metadata": {},
   "outputs": [
    {
     "output_type": "error",
     "ename": "AttributeError",
     "evalue": "'Index' object has no attribute 'remove_unused_levels'",
     "traceback": [
      "\u001b[0;31m---------------------------------------------------------------------------\u001b[0m",
      "\u001b[0;31mAttributeError\u001b[0m                            Traceback (most recent call last)",
      "\u001b[0;32m<ipython-input-54-7c65d0b4e00b>\u001b[0m in \u001b[0;36m<module>\u001b[0;34m\u001b[0m\n\u001b[0;32m----> 1\u001b[0;31m \u001b[0mmygropupby\u001b[0m\u001b[0;34m.\u001b[0m\u001b[0mdescribe\u001b[0m\u001b[0;34m(\u001b[0m\u001b[0;34m)\u001b[0m\u001b[0;34m\u001b[0m\u001b[0;34m\u001b[0m\u001b[0m\n\u001b[0m",
      "\u001b[0;32m~/anaconda3/lib/python3.8/site-packages/pandas/core/groupby/generic.py\u001b[0m in \u001b[0;36mdescribe\u001b[0;34m(self, **kwargs)\u001b[0m\n\u001b[1;32m    680\u001b[0m         \u001b[0;32mif\u001b[0m \u001b[0mself\u001b[0m\u001b[0;34m.\u001b[0m\u001b[0maxis\u001b[0m \u001b[0;34m==\u001b[0m \u001b[0;36m1\u001b[0m\u001b[0;34m:\u001b[0m\u001b[0;34m\u001b[0m\u001b[0;34m\u001b[0m\u001b[0m\n\u001b[1;32m    681\u001b[0m             \u001b[0;32mreturn\u001b[0m \u001b[0mresult\u001b[0m\u001b[0;34m.\u001b[0m\u001b[0mT\u001b[0m\u001b[0;34m\u001b[0m\u001b[0;34m\u001b[0m\u001b[0m\n\u001b[0;32m--> 682\u001b[0;31m         \u001b[0;32mreturn\u001b[0m \u001b[0mresult\u001b[0m\u001b[0;34m.\u001b[0m\u001b[0munstack\u001b[0m\u001b[0;34m(\u001b[0m\u001b[0;34m)\u001b[0m\u001b[0;34m\u001b[0m\u001b[0;34m\u001b[0m\u001b[0m\n\u001b[0m\u001b[1;32m    683\u001b[0m \u001b[0;34m\u001b[0m\u001b[0m\n\u001b[1;32m    684\u001b[0m     def value_counts(\n",
      "\u001b[0;32m~/anaconda3/lib/python3.8/site-packages/pandas/core/series.py\u001b[0m in \u001b[0;36munstack\u001b[0;34m(self, level, fill_value)\u001b[0m\n\u001b[1;32m   3888\u001b[0m         \u001b[0;32mfrom\u001b[0m \u001b[0mpandas\u001b[0m\u001b[0;34m.\u001b[0m\u001b[0mcore\u001b[0m\u001b[0;34m.\u001b[0m\u001b[0mreshape\u001b[0m\u001b[0;34m.\u001b[0m\u001b[0mreshape\u001b[0m \u001b[0;32mimport\u001b[0m \u001b[0munstack\u001b[0m\u001b[0;34m\u001b[0m\u001b[0;34m\u001b[0m\u001b[0m\n\u001b[1;32m   3889\u001b[0m \u001b[0;34m\u001b[0m\u001b[0m\n\u001b[0;32m-> 3890\u001b[0;31m         \u001b[0;32mreturn\u001b[0m \u001b[0munstack\u001b[0m\u001b[0;34m(\u001b[0m\u001b[0mself\u001b[0m\u001b[0;34m,\u001b[0m \u001b[0mlevel\u001b[0m\u001b[0;34m,\u001b[0m \u001b[0mfill_value\u001b[0m\u001b[0;34m)\u001b[0m\u001b[0;34m\u001b[0m\u001b[0;34m\u001b[0m\u001b[0m\n\u001b[0m\u001b[1;32m   3891\u001b[0m \u001b[0;34m\u001b[0m\u001b[0m\n\u001b[1;32m   3892\u001b[0m     \u001b[0;31m# ----------------------------------------------------------------------\u001b[0m\u001b[0;34m\u001b[0m\u001b[0;34m\u001b[0m\u001b[0;34m\u001b[0m\u001b[0m\n",
      "\u001b[0;32m~/anaconda3/lib/python3.8/site-packages/pandas/core/reshape/reshape.py\u001b[0m in \u001b[0;36munstack\u001b[0;34m(obj, level, fill_value)\u001b[0m\n\u001b[1;32m    422\u001b[0m         \u001b[0;32mif\u001b[0m \u001b[0mis_extension_array_dtype\u001b[0m\u001b[0;34m(\u001b[0m\u001b[0mobj\u001b[0m\u001b[0;34m.\u001b[0m\u001b[0mdtype\u001b[0m\u001b[0;34m)\u001b[0m\u001b[0;34m:\u001b[0m\u001b[0;34m\u001b[0m\u001b[0;34m\u001b[0m\u001b[0m\n\u001b[1;32m    423\u001b[0m             \u001b[0;32mreturn\u001b[0m \u001b[0m_unstack_extension_series\u001b[0m\u001b[0;34m(\u001b[0m\u001b[0mobj\u001b[0m\u001b[0;34m,\u001b[0m \u001b[0mlevel\u001b[0m\u001b[0;34m,\u001b[0m \u001b[0mfill_value\u001b[0m\u001b[0;34m)\u001b[0m\u001b[0;34m\u001b[0m\u001b[0;34m\u001b[0m\u001b[0m\n\u001b[0;32m--> 424\u001b[0;31m         unstacker = _Unstacker(\n\u001b[0m\u001b[1;32m    425\u001b[0m             \u001b[0mobj\u001b[0m\u001b[0;34m.\u001b[0m\u001b[0mindex\u001b[0m\u001b[0;34m,\u001b[0m \u001b[0mlevel\u001b[0m\u001b[0;34m=\u001b[0m\u001b[0mlevel\u001b[0m\u001b[0;34m,\u001b[0m \u001b[0mconstructor\u001b[0m\u001b[0;34m=\u001b[0m\u001b[0mobj\u001b[0m\u001b[0;34m.\u001b[0m\u001b[0m_constructor_expanddim\u001b[0m\u001b[0;34m,\u001b[0m\u001b[0;34m\u001b[0m\u001b[0;34m\u001b[0m\u001b[0m\n\u001b[1;32m    426\u001b[0m         )\n",
      "\u001b[0;32m~/anaconda3/lib/python3.8/site-packages/pandas/core/reshape/reshape.py\u001b[0m in \u001b[0;36m__init__\u001b[0;34m(self, index, level, constructor)\u001b[0m\n\u001b[1;32m     90\u001b[0m         \u001b[0mself\u001b[0m\u001b[0;34m.\u001b[0m\u001b[0mconstructor\u001b[0m \u001b[0;34m=\u001b[0m \u001b[0mconstructor\u001b[0m\u001b[0;34m\u001b[0m\u001b[0;34m\u001b[0m\u001b[0m\n\u001b[1;32m     91\u001b[0m \u001b[0;34m\u001b[0m\u001b[0m\n\u001b[0;32m---> 92\u001b[0;31m         \u001b[0mself\u001b[0m\u001b[0;34m.\u001b[0m\u001b[0mindex\u001b[0m \u001b[0;34m=\u001b[0m \u001b[0mindex\u001b[0m\u001b[0;34m.\u001b[0m\u001b[0mremove_unused_levels\u001b[0m\u001b[0;34m(\u001b[0m\u001b[0;34m)\u001b[0m\u001b[0;34m\u001b[0m\u001b[0;34m\u001b[0m\u001b[0m\n\u001b[0m\u001b[1;32m     93\u001b[0m \u001b[0;34m\u001b[0m\u001b[0m\n\u001b[1;32m     94\u001b[0m         \u001b[0mself\u001b[0m\u001b[0;34m.\u001b[0m\u001b[0mlevel\u001b[0m \u001b[0;34m=\u001b[0m \u001b[0mself\u001b[0m\u001b[0;34m.\u001b[0m\u001b[0mindex\u001b[0m\u001b[0;34m.\u001b[0m\u001b[0m_get_level_number\u001b[0m\u001b[0;34m(\u001b[0m\u001b[0mlevel\u001b[0m\u001b[0;34m)\u001b[0m\u001b[0;34m\u001b[0m\u001b[0;34m\u001b[0m\u001b[0m\n",
      "\u001b[0;31mAttributeError\u001b[0m: 'Index' object has no attribute 'remove_unused_levels'"
     ]
    }
   ],
   "source": [
    "mygropupby.describe()"
   ]
  },
  {
   "cell_type": "code",
   "execution_count": null,
   "metadata": {},
   "outputs": [],
   "source": [
    "#INFORMACION FALTANTE O MISSING DATA"
   ]
  },
  {
   "cell_type": "code",
   "execution_count": 55,
   "metadata": {},
   "outputs": [],
   "source": [
    "df = pd.read_csv(\"../Tascas/Data/DelayedFlights.csv\", nrows=1e6) #1millon de datos"
   ]
  },
  {
   "cell_type": "code",
   "execution_count": 56,
   "metadata": {},
   "outputs": [],
   "source": [
    "dfduplicate = df.append(df)"
   ]
  },
  {
   "cell_type": "code",
   "execution_count": 57,
   "metadata": {},
   "outputs": [],
   "source": [
    "dfduplicate = dfduplicate.sample(frac=1)"
   ]
  },
  {
   "cell_type": "code",
   "execution_count": 58,
   "metadata": {},
   "outputs": [],
   "source": [
    "dfclean = dfduplicate.drop_duplicates()"
   ]
  },
  {
   "cell_type": "code",
   "execution_count": 59,
   "metadata": {},
   "outputs": [
    {
     "output_type": "execute_result",
     "data": {
      "text/plain": [
       "True"
      ]
     },
     "metadata": {},
     "execution_count": 59
    }
   ],
   "source": [
    "len(dfclean) == len(df)"
   ]
  },
  {
   "cell_type": "code",
   "execution_count": 60,
   "metadata": {},
   "outputs": [
    {
     "output_type": "execute_result",
     "data": {
      "text/plain": [
       "1000000"
      ]
     },
     "metadata": {},
     "execution_count": 60
    }
   ],
   "source": [
    "len(dfclean)"
   ]
  },
  {
   "cell_type": "code",
   "execution_count": 61,
   "metadata": {},
   "outputs": [],
   "source": [
    "#ELIMINACION DE DATOS"
   ]
  },
  {
   "cell_type": "code",
   "execution_count": 62,
   "metadata": {},
   "outputs": [
    {
     "output_type": "execute_result",
     "data": {
      "text/plain": [
       "        Unnamed: 0  Year  Month  DayofMonth  DayOfWeek  DepTime  CRSDepTime  \\\n",
       "540898     1694449  2008      3          26          3   1935.0        1835   \n",
       "631248     2015235  2008      4          12          6   1337.0        1320   \n",
       "283094      903472  2008      2          25          1   1148.0        1141   \n",
       "860782     2912544  2008      5          10          6    749.0         705   \n",
       "503728     1579624  2008      3          30          7   1707.0        1555   \n",
       "163125      527389  2008      1          20          7   2121.0        2100   \n",
       "292372      931320  2008      2           9          6   1931.0        1925   \n",
       "617804     1950802  2008      4          22          2   1115.0        1047   \n",
       "865240     2927879  2008      5          21          3    856.0         850   \n",
       "974129     3259000  2008      6           4          3     28.0        2353   \n",
       "703182     2300088  2008      4          13          7   1419.0        1350   \n",
       "131950      428652  2008      1          15          2   1314.0        1243   \n",
       "445331     1389200  2008      3          27          4   1106.0         940   \n",
       "440881     1371183  2008      3          16          7   1121.0         940   \n",
       "866936     2934914  2008      5           5          1   1758.0        1720   \n",
       "852016     2887357  2008      5           7          3   1211.0        1130   \n",
       "400656     1242987  2008      3          23          7   1508.0        1500   \n",
       "441483     1373458  2008      3          17          1   1220.0        1214   \n",
       "937601     3146593  2008      6          29          7   2100.0        1845   \n",
       "776479     2556349  2008      5          31          6    920.0         845   \n",
       "536863     1683324  2008      3          28          5   2246.0        2215   \n",
       "127883      414128  2008      1          14          1   1621.0        1610   \n",
       "640551     2045965  2008      4           3          4    806.0         800   \n",
       "681596     2215094  2008      4          24          4    853.0         825   \n",
       "191277      623442  2008      2           8          5    814.0         800   \n",
       "154493      503332  2008      1          18          5   1311.0        1305   \n",
       "435427     1347284  2008      3           1          6   1359.0        1353   \n",
       "121751      400603  2008      1           6          7   1818.0        1710   \n",
       "827042     2782077  2008      5          11          7   1257.0        1125   \n",
       "267698      849346  2008      2           2          6   1655.0        1455   \n",
       "256323      818482  2008      2          19          2   1346.0        1056   \n",
       "\n",
       "        ArrTime  CRSArrTime UniqueCarrier  ...  TaxiIn TaxiOut  Cancelled  \\\n",
       "540898   2117.0        2030            AA  ...    11.0    11.0          0   \n",
       "631248   1618.0        1609            UA  ...     3.0    17.0          0   \n",
       "283094   1900.0        1921            DL  ...     7.0    15.0          0   \n",
       "860782   1011.0         945            AA  ...     8.0     6.0          0   \n",
       "503728   1845.0        1730            MQ  ...     8.0    11.0          0   \n",
       "163125   2334.0        2325            AA  ...     5.0    12.0          0   \n",
       "292372   2045.0        2050            EV  ...     5.0    12.0          0   \n",
       "617804   1435.0        1344            OH  ...    27.0    14.0          0   \n",
       "865240   1713.0        1715            AS  ...     4.0    22.0          0   \n",
       "974129    813.0         759            US  ...    11.0    14.0          0   \n",
       "703182   1526.0        1459            AA  ...     7.0    16.0          0   \n",
       "131950   1451.0        1437            NW  ...     5.0    12.0          0   \n",
       "445331   1206.0        1045            OO  ...     9.0    12.0          0   \n",
       "440881   1452.0        1329            OO  ...     5.0    18.0          0   \n",
       "866936   1933.0        1902            B6  ...     5.0    13.0          0   \n",
       "852016   1805.0        1715            AA  ...     5.0    25.0          0   \n",
       "400656   1915.0        1855            WN  ...     8.0     9.0          0   \n",
       "441483   1435.0        1415            OO  ...     4.0    25.0          0   \n",
       "937601    145.0        2342            YV  ...     7.0    11.0          0   \n",
       "776479   1110.0        1107            OH  ...    10.0    16.0          0   \n",
       "536863   2348.0        2305            AA  ...    11.0    22.0          0   \n",
       "127883   1748.0        1805            MQ  ...     5.0    12.0          0   \n",
       "640551    922.0         914            US  ...    10.0    21.0          0   \n",
       "681596   1056.0        1028            NW  ...     8.0    13.0          0   \n",
       "191277   1103.0        1050            WN  ...     4.0    10.0          0   \n",
       "154493   1554.0        1525            AA  ...     6.0     9.0          0   \n",
       "435427   1455.0        1457            OO  ...     8.0    14.0          0   \n",
       "121751   1925.0        1810            MQ  ...    13.0    27.0          0   \n",
       "827042   1622.0        1505            MQ  ...     7.0    15.0          0   \n",
       "267698   1824.0        1706            US  ...     2.0     9.0          0   \n",
       "256323   1510.0        1214            UA  ...     7.0    15.0          0   \n",
       "\n",
       "        CancellationCode  Diverted  CarrierDelay  WeatherDelay NASDelay  \\\n",
       "540898                 N         0          11.0           0.0      0.0   \n",
       "631248                 N         0           NaN           NaN      NaN   \n",
       "283094                 N         0           NaN           NaN      NaN   \n",
       "860782                 N         0          26.0           0.0      0.0   \n",
       "503728                 N         0           0.0           0.0      3.0   \n",
       "163125                 N         0           NaN           NaN      NaN   \n",
       "292372                 N         0           NaN           NaN      NaN   \n",
       "617804                 N         0           0.0           0.0     51.0   \n",
       "865240                 N         0           NaN           NaN      NaN   \n",
       "974129                 N         0           NaN           NaN      NaN   \n",
       "703182                 N         0           0.0           0.0      0.0   \n",
       "131950                 N         0           NaN           NaN      NaN   \n",
       "445331                 N         0           0.0           0.0      0.0   \n",
       "440881                 N         0          83.0           0.0      0.0   \n",
       "866936                 N         0           3.0           0.0      0.0   \n",
       "852016                 N         0           0.0           0.0     21.0   \n",
       "400656                 N         0           8.0           0.0     12.0   \n",
       "441483                 N         0           0.0           0.0      0.0   \n",
       "937601                 N         0         123.0           0.0      0.0   \n",
       "776479                 N         0           NaN           NaN      NaN   \n",
       "536863                 N         0          31.0           0.0     12.0   \n",
       "127883                 N         0           NaN           NaN      NaN   \n",
       "640551                 N         0           NaN           NaN      NaN   \n",
       "681596                 N         0          28.0           0.0      0.0   \n",
       "191277                 N         0           NaN           NaN      NaN   \n",
       "154493                 N         0           0.0           6.0     23.0   \n",
       "435427                 N         0           NaN           NaN      NaN   \n",
       "121751                 N         0           0.0           0.0      7.0   \n",
       "827042                 N         0          77.0           0.0      0.0   \n",
       "267698                 N         0          78.0           0.0      0.0   \n",
       "256323                 N         0           0.0           0.0    176.0   \n",
       "\n",
       "       SecurityDelay  LateAircraftDelay  \n",
       "540898           0.0               36.0  \n",
       "631248           NaN                NaN  \n",
       "283094           NaN                NaN  \n",
       "860782           0.0                0.0  \n",
       "503728           0.0               72.0  \n",
       "163125           NaN                NaN  \n",
       "292372           NaN                NaN  \n",
       "617804           0.0                0.0  \n",
       "865240           NaN                NaN  \n",
       "974129           NaN                NaN  \n",
       "703182           0.0               27.0  \n",
       "131950           NaN                NaN  \n",
       "445331           0.0               81.0  \n",
       "440881           0.0                0.0  \n",
       "866936           0.0               28.0  \n",
       "852016           0.0               29.0  \n",
       "400656           0.0                0.0  \n",
       "441483           0.0               20.0  \n",
       "937601           0.0                0.0  \n",
       "776479           NaN                NaN  \n",
       "536863           0.0                0.0  \n",
       "127883           NaN                NaN  \n",
       "640551           NaN                NaN  \n",
       "681596           0.0                0.0  \n",
       "191277           NaN                NaN  \n",
       "154493           0.0                0.0  \n",
       "435427           NaN                NaN  \n",
       "121751           0.0               68.0  \n",
       "827042           0.0                0.0  \n",
       "267698           0.0                0.0  \n",
       "256323           0.0                0.0  \n",
       "\n",
       "[31 rows x 30 columns]"
      ],
      "text/html": "<div>\n<style scoped>\n    .dataframe tbody tr th:only-of-type {\n        vertical-align: middle;\n    }\n\n    .dataframe tbody tr th {\n        vertical-align: top;\n    }\n\n    .dataframe thead th {\n        text-align: right;\n    }\n</style>\n<table border=\"1\" class=\"dataframe\">\n  <thead>\n    <tr style=\"text-align: right;\">\n      <th></th>\n      <th>Unnamed: 0</th>\n      <th>Year</th>\n      <th>Month</th>\n      <th>DayofMonth</th>\n      <th>DayOfWeek</th>\n      <th>DepTime</th>\n      <th>CRSDepTime</th>\n      <th>ArrTime</th>\n      <th>CRSArrTime</th>\n      <th>UniqueCarrier</th>\n      <th>...</th>\n      <th>TaxiIn</th>\n      <th>TaxiOut</th>\n      <th>Cancelled</th>\n      <th>CancellationCode</th>\n      <th>Diverted</th>\n      <th>CarrierDelay</th>\n      <th>WeatherDelay</th>\n      <th>NASDelay</th>\n      <th>SecurityDelay</th>\n      <th>LateAircraftDelay</th>\n    </tr>\n  </thead>\n  <tbody>\n    <tr>\n      <th>540898</th>\n      <td>1694449</td>\n      <td>2008</td>\n      <td>3</td>\n      <td>26</td>\n      <td>3</td>\n      <td>1935.0</td>\n      <td>1835</td>\n      <td>2117.0</td>\n      <td>2030</td>\n      <td>AA</td>\n      <td>...</td>\n      <td>11.0</td>\n      <td>11.0</td>\n      <td>0</td>\n      <td>N</td>\n      <td>0</td>\n      <td>11.0</td>\n      <td>0.0</td>\n      <td>0.0</td>\n      <td>0.0</td>\n      <td>36.0</td>\n    </tr>\n    <tr>\n      <th>631248</th>\n      <td>2015235</td>\n      <td>2008</td>\n      <td>4</td>\n      <td>12</td>\n      <td>6</td>\n      <td>1337.0</td>\n      <td>1320</td>\n      <td>1618.0</td>\n      <td>1609</td>\n      <td>UA</td>\n      <td>...</td>\n      <td>3.0</td>\n      <td>17.0</td>\n      <td>0</td>\n      <td>N</td>\n      <td>0</td>\n      <td>NaN</td>\n      <td>NaN</td>\n      <td>NaN</td>\n      <td>NaN</td>\n      <td>NaN</td>\n    </tr>\n    <tr>\n      <th>283094</th>\n      <td>903472</td>\n      <td>2008</td>\n      <td>2</td>\n      <td>25</td>\n      <td>1</td>\n      <td>1148.0</td>\n      <td>1141</td>\n      <td>1900.0</td>\n      <td>1921</td>\n      <td>DL</td>\n      <td>...</td>\n      <td>7.0</td>\n      <td>15.0</td>\n      <td>0</td>\n      <td>N</td>\n      <td>0</td>\n      <td>NaN</td>\n      <td>NaN</td>\n      <td>NaN</td>\n      <td>NaN</td>\n      <td>NaN</td>\n    </tr>\n    <tr>\n      <th>860782</th>\n      <td>2912544</td>\n      <td>2008</td>\n      <td>5</td>\n      <td>10</td>\n      <td>6</td>\n      <td>749.0</td>\n      <td>705</td>\n      <td>1011.0</td>\n      <td>945</td>\n      <td>AA</td>\n      <td>...</td>\n      <td>8.0</td>\n      <td>6.0</td>\n      <td>0</td>\n      <td>N</td>\n      <td>0</td>\n      <td>26.0</td>\n      <td>0.0</td>\n      <td>0.0</td>\n      <td>0.0</td>\n      <td>0.0</td>\n    </tr>\n    <tr>\n      <th>503728</th>\n      <td>1579624</td>\n      <td>2008</td>\n      <td>3</td>\n      <td>30</td>\n      <td>7</td>\n      <td>1707.0</td>\n      <td>1555</td>\n      <td>1845.0</td>\n      <td>1730</td>\n      <td>MQ</td>\n      <td>...</td>\n      <td>8.0</td>\n      <td>11.0</td>\n      <td>0</td>\n      <td>N</td>\n      <td>0</td>\n      <td>0.0</td>\n      <td>0.0</td>\n      <td>3.0</td>\n      <td>0.0</td>\n      <td>72.0</td>\n    </tr>\n    <tr>\n      <th>163125</th>\n      <td>527389</td>\n      <td>2008</td>\n      <td>1</td>\n      <td>20</td>\n      <td>7</td>\n      <td>2121.0</td>\n      <td>2100</td>\n      <td>2334.0</td>\n      <td>2325</td>\n      <td>AA</td>\n      <td>...</td>\n      <td>5.0</td>\n      <td>12.0</td>\n      <td>0</td>\n      <td>N</td>\n      <td>0</td>\n      <td>NaN</td>\n      <td>NaN</td>\n      <td>NaN</td>\n      <td>NaN</td>\n      <td>NaN</td>\n    </tr>\n    <tr>\n      <th>292372</th>\n      <td>931320</td>\n      <td>2008</td>\n      <td>2</td>\n      <td>9</td>\n      <td>6</td>\n      <td>1931.0</td>\n      <td>1925</td>\n      <td>2045.0</td>\n      <td>2050</td>\n      <td>EV</td>\n      <td>...</td>\n      <td>5.0</td>\n      <td>12.0</td>\n      <td>0</td>\n      <td>N</td>\n      <td>0</td>\n      <td>NaN</td>\n      <td>NaN</td>\n      <td>NaN</td>\n      <td>NaN</td>\n      <td>NaN</td>\n    </tr>\n    <tr>\n      <th>617804</th>\n      <td>1950802</td>\n      <td>2008</td>\n      <td>4</td>\n      <td>22</td>\n      <td>2</td>\n      <td>1115.0</td>\n      <td>1047</td>\n      <td>1435.0</td>\n      <td>1344</td>\n      <td>OH</td>\n      <td>...</td>\n      <td>27.0</td>\n      <td>14.0</td>\n      <td>0</td>\n      <td>N</td>\n      <td>0</td>\n      <td>0.0</td>\n      <td>0.0</td>\n      <td>51.0</td>\n      <td>0.0</td>\n      <td>0.0</td>\n    </tr>\n    <tr>\n      <th>865240</th>\n      <td>2927879</td>\n      <td>2008</td>\n      <td>5</td>\n      <td>21</td>\n      <td>3</td>\n      <td>856.0</td>\n      <td>850</td>\n      <td>1713.0</td>\n      <td>1715</td>\n      <td>AS</td>\n      <td>...</td>\n      <td>4.0</td>\n      <td>22.0</td>\n      <td>0</td>\n      <td>N</td>\n      <td>0</td>\n      <td>NaN</td>\n      <td>NaN</td>\n      <td>NaN</td>\n      <td>NaN</td>\n      <td>NaN</td>\n    </tr>\n    <tr>\n      <th>974129</th>\n      <td>3259000</td>\n      <td>2008</td>\n      <td>6</td>\n      <td>4</td>\n      <td>3</td>\n      <td>28.0</td>\n      <td>2353</td>\n      <td>813.0</td>\n      <td>759</td>\n      <td>US</td>\n      <td>...</td>\n      <td>11.0</td>\n      <td>14.0</td>\n      <td>0</td>\n      <td>N</td>\n      <td>0</td>\n      <td>NaN</td>\n      <td>NaN</td>\n      <td>NaN</td>\n      <td>NaN</td>\n      <td>NaN</td>\n    </tr>\n    <tr>\n      <th>703182</th>\n      <td>2300088</td>\n      <td>2008</td>\n      <td>4</td>\n      <td>13</td>\n      <td>7</td>\n      <td>1419.0</td>\n      <td>1350</td>\n      <td>1526.0</td>\n      <td>1459</td>\n      <td>AA</td>\n      <td>...</td>\n      <td>7.0</td>\n      <td>16.0</td>\n      <td>0</td>\n      <td>N</td>\n      <td>0</td>\n      <td>0.0</td>\n      <td>0.0</td>\n      <td>0.0</td>\n      <td>0.0</td>\n      <td>27.0</td>\n    </tr>\n    <tr>\n      <th>131950</th>\n      <td>428652</td>\n      <td>2008</td>\n      <td>1</td>\n      <td>15</td>\n      <td>2</td>\n      <td>1314.0</td>\n      <td>1243</td>\n      <td>1451.0</td>\n      <td>1437</td>\n      <td>NW</td>\n      <td>...</td>\n      <td>5.0</td>\n      <td>12.0</td>\n      <td>0</td>\n      <td>N</td>\n      <td>0</td>\n      <td>NaN</td>\n      <td>NaN</td>\n      <td>NaN</td>\n      <td>NaN</td>\n      <td>NaN</td>\n    </tr>\n    <tr>\n      <th>445331</th>\n      <td>1389200</td>\n      <td>2008</td>\n      <td>3</td>\n      <td>27</td>\n      <td>4</td>\n      <td>1106.0</td>\n      <td>940</td>\n      <td>1206.0</td>\n      <td>1045</td>\n      <td>OO</td>\n      <td>...</td>\n      <td>9.0</td>\n      <td>12.0</td>\n      <td>0</td>\n      <td>N</td>\n      <td>0</td>\n      <td>0.0</td>\n      <td>0.0</td>\n      <td>0.0</td>\n      <td>0.0</td>\n      <td>81.0</td>\n    </tr>\n    <tr>\n      <th>440881</th>\n      <td>1371183</td>\n      <td>2008</td>\n      <td>3</td>\n      <td>16</td>\n      <td>7</td>\n      <td>1121.0</td>\n      <td>940</td>\n      <td>1452.0</td>\n      <td>1329</td>\n      <td>OO</td>\n      <td>...</td>\n      <td>5.0</td>\n      <td>18.0</td>\n      <td>0</td>\n      <td>N</td>\n      <td>0</td>\n      <td>83.0</td>\n      <td>0.0</td>\n      <td>0.0</td>\n      <td>0.0</td>\n      <td>0.0</td>\n    </tr>\n    <tr>\n      <th>866936</th>\n      <td>2934914</td>\n      <td>2008</td>\n      <td>5</td>\n      <td>5</td>\n      <td>1</td>\n      <td>1758.0</td>\n      <td>1720</td>\n      <td>1933.0</td>\n      <td>1902</td>\n      <td>B6</td>\n      <td>...</td>\n      <td>5.0</td>\n      <td>13.0</td>\n      <td>0</td>\n      <td>N</td>\n      <td>0</td>\n      <td>3.0</td>\n      <td>0.0</td>\n      <td>0.0</td>\n      <td>0.0</td>\n      <td>28.0</td>\n    </tr>\n    <tr>\n      <th>852016</th>\n      <td>2887357</td>\n      <td>2008</td>\n      <td>5</td>\n      <td>7</td>\n      <td>3</td>\n      <td>1211.0</td>\n      <td>1130</td>\n      <td>1805.0</td>\n      <td>1715</td>\n      <td>AA</td>\n      <td>...</td>\n      <td>5.0</td>\n      <td>25.0</td>\n      <td>0</td>\n      <td>N</td>\n      <td>0</td>\n      <td>0.0</td>\n      <td>0.0</td>\n      <td>21.0</td>\n      <td>0.0</td>\n      <td>29.0</td>\n    </tr>\n    <tr>\n      <th>400656</th>\n      <td>1242987</td>\n      <td>2008</td>\n      <td>3</td>\n      <td>23</td>\n      <td>7</td>\n      <td>1508.0</td>\n      <td>1500</td>\n      <td>1915.0</td>\n      <td>1855</td>\n      <td>WN</td>\n      <td>...</td>\n      <td>8.0</td>\n      <td>9.0</td>\n      <td>0</td>\n      <td>N</td>\n      <td>0</td>\n      <td>8.0</td>\n      <td>0.0</td>\n      <td>12.0</td>\n      <td>0.0</td>\n      <td>0.0</td>\n    </tr>\n    <tr>\n      <th>441483</th>\n      <td>1373458</td>\n      <td>2008</td>\n      <td>3</td>\n      <td>17</td>\n      <td>1</td>\n      <td>1220.0</td>\n      <td>1214</td>\n      <td>1435.0</td>\n      <td>1415</td>\n      <td>OO</td>\n      <td>...</td>\n      <td>4.0</td>\n      <td>25.0</td>\n      <td>0</td>\n      <td>N</td>\n      <td>0</td>\n      <td>0.0</td>\n      <td>0.0</td>\n      <td>0.0</td>\n      <td>0.0</td>\n      <td>20.0</td>\n    </tr>\n    <tr>\n      <th>937601</th>\n      <td>3146593</td>\n      <td>2008</td>\n      <td>6</td>\n      <td>29</td>\n      <td>7</td>\n      <td>2100.0</td>\n      <td>1845</td>\n      <td>145.0</td>\n      <td>2342</td>\n      <td>YV</td>\n      <td>...</td>\n      <td>7.0</td>\n      <td>11.0</td>\n      <td>0</td>\n      <td>N</td>\n      <td>0</td>\n      <td>123.0</td>\n      <td>0.0</td>\n      <td>0.0</td>\n      <td>0.0</td>\n      <td>0.0</td>\n    </tr>\n    <tr>\n      <th>776479</th>\n      <td>2556349</td>\n      <td>2008</td>\n      <td>5</td>\n      <td>31</td>\n      <td>6</td>\n      <td>920.0</td>\n      <td>845</td>\n      <td>1110.0</td>\n      <td>1107</td>\n      <td>OH</td>\n      <td>...</td>\n      <td>10.0</td>\n      <td>16.0</td>\n      <td>0</td>\n      <td>N</td>\n      <td>0</td>\n      <td>NaN</td>\n      <td>NaN</td>\n      <td>NaN</td>\n      <td>NaN</td>\n      <td>NaN</td>\n    </tr>\n    <tr>\n      <th>536863</th>\n      <td>1683324</td>\n      <td>2008</td>\n      <td>3</td>\n      <td>28</td>\n      <td>5</td>\n      <td>2246.0</td>\n      <td>2215</td>\n      <td>2348.0</td>\n      <td>2305</td>\n      <td>AA</td>\n      <td>...</td>\n      <td>11.0</td>\n      <td>22.0</td>\n      <td>0</td>\n      <td>N</td>\n      <td>0</td>\n      <td>31.0</td>\n      <td>0.0</td>\n      <td>12.0</td>\n      <td>0.0</td>\n      <td>0.0</td>\n    </tr>\n    <tr>\n      <th>127883</th>\n      <td>414128</td>\n      <td>2008</td>\n      <td>1</td>\n      <td>14</td>\n      <td>1</td>\n      <td>1621.0</td>\n      <td>1610</td>\n      <td>1748.0</td>\n      <td>1805</td>\n      <td>MQ</td>\n      <td>...</td>\n      <td>5.0</td>\n      <td>12.0</td>\n      <td>0</td>\n      <td>N</td>\n      <td>0</td>\n      <td>NaN</td>\n      <td>NaN</td>\n      <td>NaN</td>\n      <td>NaN</td>\n      <td>NaN</td>\n    </tr>\n    <tr>\n      <th>640551</th>\n      <td>2045965</td>\n      <td>2008</td>\n      <td>4</td>\n      <td>3</td>\n      <td>4</td>\n      <td>806.0</td>\n      <td>800</td>\n      <td>922.0</td>\n      <td>914</td>\n      <td>US</td>\n      <td>...</td>\n      <td>10.0</td>\n      <td>21.0</td>\n      <td>0</td>\n      <td>N</td>\n      <td>0</td>\n      <td>NaN</td>\n      <td>NaN</td>\n      <td>NaN</td>\n      <td>NaN</td>\n      <td>NaN</td>\n    </tr>\n    <tr>\n      <th>681596</th>\n      <td>2215094</td>\n      <td>2008</td>\n      <td>4</td>\n      <td>24</td>\n      <td>4</td>\n      <td>853.0</td>\n      <td>825</td>\n      <td>1056.0</td>\n      <td>1028</td>\n      <td>NW</td>\n      <td>...</td>\n      <td>8.0</td>\n      <td>13.0</td>\n      <td>0</td>\n      <td>N</td>\n      <td>0</td>\n      <td>28.0</td>\n      <td>0.0</td>\n      <td>0.0</td>\n      <td>0.0</td>\n      <td>0.0</td>\n    </tr>\n    <tr>\n      <th>191277</th>\n      <td>623442</td>\n      <td>2008</td>\n      <td>2</td>\n      <td>8</td>\n      <td>5</td>\n      <td>814.0</td>\n      <td>800</td>\n      <td>1103.0</td>\n      <td>1050</td>\n      <td>WN</td>\n      <td>...</td>\n      <td>4.0</td>\n      <td>10.0</td>\n      <td>0</td>\n      <td>N</td>\n      <td>0</td>\n      <td>NaN</td>\n      <td>NaN</td>\n      <td>NaN</td>\n      <td>NaN</td>\n      <td>NaN</td>\n    </tr>\n    <tr>\n      <th>154493</th>\n      <td>503332</td>\n      <td>2008</td>\n      <td>1</td>\n      <td>18</td>\n      <td>5</td>\n      <td>1311.0</td>\n      <td>1305</td>\n      <td>1554.0</td>\n      <td>1525</td>\n      <td>AA</td>\n      <td>...</td>\n      <td>6.0</td>\n      <td>9.0</td>\n      <td>0</td>\n      <td>N</td>\n      <td>0</td>\n      <td>0.0</td>\n      <td>6.0</td>\n      <td>23.0</td>\n      <td>0.0</td>\n      <td>0.0</td>\n    </tr>\n    <tr>\n      <th>435427</th>\n      <td>1347284</td>\n      <td>2008</td>\n      <td>3</td>\n      <td>1</td>\n      <td>6</td>\n      <td>1359.0</td>\n      <td>1353</td>\n      <td>1455.0</td>\n      <td>1457</td>\n      <td>OO</td>\n      <td>...</td>\n      <td>8.0</td>\n      <td>14.0</td>\n      <td>0</td>\n      <td>N</td>\n      <td>0</td>\n      <td>NaN</td>\n      <td>NaN</td>\n      <td>NaN</td>\n      <td>NaN</td>\n      <td>NaN</td>\n    </tr>\n    <tr>\n      <th>121751</th>\n      <td>400603</td>\n      <td>2008</td>\n      <td>1</td>\n      <td>6</td>\n      <td>7</td>\n      <td>1818.0</td>\n      <td>1710</td>\n      <td>1925.0</td>\n      <td>1810</td>\n      <td>MQ</td>\n      <td>...</td>\n      <td>13.0</td>\n      <td>27.0</td>\n      <td>0</td>\n      <td>N</td>\n      <td>0</td>\n      <td>0.0</td>\n      <td>0.0</td>\n      <td>7.0</td>\n      <td>0.0</td>\n      <td>68.0</td>\n    </tr>\n    <tr>\n      <th>827042</th>\n      <td>2782077</td>\n      <td>2008</td>\n      <td>5</td>\n      <td>11</td>\n      <td>7</td>\n      <td>1257.0</td>\n      <td>1125</td>\n      <td>1622.0</td>\n      <td>1505</td>\n      <td>MQ</td>\n      <td>...</td>\n      <td>7.0</td>\n      <td>15.0</td>\n      <td>0</td>\n      <td>N</td>\n      <td>0</td>\n      <td>77.0</td>\n      <td>0.0</td>\n      <td>0.0</td>\n      <td>0.0</td>\n      <td>0.0</td>\n    </tr>\n    <tr>\n      <th>267698</th>\n      <td>849346</td>\n      <td>2008</td>\n      <td>2</td>\n      <td>2</td>\n      <td>6</td>\n      <td>1655.0</td>\n      <td>1455</td>\n      <td>1824.0</td>\n      <td>1706</td>\n      <td>US</td>\n      <td>...</td>\n      <td>2.0</td>\n      <td>9.0</td>\n      <td>0</td>\n      <td>N</td>\n      <td>0</td>\n      <td>78.0</td>\n      <td>0.0</td>\n      <td>0.0</td>\n      <td>0.0</td>\n      <td>0.0</td>\n    </tr>\n    <tr>\n      <th>256323</th>\n      <td>818482</td>\n      <td>2008</td>\n      <td>2</td>\n      <td>19</td>\n      <td>2</td>\n      <td>1346.0</td>\n      <td>1056</td>\n      <td>1510.0</td>\n      <td>1214</td>\n      <td>UA</td>\n      <td>...</td>\n      <td>7.0</td>\n      <td>15.0</td>\n      <td>0</td>\n      <td>N</td>\n      <td>0</td>\n      <td>0.0</td>\n      <td>0.0</td>\n      <td>176.0</td>\n      <td>0.0</td>\n      <td>0.0</td>\n    </tr>\n  </tbody>\n</table>\n<p>31 rows × 30 columns</p>\n</div>"
     },
     "metadata": {},
     "execution_count": 62
    }
   ],
   "source": [
    "dfclean.drop_duplicates(subset = \"DayofMonth\")"
   ]
  },
  {
   "cell_type": "code",
   "execution_count": 63,
   "metadata": {},
   "outputs": [
    {
     "output_type": "execute_result",
     "data": {
      "text/plain": [
       "        Unnamed: 0  Year  Month  DayofMonth  DayOfWeek  DepTime  CRSDepTime  \\\n",
       "3                4  2008      1           3          4   1829.0        1755   \n",
       "5                6  2008      1           3          4   1937.0        1830   \n",
       "7               11  2008      1           3          4   1644.0        1510   \n",
       "9               16  2008      1           3          4   1452.0        1425   \n",
       "11              18  2008      1           3          4   1323.0        1255   \n",
       "...            ...   ...    ...         ...        ...      ...         ...   \n",
       "999994     3352897  2008      6           8          7   2047.0        2020   \n",
       "999995     3352901  2008      6           8          7   1659.0        1642   \n",
       "999996     3352904  2008      6           8          7   1002.0         910   \n",
       "999997     3352908  2008      6           8          7   1525.0        1512   \n",
       "999998     3352910  2008      6           8          7   1908.0        1843   \n",
       "\n",
       "        ArrTime  CRSArrTime UniqueCarrier  ...  TaxiIn TaxiOut  Cancelled  \\\n",
       "3        1959.0        1925            WN  ...     3.0    10.0          0   \n",
       "5        2037.0        1940            WN  ...     3.0     7.0          0   \n",
       "7        1845.0        1725            WN  ...     6.0     8.0          0   \n",
       "9        1640.0        1625            WN  ...     7.0     8.0          0   \n",
       "11       1526.0        1510            WN  ...     4.0     9.0          0   \n",
       "...         ...         ...           ...  ...     ...     ...        ...   \n",
       "999994   2237.0        2220            FL  ...     6.0    18.0          0   \n",
       "999995   1941.0        1859            FL  ...    14.0    15.0          0   \n",
       "999996   1158.0        1056            FL  ...     4.0    25.0          0   \n",
       "999997   1715.0        1659            FL  ...     5.0    19.0          0   \n",
       "999998   2056.0        2032            FL  ...     4.0    19.0          0   \n",
       "\n",
       "        CancellationCode  Diverted  CarrierDelay  WeatherDelay NASDelay  \\\n",
       "3                      N         0           2.0           0.0      0.0   \n",
       "5                      N         0          10.0           0.0      0.0   \n",
       "7                      N         0           8.0           0.0      0.0   \n",
       "9                      N         0           3.0           0.0      0.0   \n",
       "11                     N         0           0.0           0.0      0.0   \n",
       "...                  ...       ...           ...           ...      ...   \n",
       "999994                 N         0           0.0           0.0      0.0   \n",
       "999995                 N         0           0.0           0.0     42.0   \n",
       "999996                 N         0          52.0           0.0     10.0   \n",
       "999997                 N         0           0.0           0.0      3.0   \n",
       "999998                 N         0           0.0           0.0      0.0   \n",
       "\n",
       "       SecurityDelay  LateAircraftDelay  \n",
       "3                0.0               32.0  \n",
       "5                0.0               47.0  \n",
       "7                0.0               72.0  \n",
       "9                0.0               12.0  \n",
       "11               0.0               16.0  \n",
       "...              ...                ...  \n",
       "999994           0.0               17.0  \n",
       "999995           0.0                0.0  \n",
       "999996           0.0                0.0  \n",
       "999997           0.0               13.0  \n",
       "999998           0.0               24.0  \n",
       "\n",
       "[650166 rows x 30 columns]"
      ],
      "text/html": "<div>\n<style scoped>\n    .dataframe tbody tr th:only-of-type {\n        vertical-align: middle;\n    }\n\n    .dataframe tbody tr th {\n        vertical-align: top;\n    }\n\n    .dataframe thead th {\n        text-align: right;\n    }\n</style>\n<table border=\"1\" class=\"dataframe\">\n  <thead>\n    <tr style=\"text-align: right;\">\n      <th></th>\n      <th>Unnamed: 0</th>\n      <th>Year</th>\n      <th>Month</th>\n      <th>DayofMonth</th>\n      <th>DayOfWeek</th>\n      <th>DepTime</th>\n      <th>CRSDepTime</th>\n      <th>ArrTime</th>\n      <th>CRSArrTime</th>\n      <th>UniqueCarrier</th>\n      <th>...</th>\n      <th>TaxiIn</th>\n      <th>TaxiOut</th>\n      <th>Cancelled</th>\n      <th>CancellationCode</th>\n      <th>Diverted</th>\n      <th>CarrierDelay</th>\n      <th>WeatherDelay</th>\n      <th>NASDelay</th>\n      <th>SecurityDelay</th>\n      <th>LateAircraftDelay</th>\n    </tr>\n  </thead>\n  <tbody>\n    <tr>\n      <th>3</th>\n      <td>4</td>\n      <td>2008</td>\n      <td>1</td>\n      <td>3</td>\n      <td>4</td>\n      <td>1829.0</td>\n      <td>1755</td>\n      <td>1959.0</td>\n      <td>1925</td>\n      <td>WN</td>\n      <td>...</td>\n      <td>3.0</td>\n      <td>10.0</td>\n      <td>0</td>\n      <td>N</td>\n      <td>0</td>\n      <td>2.0</td>\n      <td>0.0</td>\n      <td>0.0</td>\n      <td>0.0</td>\n      <td>32.0</td>\n    </tr>\n    <tr>\n      <th>5</th>\n      <td>6</td>\n      <td>2008</td>\n      <td>1</td>\n      <td>3</td>\n      <td>4</td>\n      <td>1937.0</td>\n      <td>1830</td>\n      <td>2037.0</td>\n      <td>1940</td>\n      <td>WN</td>\n      <td>...</td>\n      <td>3.0</td>\n      <td>7.0</td>\n      <td>0</td>\n      <td>N</td>\n      <td>0</td>\n      <td>10.0</td>\n      <td>0.0</td>\n      <td>0.0</td>\n      <td>0.0</td>\n      <td>47.0</td>\n    </tr>\n    <tr>\n      <th>7</th>\n      <td>11</td>\n      <td>2008</td>\n      <td>1</td>\n      <td>3</td>\n      <td>4</td>\n      <td>1644.0</td>\n      <td>1510</td>\n      <td>1845.0</td>\n      <td>1725</td>\n      <td>WN</td>\n      <td>...</td>\n      <td>6.0</td>\n      <td>8.0</td>\n      <td>0</td>\n      <td>N</td>\n      <td>0</td>\n      <td>8.0</td>\n      <td>0.0</td>\n      <td>0.0</td>\n      <td>0.0</td>\n      <td>72.0</td>\n    </tr>\n    <tr>\n      <th>9</th>\n      <td>16</td>\n      <td>2008</td>\n      <td>1</td>\n      <td>3</td>\n      <td>4</td>\n      <td>1452.0</td>\n      <td>1425</td>\n      <td>1640.0</td>\n      <td>1625</td>\n      <td>WN</td>\n      <td>...</td>\n      <td>7.0</td>\n      <td>8.0</td>\n      <td>0</td>\n      <td>N</td>\n      <td>0</td>\n      <td>3.0</td>\n      <td>0.0</td>\n      <td>0.0</td>\n      <td>0.0</td>\n      <td>12.0</td>\n    </tr>\n    <tr>\n      <th>11</th>\n      <td>18</td>\n      <td>2008</td>\n      <td>1</td>\n      <td>3</td>\n      <td>4</td>\n      <td>1323.0</td>\n      <td>1255</td>\n      <td>1526.0</td>\n      <td>1510</td>\n      <td>WN</td>\n      <td>...</td>\n      <td>4.0</td>\n      <td>9.0</td>\n      <td>0</td>\n      <td>N</td>\n      <td>0</td>\n      <td>0.0</td>\n      <td>0.0</td>\n      <td>0.0</td>\n      <td>0.0</td>\n      <td>16.0</td>\n    </tr>\n    <tr>\n      <th>...</th>\n      <td>...</td>\n      <td>...</td>\n      <td>...</td>\n      <td>...</td>\n      <td>...</td>\n      <td>...</td>\n      <td>...</td>\n      <td>...</td>\n      <td>...</td>\n      <td>...</td>\n      <td>...</td>\n      <td>...</td>\n      <td>...</td>\n      <td>...</td>\n      <td>...</td>\n      <td>...</td>\n      <td>...</td>\n      <td>...</td>\n      <td>...</td>\n      <td>...</td>\n      <td>...</td>\n    </tr>\n    <tr>\n      <th>999994</th>\n      <td>3352897</td>\n      <td>2008</td>\n      <td>6</td>\n      <td>8</td>\n      <td>7</td>\n      <td>2047.0</td>\n      <td>2020</td>\n      <td>2237.0</td>\n      <td>2220</td>\n      <td>FL</td>\n      <td>...</td>\n      <td>6.0</td>\n      <td>18.0</td>\n      <td>0</td>\n      <td>N</td>\n      <td>0</td>\n      <td>0.0</td>\n      <td>0.0</td>\n      <td>0.0</td>\n      <td>0.0</td>\n      <td>17.0</td>\n    </tr>\n    <tr>\n      <th>999995</th>\n      <td>3352901</td>\n      <td>2008</td>\n      <td>6</td>\n      <td>8</td>\n      <td>7</td>\n      <td>1659.0</td>\n      <td>1642</td>\n      <td>1941.0</td>\n      <td>1859</td>\n      <td>FL</td>\n      <td>...</td>\n      <td>14.0</td>\n      <td>15.0</td>\n      <td>0</td>\n      <td>N</td>\n      <td>0</td>\n      <td>0.0</td>\n      <td>0.0</td>\n      <td>42.0</td>\n      <td>0.0</td>\n      <td>0.0</td>\n    </tr>\n    <tr>\n      <th>999996</th>\n      <td>3352904</td>\n      <td>2008</td>\n      <td>6</td>\n      <td>8</td>\n      <td>7</td>\n      <td>1002.0</td>\n      <td>910</td>\n      <td>1158.0</td>\n      <td>1056</td>\n      <td>FL</td>\n      <td>...</td>\n      <td>4.0</td>\n      <td>25.0</td>\n      <td>0</td>\n      <td>N</td>\n      <td>0</td>\n      <td>52.0</td>\n      <td>0.0</td>\n      <td>10.0</td>\n      <td>0.0</td>\n      <td>0.0</td>\n    </tr>\n    <tr>\n      <th>999997</th>\n      <td>3352908</td>\n      <td>2008</td>\n      <td>6</td>\n      <td>8</td>\n      <td>7</td>\n      <td>1525.0</td>\n      <td>1512</td>\n      <td>1715.0</td>\n      <td>1659</td>\n      <td>FL</td>\n      <td>...</td>\n      <td>5.0</td>\n      <td>19.0</td>\n      <td>0</td>\n      <td>N</td>\n      <td>0</td>\n      <td>0.0</td>\n      <td>0.0</td>\n      <td>3.0</td>\n      <td>0.0</td>\n      <td>13.0</td>\n    </tr>\n    <tr>\n      <th>999998</th>\n      <td>3352910</td>\n      <td>2008</td>\n      <td>6</td>\n      <td>8</td>\n      <td>7</td>\n      <td>1908.0</td>\n      <td>1843</td>\n      <td>2056.0</td>\n      <td>2032</td>\n      <td>FL</td>\n      <td>...</td>\n      <td>4.0</td>\n      <td>19.0</td>\n      <td>0</td>\n      <td>N</td>\n      <td>0</td>\n      <td>0.0</td>\n      <td>0.0</td>\n      <td>0.0</td>\n      <td>0.0</td>\n      <td>24.0</td>\n    </tr>\n  </tbody>\n</table>\n<p>650166 rows × 30 columns</p>\n</div>"
     },
     "metadata": {},
     "execution_count": 63
    }
   ],
   "source": [
    "df.dropna()"
   ]
  },
  {
   "cell_type": "code",
   "execution_count": 64,
   "metadata": {},
   "outputs": [
    {
     "output_type": "execute_result",
     "data": {
      "text/plain": [
       "        Unnamed: 0  Year  Month  DayofMonth  DayOfWeek  DepTime  CRSDepTime  \\\n",
       "0                0  2008      1           3          4   2003.0        1955   \n",
       "1                1  2008      1           3          4    754.0         735   \n",
       "2                2  2008      1           3          4    628.0         620   \n",
       "3                4  2008      1           3          4   1829.0        1755   \n",
       "4                5  2008      1           3          4   1940.0        1915   \n",
       "...            ...   ...    ...         ...        ...      ...         ...   \n",
       "999995     3352901  2008      6           8          7   1659.0        1642   \n",
       "999996     3352904  2008      6           8          7   1002.0         910   \n",
       "999997     3352908  2008      6           8          7   1525.0        1512   \n",
       "999998     3352910  2008      6           8          7   1908.0        1843   \n",
       "999999     3352911  2008      6           8          7   2130.0        2115   \n",
       "\n",
       "        ArrTime  CRSArrTime UniqueCarrier  ...  TaxiIn TaxiOut  Cancelled  \\\n",
       "0        2211.0        2225            WN  ...     4.0     8.0          0   \n",
       "1        1002.0        1000            WN  ...     5.0    10.0          0   \n",
       "2         804.0         750            WN  ...     3.0    17.0          0   \n",
       "3        1959.0        1925            WN  ...     3.0    10.0          0   \n",
       "4        2121.0        2110            WN  ...     4.0    10.0          0   \n",
       "...         ...         ...           ...  ...     ...     ...        ...   \n",
       "999995   1941.0        1859            FL  ...    14.0    15.0          0   \n",
       "999996   1158.0        1056            FL  ...     4.0    25.0          0   \n",
       "999997   1715.0        1659            FL  ...     5.0    19.0          0   \n",
       "999998   2056.0        2032            FL  ...     4.0    19.0          0   \n",
       "999999   2312.0        2301            FL  ...     6.0    13.0          0   \n",
       "\n",
       "        CancellationCode  Diverted  CarrierDelay  WeatherDelay NASDelay  \\\n",
       "0                      N         0           NaN           NaN      NaN   \n",
       "1                      N         0           NaN           NaN      NaN   \n",
       "2                      N         0           NaN           NaN      NaN   \n",
       "3                      N         0           2.0           0.0      0.0   \n",
       "4                      N         0           NaN           NaN      NaN   \n",
       "...                  ...       ...           ...           ...      ...   \n",
       "999995                 N         0           0.0           0.0     42.0   \n",
       "999996                 N         0          52.0           0.0     10.0   \n",
       "999997                 N         0           0.0           0.0      3.0   \n",
       "999998                 N         0           0.0           0.0      0.0   \n",
       "999999                 N         0           NaN           NaN      NaN   \n",
       "\n",
       "       SecurityDelay  LateAircraftDelay  \n",
       "0                NaN                NaN  \n",
       "1                NaN                NaN  \n",
       "2                NaN                NaN  \n",
       "3                0.0               32.0  \n",
       "4                NaN                NaN  \n",
       "...              ...                ...  \n",
       "999995           0.0                0.0  \n",
       "999996           0.0                0.0  \n",
       "999997           0.0               13.0  \n",
       "999998           0.0               24.0  \n",
       "999999           NaN                NaN  \n",
       "\n",
       "[996398 rows x 30 columns]"
      ],
      "text/html": "<div>\n<style scoped>\n    .dataframe tbody tr th:only-of-type {\n        vertical-align: middle;\n    }\n\n    .dataframe tbody tr th {\n        vertical-align: top;\n    }\n\n    .dataframe thead th {\n        text-align: right;\n    }\n</style>\n<table border=\"1\" class=\"dataframe\">\n  <thead>\n    <tr style=\"text-align: right;\">\n      <th></th>\n      <th>Unnamed: 0</th>\n      <th>Year</th>\n      <th>Month</th>\n      <th>DayofMonth</th>\n      <th>DayOfWeek</th>\n      <th>DepTime</th>\n      <th>CRSDepTime</th>\n      <th>ArrTime</th>\n      <th>CRSArrTime</th>\n      <th>UniqueCarrier</th>\n      <th>...</th>\n      <th>TaxiIn</th>\n      <th>TaxiOut</th>\n      <th>Cancelled</th>\n      <th>CancellationCode</th>\n      <th>Diverted</th>\n      <th>CarrierDelay</th>\n      <th>WeatherDelay</th>\n      <th>NASDelay</th>\n      <th>SecurityDelay</th>\n      <th>LateAircraftDelay</th>\n    </tr>\n  </thead>\n  <tbody>\n    <tr>\n      <th>0</th>\n      <td>0</td>\n      <td>2008</td>\n      <td>1</td>\n      <td>3</td>\n      <td>4</td>\n      <td>2003.0</td>\n      <td>1955</td>\n      <td>2211.0</td>\n      <td>2225</td>\n      <td>WN</td>\n      <td>...</td>\n      <td>4.0</td>\n      <td>8.0</td>\n      <td>0</td>\n      <td>N</td>\n      <td>0</td>\n      <td>NaN</td>\n      <td>NaN</td>\n      <td>NaN</td>\n      <td>NaN</td>\n      <td>NaN</td>\n    </tr>\n    <tr>\n      <th>1</th>\n      <td>1</td>\n      <td>2008</td>\n      <td>1</td>\n      <td>3</td>\n      <td>4</td>\n      <td>754.0</td>\n      <td>735</td>\n      <td>1002.0</td>\n      <td>1000</td>\n      <td>WN</td>\n      <td>...</td>\n      <td>5.0</td>\n      <td>10.0</td>\n      <td>0</td>\n      <td>N</td>\n      <td>0</td>\n      <td>NaN</td>\n      <td>NaN</td>\n      <td>NaN</td>\n      <td>NaN</td>\n      <td>NaN</td>\n    </tr>\n    <tr>\n      <th>2</th>\n      <td>2</td>\n      <td>2008</td>\n      <td>1</td>\n      <td>3</td>\n      <td>4</td>\n      <td>628.0</td>\n      <td>620</td>\n      <td>804.0</td>\n      <td>750</td>\n      <td>WN</td>\n      <td>...</td>\n      <td>3.0</td>\n      <td>17.0</td>\n      <td>0</td>\n      <td>N</td>\n      <td>0</td>\n      <td>NaN</td>\n      <td>NaN</td>\n      <td>NaN</td>\n      <td>NaN</td>\n      <td>NaN</td>\n    </tr>\n    <tr>\n      <th>3</th>\n      <td>4</td>\n      <td>2008</td>\n      <td>1</td>\n      <td>3</td>\n      <td>4</td>\n      <td>1829.0</td>\n      <td>1755</td>\n      <td>1959.0</td>\n      <td>1925</td>\n      <td>WN</td>\n      <td>...</td>\n      <td>3.0</td>\n      <td>10.0</td>\n      <td>0</td>\n      <td>N</td>\n      <td>0</td>\n      <td>2.0</td>\n      <td>0.0</td>\n      <td>0.0</td>\n      <td>0.0</td>\n      <td>32.0</td>\n    </tr>\n    <tr>\n      <th>4</th>\n      <td>5</td>\n      <td>2008</td>\n      <td>1</td>\n      <td>3</td>\n      <td>4</td>\n      <td>1940.0</td>\n      <td>1915</td>\n      <td>2121.0</td>\n      <td>2110</td>\n      <td>WN</td>\n      <td>...</td>\n      <td>4.0</td>\n      <td>10.0</td>\n      <td>0</td>\n      <td>N</td>\n      <td>0</td>\n      <td>NaN</td>\n      <td>NaN</td>\n      <td>NaN</td>\n      <td>NaN</td>\n      <td>NaN</td>\n    </tr>\n    <tr>\n      <th>...</th>\n      <td>...</td>\n      <td>...</td>\n      <td>...</td>\n      <td>...</td>\n      <td>...</td>\n      <td>...</td>\n      <td>...</td>\n      <td>...</td>\n      <td>...</td>\n      <td>...</td>\n      <td>...</td>\n      <td>...</td>\n      <td>...</td>\n      <td>...</td>\n      <td>...</td>\n      <td>...</td>\n      <td>...</td>\n      <td>...</td>\n      <td>...</td>\n      <td>...</td>\n      <td>...</td>\n    </tr>\n    <tr>\n      <th>999995</th>\n      <td>3352901</td>\n      <td>2008</td>\n      <td>6</td>\n      <td>8</td>\n      <td>7</td>\n      <td>1659.0</td>\n      <td>1642</td>\n      <td>1941.0</td>\n      <td>1859</td>\n      <td>FL</td>\n      <td>...</td>\n      <td>14.0</td>\n      <td>15.0</td>\n      <td>0</td>\n      <td>N</td>\n      <td>0</td>\n      <td>0.0</td>\n      <td>0.0</td>\n      <td>42.0</td>\n      <td>0.0</td>\n      <td>0.0</td>\n    </tr>\n    <tr>\n      <th>999996</th>\n      <td>3352904</td>\n      <td>2008</td>\n      <td>6</td>\n      <td>8</td>\n      <td>7</td>\n      <td>1002.0</td>\n      <td>910</td>\n      <td>1158.0</td>\n      <td>1056</td>\n      <td>FL</td>\n      <td>...</td>\n      <td>4.0</td>\n      <td>25.0</td>\n      <td>0</td>\n      <td>N</td>\n      <td>0</td>\n      <td>52.0</td>\n      <td>0.0</td>\n      <td>10.0</td>\n      <td>0.0</td>\n      <td>0.0</td>\n    </tr>\n    <tr>\n      <th>999997</th>\n      <td>3352908</td>\n      <td>2008</td>\n      <td>6</td>\n      <td>8</td>\n      <td>7</td>\n      <td>1525.0</td>\n      <td>1512</td>\n      <td>1715.0</td>\n      <td>1659</td>\n      <td>FL</td>\n      <td>...</td>\n      <td>5.0</td>\n      <td>19.0</td>\n      <td>0</td>\n      <td>N</td>\n      <td>0</td>\n      <td>0.0</td>\n      <td>0.0</td>\n      <td>3.0</td>\n      <td>0.0</td>\n      <td>13.0</td>\n    </tr>\n    <tr>\n      <th>999998</th>\n      <td>3352910</td>\n      <td>2008</td>\n      <td>6</td>\n      <td>8</td>\n      <td>7</td>\n      <td>1908.0</td>\n      <td>1843</td>\n      <td>2056.0</td>\n      <td>2032</td>\n      <td>FL</td>\n      <td>...</td>\n      <td>4.0</td>\n      <td>19.0</td>\n      <td>0</td>\n      <td>N</td>\n      <td>0</td>\n      <td>0.0</td>\n      <td>0.0</td>\n      <td>0.0</td>\n      <td>0.0</td>\n      <td>24.0</td>\n    </tr>\n    <tr>\n      <th>999999</th>\n      <td>3352911</td>\n      <td>2008</td>\n      <td>6</td>\n      <td>8</td>\n      <td>7</td>\n      <td>2130.0</td>\n      <td>2115</td>\n      <td>2312.0</td>\n      <td>2301</td>\n      <td>FL</td>\n      <td>...</td>\n      <td>6.0</td>\n      <td>13.0</td>\n      <td>0</td>\n      <td>N</td>\n      <td>0</td>\n      <td>NaN</td>\n      <td>NaN</td>\n      <td>NaN</td>\n      <td>NaN</td>\n      <td>NaN</td>\n    </tr>\n  </tbody>\n</table>\n<p>996398 rows × 30 columns</p>\n</div>"
     },
     "metadata": {},
     "execution_count": 64
    }
   ],
   "source": [
    "df.dropna(thresh=25)"
   ]
  },
  {
   "cell_type": "code",
   "execution_count": 65,
   "metadata": {},
   "outputs": [
    {
     "output_type": "execute_result",
     "data": {
      "text/plain": [
       "        Unnamed: 0  Year  Month  DayofMonth  DayOfWeek  DepTime  CRSDepTime  \\\n",
       "3                4  2008      1           3          4   1829.0        1755   \n",
       "5                6  2008      1           3          4   1937.0        1830   \n",
       "7               11  2008      1           3          4   1644.0        1510   \n",
       "9               16  2008      1           3          4   1452.0        1425   \n",
       "11              18  2008      1           3          4   1323.0        1255   \n",
       "...            ...   ...    ...         ...        ...      ...         ...   \n",
       "999994     3352897  2008      6           8          7   2047.0        2020   \n",
       "999995     3352901  2008      6           8          7   1659.0        1642   \n",
       "999996     3352904  2008      6           8          7   1002.0         910   \n",
       "999997     3352908  2008      6           8          7   1525.0        1512   \n",
       "999998     3352910  2008      6           8          7   1908.0        1843   \n",
       "\n",
       "        ArrTime  CRSArrTime UniqueCarrier  ...  TaxiIn TaxiOut  Cancelled  \\\n",
       "3        1959.0        1925            WN  ...     3.0    10.0          0   \n",
       "5        2037.0        1940            WN  ...     3.0     7.0          0   \n",
       "7        1845.0        1725            WN  ...     6.0     8.0          0   \n",
       "9        1640.0        1625            WN  ...     7.0     8.0          0   \n",
       "11       1526.0        1510            WN  ...     4.0     9.0          0   \n",
       "...         ...         ...           ...  ...     ...     ...        ...   \n",
       "999994   2237.0        2220            FL  ...     6.0    18.0          0   \n",
       "999995   1941.0        1859            FL  ...    14.0    15.0          0   \n",
       "999996   1158.0        1056            FL  ...     4.0    25.0          0   \n",
       "999997   1715.0        1659            FL  ...     5.0    19.0          0   \n",
       "999998   2056.0        2032            FL  ...     4.0    19.0          0   \n",
       "\n",
       "        CancellationCode  Diverted  CarrierDelay  WeatherDelay NASDelay  \\\n",
       "3                      N         0           2.0           0.0      0.0   \n",
       "5                      N         0          10.0           0.0      0.0   \n",
       "7                      N         0           8.0           0.0      0.0   \n",
       "9                      N         0           3.0           0.0      0.0   \n",
       "11                     N         0           0.0           0.0      0.0   \n",
       "...                  ...       ...           ...           ...      ...   \n",
       "999994                 N         0           0.0           0.0      0.0   \n",
       "999995                 N         0           0.0           0.0     42.0   \n",
       "999996                 N         0          52.0           0.0     10.0   \n",
       "999997                 N         0           0.0           0.0      3.0   \n",
       "999998                 N         0           0.0           0.0      0.0   \n",
       "\n",
       "       SecurityDelay  LateAircraftDelay  \n",
       "3                0.0               32.0  \n",
       "5                0.0               47.0  \n",
       "7                0.0               72.0  \n",
       "9                0.0               12.0  \n",
       "11               0.0               16.0  \n",
       "...              ...                ...  \n",
       "999994           0.0               17.0  \n",
       "999995           0.0                0.0  \n",
       "999996           0.0                0.0  \n",
       "999997           0.0               13.0  \n",
       "999998           0.0               24.0  \n",
       "\n",
       "[650168 rows x 30 columns]"
      ],
      "text/html": "<div>\n<style scoped>\n    .dataframe tbody tr th:only-of-type {\n        vertical-align: middle;\n    }\n\n    .dataframe tbody tr th {\n        vertical-align: top;\n    }\n\n    .dataframe thead th {\n        text-align: right;\n    }\n</style>\n<table border=\"1\" class=\"dataframe\">\n  <thead>\n    <tr style=\"text-align: right;\">\n      <th></th>\n      <th>Unnamed: 0</th>\n      <th>Year</th>\n      <th>Month</th>\n      <th>DayofMonth</th>\n      <th>DayOfWeek</th>\n      <th>DepTime</th>\n      <th>CRSDepTime</th>\n      <th>ArrTime</th>\n      <th>CRSArrTime</th>\n      <th>UniqueCarrier</th>\n      <th>...</th>\n      <th>TaxiIn</th>\n      <th>TaxiOut</th>\n      <th>Cancelled</th>\n      <th>CancellationCode</th>\n      <th>Diverted</th>\n      <th>CarrierDelay</th>\n      <th>WeatherDelay</th>\n      <th>NASDelay</th>\n      <th>SecurityDelay</th>\n      <th>LateAircraftDelay</th>\n    </tr>\n  </thead>\n  <tbody>\n    <tr>\n      <th>3</th>\n      <td>4</td>\n      <td>2008</td>\n      <td>1</td>\n      <td>3</td>\n      <td>4</td>\n      <td>1829.0</td>\n      <td>1755</td>\n      <td>1959.0</td>\n      <td>1925</td>\n      <td>WN</td>\n      <td>...</td>\n      <td>3.0</td>\n      <td>10.0</td>\n      <td>0</td>\n      <td>N</td>\n      <td>0</td>\n      <td>2.0</td>\n      <td>0.0</td>\n      <td>0.0</td>\n      <td>0.0</td>\n      <td>32.0</td>\n    </tr>\n    <tr>\n      <th>5</th>\n      <td>6</td>\n      <td>2008</td>\n      <td>1</td>\n      <td>3</td>\n      <td>4</td>\n      <td>1937.0</td>\n      <td>1830</td>\n      <td>2037.0</td>\n      <td>1940</td>\n      <td>WN</td>\n      <td>...</td>\n      <td>3.0</td>\n      <td>7.0</td>\n      <td>0</td>\n      <td>N</td>\n      <td>0</td>\n      <td>10.0</td>\n      <td>0.0</td>\n      <td>0.0</td>\n      <td>0.0</td>\n      <td>47.0</td>\n    </tr>\n    <tr>\n      <th>7</th>\n      <td>11</td>\n      <td>2008</td>\n      <td>1</td>\n      <td>3</td>\n      <td>4</td>\n      <td>1644.0</td>\n      <td>1510</td>\n      <td>1845.0</td>\n      <td>1725</td>\n      <td>WN</td>\n      <td>...</td>\n      <td>6.0</td>\n      <td>8.0</td>\n      <td>0</td>\n      <td>N</td>\n      <td>0</td>\n      <td>8.0</td>\n      <td>0.0</td>\n      <td>0.0</td>\n      <td>0.0</td>\n      <td>72.0</td>\n    </tr>\n    <tr>\n      <th>9</th>\n      <td>16</td>\n      <td>2008</td>\n      <td>1</td>\n      <td>3</td>\n      <td>4</td>\n      <td>1452.0</td>\n      <td>1425</td>\n      <td>1640.0</td>\n      <td>1625</td>\n      <td>WN</td>\n      <td>...</td>\n      <td>7.0</td>\n      <td>8.0</td>\n      <td>0</td>\n      <td>N</td>\n      <td>0</td>\n      <td>3.0</td>\n      <td>0.0</td>\n      <td>0.0</td>\n      <td>0.0</td>\n      <td>12.0</td>\n    </tr>\n    <tr>\n      <th>11</th>\n      <td>18</td>\n      <td>2008</td>\n      <td>1</td>\n      <td>3</td>\n      <td>4</td>\n      <td>1323.0</td>\n      <td>1255</td>\n      <td>1526.0</td>\n      <td>1510</td>\n      <td>WN</td>\n      <td>...</td>\n      <td>4.0</td>\n      <td>9.0</td>\n      <td>0</td>\n      <td>N</td>\n      <td>0</td>\n      <td>0.0</td>\n      <td>0.0</td>\n      <td>0.0</td>\n      <td>0.0</td>\n      <td>16.0</td>\n    </tr>\n    <tr>\n      <th>...</th>\n      <td>...</td>\n      <td>...</td>\n      <td>...</td>\n      <td>...</td>\n      <td>...</td>\n      <td>...</td>\n      <td>...</td>\n      <td>...</td>\n      <td>...</td>\n      <td>...</td>\n      <td>...</td>\n      <td>...</td>\n      <td>...</td>\n      <td>...</td>\n      <td>...</td>\n      <td>...</td>\n      <td>...</td>\n      <td>...</td>\n      <td>...</td>\n      <td>...</td>\n      <td>...</td>\n    </tr>\n    <tr>\n      <th>999994</th>\n      <td>3352897</td>\n      <td>2008</td>\n      <td>6</td>\n      <td>8</td>\n      <td>7</td>\n      <td>2047.0</td>\n      <td>2020</td>\n      <td>2237.0</td>\n      <td>2220</td>\n      <td>FL</td>\n      <td>...</td>\n      <td>6.0</td>\n      <td>18.0</td>\n      <td>0</td>\n      <td>N</td>\n      <td>0</td>\n      <td>0.0</td>\n      <td>0.0</td>\n      <td>0.0</td>\n      <td>0.0</td>\n      <td>17.0</td>\n    </tr>\n    <tr>\n      <th>999995</th>\n      <td>3352901</td>\n      <td>2008</td>\n      <td>6</td>\n      <td>8</td>\n      <td>7</td>\n      <td>1659.0</td>\n      <td>1642</td>\n      <td>1941.0</td>\n      <td>1859</td>\n      <td>FL</td>\n      <td>...</td>\n      <td>14.0</td>\n      <td>15.0</td>\n      <td>0</td>\n      <td>N</td>\n      <td>0</td>\n      <td>0.0</td>\n      <td>0.0</td>\n      <td>42.0</td>\n      <td>0.0</td>\n      <td>0.0</td>\n    </tr>\n    <tr>\n      <th>999996</th>\n      <td>3352904</td>\n      <td>2008</td>\n      <td>6</td>\n      <td>8</td>\n      <td>7</td>\n      <td>1002.0</td>\n      <td>910</td>\n      <td>1158.0</td>\n      <td>1056</td>\n      <td>FL</td>\n      <td>...</td>\n      <td>4.0</td>\n      <td>25.0</td>\n      <td>0</td>\n      <td>N</td>\n      <td>0</td>\n      <td>52.0</td>\n      <td>0.0</td>\n      <td>10.0</td>\n      <td>0.0</td>\n      <td>0.0</td>\n    </tr>\n    <tr>\n      <th>999997</th>\n      <td>3352908</td>\n      <td>2008</td>\n      <td>6</td>\n      <td>8</td>\n      <td>7</td>\n      <td>1525.0</td>\n      <td>1512</td>\n      <td>1715.0</td>\n      <td>1659</td>\n      <td>FL</td>\n      <td>...</td>\n      <td>5.0</td>\n      <td>19.0</td>\n      <td>0</td>\n      <td>N</td>\n      <td>0</td>\n      <td>0.0</td>\n      <td>0.0</td>\n      <td>3.0</td>\n      <td>0.0</td>\n      <td>13.0</td>\n    </tr>\n    <tr>\n      <th>999998</th>\n      <td>3352910</td>\n      <td>2008</td>\n      <td>6</td>\n      <td>8</td>\n      <td>7</td>\n      <td>1908.0</td>\n      <td>1843</td>\n      <td>2056.0</td>\n      <td>2032</td>\n      <td>FL</td>\n      <td>...</td>\n      <td>4.0</td>\n      <td>19.0</td>\n      <td>0</td>\n      <td>N</td>\n      <td>0</td>\n      <td>0.0</td>\n      <td>0.0</td>\n      <td>0.0</td>\n      <td>0.0</td>\n      <td>24.0</td>\n    </tr>\n  </tbody>\n</table>\n<p>650168 rows × 30 columns</p>\n</div>"
     },
     "metadata": {},
     "execution_count": 65
    }
   ],
   "source": [
    "df.dropna(thresh=len(df.columns)-2)"
   ]
  },
  {
   "cell_type": "code",
   "execution_count": 66,
   "metadata": {},
   "outputs": [
    {
     "output_type": "execute_result",
     "data": {
      "text/plain": [
       "        Unnamed: 0  Year  Month  DayofMonth  DayOfWeek  DepTime  CRSDepTime  \\\n",
       "0                0  2008      1           3          4   2003.0        1955   \n",
       "1                1  2008      1           3          4    754.0         735   \n",
       "2                2  2008      1           3          4    628.0         620   \n",
       "3                4  2008      1           3          4   1829.0        1755   \n",
       "4                5  2008      1           3          4   1940.0        1915   \n",
       "...            ...   ...    ...         ...        ...      ...         ...   \n",
       "999995     3352901  2008      6           8          7   1659.0        1642   \n",
       "999996     3352904  2008      6           8          7   1002.0         910   \n",
       "999997     3352908  2008      6           8          7   1525.0        1512   \n",
       "999998     3352910  2008      6           8          7   1908.0        1843   \n",
       "999999     3352911  2008      6           8          7   2130.0        2115   \n",
       "\n",
       "        ArrTime  CRSArrTime UniqueCarrier  ...  TaxiIn TaxiOut  Cancelled  \\\n",
       "0        2211.0        2225            WN  ...     4.0     8.0          0   \n",
       "1        1002.0        1000            WN  ...     5.0    10.0          0   \n",
       "2         804.0         750            WN  ...     3.0    17.0          0   \n",
       "3        1959.0        1925            WN  ...     3.0    10.0          0   \n",
       "4        2121.0        2110            WN  ...     4.0    10.0          0   \n",
       "...         ...         ...           ...  ...     ...     ...        ...   \n",
       "999995   1941.0        1859            FL  ...    14.0    15.0          0   \n",
       "999996   1158.0        1056            FL  ...     4.0    25.0          0   \n",
       "999997   1715.0        1659            FL  ...     5.0    19.0          0   \n",
       "999998   2056.0        2032            FL  ...     4.0    19.0          0   \n",
       "999999   2312.0        2301            FL  ...     6.0    13.0          0   \n",
       "\n",
       "        CancellationCode  Diverted  CarrierDelay  WeatherDelay NASDelay  \\\n",
       "0                      N         0           NaN           NaN      NaN   \n",
       "1                      N         0           NaN           NaN      NaN   \n",
       "2                      N         0           NaN           NaN      NaN   \n",
       "3                      N         0           2.0           0.0      0.0   \n",
       "4                      N         0           NaN           NaN      NaN   \n",
       "...                  ...       ...           ...           ...      ...   \n",
       "999995                 N         0           0.0           0.0     42.0   \n",
       "999996                 N         0          52.0           0.0     10.0   \n",
       "999997                 N         0           0.0           0.0      3.0   \n",
       "999998                 N         0           0.0           0.0      0.0   \n",
       "999999                 N         0           NaN           NaN      NaN   \n",
       "\n",
       "       SecurityDelay  LateAircraftDelay  \n",
       "0                NaN                NaN  \n",
       "1                NaN                NaN  \n",
       "2                NaN                NaN  \n",
       "3                0.0               32.0  \n",
       "4                NaN                NaN  \n",
       "...              ...                ...  \n",
       "999995           0.0                0.0  \n",
       "999996           0.0                0.0  \n",
       "999997           0.0               13.0  \n",
       "999998           0.0               24.0  \n",
       "999999           NaN                NaN  \n",
       "\n",
       "[1000000 rows x 30 columns]"
      ],
      "text/html": "<div>\n<style scoped>\n    .dataframe tbody tr th:only-of-type {\n        vertical-align: middle;\n    }\n\n    .dataframe tbody tr th {\n        vertical-align: top;\n    }\n\n    .dataframe thead th {\n        text-align: right;\n    }\n</style>\n<table border=\"1\" class=\"dataframe\">\n  <thead>\n    <tr style=\"text-align: right;\">\n      <th></th>\n      <th>Unnamed: 0</th>\n      <th>Year</th>\n      <th>Month</th>\n      <th>DayofMonth</th>\n      <th>DayOfWeek</th>\n      <th>DepTime</th>\n      <th>CRSDepTime</th>\n      <th>ArrTime</th>\n      <th>CRSArrTime</th>\n      <th>UniqueCarrier</th>\n      <th>...</th>\n      <th>TaxiIn</th>\n      <th>TaxiOut</th>\n      <th>Cancelled</th>\n      <th>CancellationCode</th>\n      <th>Diverted</th>\n      <th>CarrierDelay</th>\n      <th>WeatherDelay</th>\n      <th>NASDelay</th>\n      <th>SecurityDelay</th>\n      <th>LateAircraftDelay</th>\n    </tr>\n  </thead>\n  <tbody>\n    <tr>\n      <th>0</th>\n      <td>0</td>\n      <td>2008</td>\n      <td>1</td>\n      <td>3</td>\n      <td>4</td>\n      <td>2003.0</td>\n      <td>1955</td>\n      <td>2211.0</td>\n      <td>2225</td>\n      <td>WN</td>\n      <td>...</td>\n      <td>4.0</td>\n      <td>8.0</td>\n      <td>0</td>\n      <td>N</td>\n      <td>0</td>\n      <td>NaN</td>\n      <td>NaN</td>\n      <td>NaN</td>\n      <td>NaN</td>\n      <td>NaN</td>\n    </tr>\n    <tr>\n      <th>1</th>\n      <td>1</td>\n      <td>2008</td>\n      <td>1</td>\n      <td>3</td>\n      <td>4</td>\n      <td>754.0</td>\n      <td>735</td>\n      <td>1002.0</td>\n      <td>1000</td>\n      <td>WN</td>\n      <td>...</td>\n      <td>5.0</td>\n      <td>10.0</td>\n      <td>0</td>\n      <td>N</td>\n      <td>0</td>\n      <td>NaN</td>\n      <td>NaN</td>\n      <td>NaN</td>\n      <td>NaN</td>\n      <td>NaN</td>\n    </tr>\n    <tr>\n      <th>2</th>\n      <td>2</td>\n      <td>2008</td>\n      <td>1</td>\n      <td>3</td>\n      <td>4</td>\n      <td>628.0</td>\n      <td>620</td>\n      <td>804.0</td>\n      <td>750</td>\n      <td>WN</td>\n      <td>...</td>\n      <td>3.0</td>\n      <td>17.0</td>\n      <td>0</td>\n      <td>N</td>\n      <td>0</td>\n      <td>NaN</td>\n      <td>NaN</td>\n      <td>NaN</td>\n      <td>NaN</td>\n      <td>NaN</td>\n    </tr>\n    <tr>\n      <th>3</th>\n      <td>4</td>\n      <td>2008</td>\n      <td>1</td>\n      <td>3</td>\n      <td>4</td>\n      <td>1829.0</td>\n      <td>1755</td>\n      <td>1959.0</td>\n      <td>1925</td>\n      <td>WN</td>\n      <td>...</td>\n      <td>3.0</td>\n      <td>10.0</td>\n      <td>0</td>\n      <td>N</td>\n      <td>0</td>\n      <td>2.0</td>\n      <td>0.0</td>\n      <td>0.0</td>\n      <td>0.0</td>\n      <td>32.0</td>\n    </tr>\n    <tr>\n      <th>4</th>\n      <td>5</td>\n      <td>2008</td>\n      <td>1</td>\n      <td>3</td>\n      <td>4</td>\n      <td>1940.0</td>\n      <td>1915</td>\n      <td>2121.0</td>\n      <td>2110</td>\n      <td>WN</td>\n      <td>...</td>\n      <td>4.0</td>\n      <td>10.0</td>\n      <td>0</td>\n      <td>N</td>\n      <td>0</td>\n      <td>NaN</td>\n      <td>NaN</td>\n      <td>NaN</td>\n      <td>NaN</td>\n      <td>NaN</td>\n    </tr>\n    <tr>\n      <th>...</th>\n      <td>...</td>\n      <td>...</td>\n      <td>...</td>\n      <td>...</td>\n      <td>...</td>\n      <td>...</td>\n      <td>...</td>\n      <td>...</td>\n      <td>...</td>\n      <td>...</td>\n      <td>...</td>\n      <td>...</td>\n      <td>...</td>\n      <td>...</td>\n      <td>...</td>\n      <td>...</td>\n      <td>...</td>\n      <td>...</td>\n      <td>...</td>\n      <td>...</td>\n      <td>...</td>\n    </tr>\n    <tr>\n      <th>999995</th>\n      <td>3352901</td>\n      <td>2008</td>\n      <td>6</td>\n      <td>8</td>\n      <td>7</td>\n      <td>1659.0</td>\n      <td>1642</td>\n      <td>1941.0</td>\n      <td>1859</td>\n      <td>FL</td>\n      <td>...</td>\n      <td>14.0</td>\n      <td>15.0</td>\n      <td>0</td>\n      <td>N</td>\n      <td>0</td>\n      <td>0.0</td>\n      <td>0.0</td>\n      <td>42.0</td>\n      <td>0.0</td>\n      <td>0.0</td>\n    </tr>\n    <tr>\n      <th>999996</th>\n      <td>3352904</td>\n      <td>2008</td>\n      <td>6</td>\n      <td>8</td>\n      <td>7</td>\n      <td>1002.0</td>\n      <td>910</td>\n      <td>1158.0</td>\n      <td>1056</td>\n      <td>FL</td>\n      <td>...</td>\n      <td>4.0</td>\n      <td>25.0</td>\n      <td>0</td>\n      <td>N</td>\n      <td>0</td>\n      <td>52.0</td>\n      <td>0.0</td>\n      <td>10.0</td>\n      <td>0.0</td>\n      <td>0.0</td>\n    </tr>\n    <tr>\n      <th>999997</th>\n      <td>3352908</td>\n      <td>2008</td>\n      <td>6</td>\n      <td>8</td>\n      <td>7</td>\n      <td>1525.0</td>\n      <td>1512</td>\n      <td>1715.0</td>\n      <td>1659</td>\n      <td>FL</td>\n      <td>...</td>\n      <td>5.0</td>\n      <td>19.0</td>\n      <td>0</td>\n      <td>N</td>\n      <td>0</td>\n      <td>0.0</td>\n      <td>0.0</td>\n      <td>3.0</td>\n      <td>0.0</td>\n      <td>13.0</td>\n    </tr>\n    <tr>\n      <th>999998</th>\n      <td>3352910</td>\n      <td>2008</td>\n      <td>6</td>\n      <td>8</td>\n      <td>7</td>\n      <td>1908.0</td>\n      <td>1843</td>\n      <td>2056.0</td>\n      <td>2032</td>\n      <td>FL</td>\n      <td>...</td>\n      <td>4.0</td>\n      <td>19.0</td>\n      <td>0</td>\n      <td>N</td>\n      <td>0</td>\n      <td>0.0</td>\n      <td>0.0</td>\n      <td>0.0</td>\n      <td>0.0</td>\n      <td>24.0</td>\n    </tr>\n    <tr>\n      <th>999999</th>\n      <td>3352911</td>\n      <td>2008</td>\n      <td>6</td>\n      <td>8</td>\n      <td>7</td>\n      <td>2130.0</td>\n      <td>2115</td>\n      <td>2312.0</td>\n      <td>2301</td>\n      <td>FL</td>\n      <td>...</td>\n      <td>6.0</td>\n      <td>13.0</td>\n      <td>0</td>\n      <td>N</td>\n      <td>0</td>\n      <td>NaN</td>\n      <td>NaN</td>\n      <td>NaN</td>\n      <td>NaN</td>\n      <td>NaN</td>\n    </tr>\n  </tbody>\n</table>\n<p>1000000 rows × 30 columns</p>\n</div>"
     },
     "metadata": {},
     "execution_count": 66
    }
   ],
   "source": [
    "df.dropna(subset = [\"DepTime\"])"
   ]
  },
  {
   "cell_type": "code",
   "execution_count": 67,
   "metadata": {},
   "outputs": [],
   "source": [
    "#NUMPY"
   ]
  },
  {
   "cell_type": "code",
   "execution_count": 68,
   "metadata": {},
   "outputs": [],
   "source": [
    "valoraciones = np.array([[8,7,8,5],[2,6,8,1],[8,8,9,5]])"
   ]
  },
  {
   "cell_type": "code",
   "execution_count": 69,
   "metadata": {},
   "outputs": [
    {
     "output_type": "execute_result",
     "data": {
      "text/plain": [
       "array([[8, 7, 8, 5],\n",
       "       [2, 6, 8, 1],\n",
       "       [8, 8, 9, 5]])"
      ]
     },
     "metadata": {},
     "execution_count": 69
    }
   ],
   "source": [
    "valoraciones"
   ]
  },
  {
   "cell_type": "code",
   "execution_count": 70,
   "metadata": {},
   "outputs": [
    {
     "output_type": "execute_result",
     "data": {
      "text/plain": [
       "7"
      ]
     },
     "metadata": {},
     "execution_count": 70
    }
   ],
   "source": [
    "valoraciones[0][1]"
   ]
  },
  {
   "cell_type": "code",
   "execution_count": 71,
   "metadata": {},
   "outputs": [
    {
     "output_type": "execute_result",
     "data": {
      "text/plain": [
       "7"
      ]
     },
     "metadata": {},
     "execution_count": 71
    }
   ],
   "source": [
    "valoraciones[0,1]"
   ]
  },
  {
   "cell_type": "code",
   "execution_count": 72,
   "metadata": {},
   "outputs": [],
   "source": [
    "valoraciones2 = np.array([[[8,7,8,5],[2,6,8,1],[8,8,9,5]],[[2,6,4,9],[2,6,8,1],[8,8,9,5]]])"
   ]
  },
  {
   "cell_type": "code",
   "execution_count": 73,
   "metadata": {},
   "outputs": [
    {
     "output_type": "execute_result",
     "data": {
      "text/plain": [
       "array([[[8, 7, 8, 5],\n",
       "        [2, 6, 8, 1],\n",
       "        [8, 8, 9, 5]],\n",
       "\n",
       "       [[2, 6, 4, 9],\n",
       "        [2, 6, 8, 1],\n",
       "        [8, 8, 9, 5]]])"
      ]
     },
     "metadata": {},
     "execution_count": 73
    }
   ],
   "source": [
    "valoraciones2\n"
   ]
  },
  {
   "cell_type": "code",
   "execution_count": 74,
   "metadata": {},
   "outputs": [
    {
     "output_type": "execute_result",
     "data": {
      "text/plain": [
       "8"
      ]
     },
     "metadata": {},
     "execution_count": 74
    }
   ],
   "source": [
    "valoraciones2[0,1,2]"
   ]
  },
  {
   "cell_type": "code",
   "execution_count": 75,
   "metadata": {},
   "outputs": [
    {
     "output_type": "execute_result",
     "data": {
      "text/plain": [
       "array([[[0., 0., 0., 0.],\n",
       "        [0., 0., 0., 0.]],\n",
       "\n",
       "       [[0., 0., 0., 0.],\n",
       "        [0., 0., 0., 0.]],\n",
       "\n",
       "       [[0., 0., 0., 0.],\n",
       "        [0., 0., 0., 0.]]])"
      ]
     },
     "metadata": {},
     "execution_count": 75
    }
   ],
   "source": [
    "np.zeros((3,2,4))"
   ]
  },
  {
   "cell_type": "code",
   "execution_count": 76,
   "metadata": {},
   "outputs": [
    {
     "output_type": "error",
     "ename": "ValueError",
     "evalue": "operands could not be broadcast together with shapes (2,3,4) (3,2) ",
     "traceback": [
      "\u001b[0;31m---------------------------------------------------------------------------\u001b[0m",
      "\u001b[0;31mValueError\u001b[0m                                Traceback (most recent call last)",
      "\u001b[0;32m<ipython-input-76-c9792736f450>\u001b[0m in \u001b[0;36m<module>\u001b[0;34m\u001b[0m\n\u001b[0;32m----> 1\u001b[0;31m \u001b[0mvaloraciones2\u001b[0m \u001b[0;34m+\u001b[0m \u001b[0mnp\u001b[0m\u001b[0;34m.\u001b[0m\u001b[0mones\u001b[0m\u001b[0;34m(\u001b[0m\u001b[0;34m(\u001b[0m\u001b[0;36m3\u001b[0m\u001b[0;34m,\u001b[0m\u001b[0;36m2\u001b[0m\u001b[0;34m)\u001b[0m\u001b[0;34m)\u001b[0m\u001b[0;34m\u001b[0m\u001b[0;34m\u001b[0m\u001b[0m\n\u001b[0m",
      "\u001b[0;31mValueError\u001b[0m: operands could not be broadcast together with shapes (2,3,4) (3,2) "
     ]
    }
   ],
   "source": [
    "valoraciones2 + np.ones((3,2))"
   ]
  },
  {
   "cell_type": "code",
   "execution_count": 77,
   "metadata": {},
   "outputs": [
    {
     "output_type": "execute_result",
     "data": {
      "text/plain": [
       "5.958333333333333"
      ]
     },
     "metadata": {},
     "execution_count": 77
    }
   ],
   "source": [
    "np.mean(valoraciones2)"
   ]
  },
  {
   "cell_type": "code",
   "execution_count": 78,
   "metadata": {},
   "outputs": [
    {
     "output_type": "execute_result",
     "data": {
      "text/plain": [
       "array([[5. , 6.5, 6. , 7. ],\n",
       "       [2. , 6. , 8. , 1. ],\n",
       "       [8. , 8. , 9. , 5. ]])"
      ]
     },
     "metadata": {},
     "execution_count": 78
    }
   ],
   "source": [
    "np.mean(valoraciones2, axis = 0)"
   ]
  },
  {
   "cell_type": "code",
   "execution_count": 79,
   "metadata": {},
   "outputs": [
    {
     "output_type": "execute_result",
     "data": {
      "text/plain": [
       "array([[6.        , 7.        , 8.33333333, 3.66666667],\n",
       "       [4.        , 6.66666667, 7.        , 5.        ]])"
      ]
     },
     "metadata": {},
     "execution_count": 79
    }
   ],
   "source": [
    "np.mean(valoraciones2, axis = 1)"
   ]
  },
  {
   "cell_type": "code",
   "execution_count": 80,
   "metadata": {},
   "outputs": [
    {
     "output_type": "execute_result",
     "data": {
      "text/plain": [
       "array([[7.  , 4.25, 7.5 ],\n",
       "       [5.25, 4.25, 7.5 ]])"
      ]
     },
     "metadata": {},
     "execution_count": 80
    }
   ],
   "source": [
    "np.mean(valoraciones2, axis = 2)"
   ]
  },
  {
   "cell_type": "code",
   "execution_count": 81,
   "metadata": {},
   "outputs": [
    {
     "output_type": "execute_result",
     "data": {
      "text/plain": [
       "array([[[ 1,  2],\n",
       "        [ 3,  4]],\n",
       "\n",
       "       [[ 5,  6],\n",
       "        [ 7,  8]],\n",
       "\n",
       "       [[ 9, 10],\n",
       "        [11, 12]]])"
      ]
     },
     "metadata": {},
     "execution_count": 81
    }
   ],
   "source": [
    "np.reshape([1,2,3,4,5,6,7,8,9,10,11,12],(3,2,2))"
   ]
  },
  {
   "cell_type": "code",
   "execution_count": 82,
   "metadata": {},
   "outputs": [
    {
     "output_type": "error",
     "ename": "KeyError",
     "evalue": "'Columna1'",
     "traceback": [
      "\u001b[0;31m---------------------------------------------------------------------------\u001b[0m",
      "\u001b[0;31mKeyError\u001b[0m                                  Traceback (most recent call last)",
      "\u001b[0;32m~/anaconda3/lib/python3.8/site-packages/pandas/core/indexes/base.py\u001b[0m in \u001b[0;36mget_loc\u001b[0;34m(self, key, method, tolerance)\u001b[0m\n\u001b[1;32m   2894\u001b[0m             \u001b[0;32mtry\u001b[0m\u001b[0;34m:\u001b[0m\u001b[0;34m\u001b[0m\u001b[0;34m\u001b[0m\u001b[0m\n\u001b[0;32m-> 2895\u001b[0;31m                 \u001b[0;32mreturn\u001b[0m \u001b[0mself\u001b[0m\u001b[0;34m.\u001b[0m\u001b[0m_engine\u001b[0m\u001b[0;34m.\u001b[0m\u001b[0mget_loc\u001b[0m\u001b[0;34m(\u001b[0m\u001b[0mcasted_key\u001b[0m\u001b[0;34m)\u001b[0m\u001b[0;34m\u001b[0m\u001b[0;34m\u001b[0m\u001b[0m\n\u001b[0m\u001b[1;32m   2896\u001b[0m             \u001b[0;32mexcept\u001b[0m \u001b[0mKeyError\u001b[0m \u001b[0;32mas\u001b[0m \u001b[0merr\u001b[0m\u001b[0;34m:\u001b[0m\u001b[0;34m\u001b[0m\u001b[0;34m\u001b[0m\u001b[0m\n",
      "\u001b[0;32mpandas/_libs/index.pyx\u001b[0m in \u001b[0;36mpandas._libs.index.IndexEngine.get_loc\u001b[0;34m()\u001b[0m\n",
      "\u001b[0;32mpandas/_libs/index.pyx\u001b[0m in \u001b[0;36mpandas._libs.index.IndexEngine.get_loc\u001b[0;34m()\u001b[0m\n",
      "\u001b[0;32mpandas/_libs/hashtable_class_helper.pxi\u001b[0m in \u001b[0;36mpandas._libs.hashtable.PyObjectHashTable.get_item\u001b[0;34m()\u001b[0m\n",
      "\u001b[0;32mpandas/_libs/hashtable_class_helper.pxi\u001b[0m in \u001b[0;36mpandas._libs.hashtable.PyObjectHashTable.get_item\u001b[0;34m()\u001b[0m\n",
      "\u001b[0;31mKeyError\u001b[0m: 'Columna1'",
      "\nThe above exception was the direct cause of the following exception:\n",
      "\u001b[0;31mKeyError\u001b[0m                                  Traceback (most recent call last)",
      "\u001b[0;32m<ipython-input-82-093eca3efc32>\u001b[0m in \u001b[0;36m<module>\u001b[0;34m\u001b[0m\n\u001b[0;32m----> 1\u001b[0;31m \u001b[0mnp\u001b[0m\u001b[0;34m.\u001b[0m\u001b[0mmedian\u001b[0m\u001b[0;34m(\u001b[0m\u001b[0mdf\u001b[0m\u001b[0;34m[\u001b[0m\u001b[0;34m\"Columna1\"\u001b[0m\u001b[0;34m]\u001b[0m\u001b[0;34m)\u001b[0m\u001b[0;34m\u001b[0m\u001b[0;34m\u001b[0m\u001b[0m\n\u001b[0m",
      "\u001b[0;32m~/anaconda3/lib/python3.8/site-packages/pandas/core/frame.py\u001b[0m in \u001b[0;36m__getitem__\u001b[0;34m(self, key)\u001b[0m\n\u001b[1;32m   2900\u001b[0m             \u001b[0;32mif\u001b[0m \u001b[0mself\u001b[0m\u001b[0;34m.\u001b[0m\u001b[0mcolumns\u001b[0m\u001b[0;34m.\u001b[0m\u001b[0mnlevels\u001b[0m \u001b[0;34m>\u001b[0m \u001b[0;36m1\u001b[0m\u001b[0;34m:\u001b[0m\u001b[0;34m\u001b[0m\u001b[0;34m\u001b[0m\u001b[0m\n\u001b[1;32m   2901\u001b[0m                 \u001b[0;32mreturn\u001b[0m \u001b[0mself\u001b[0m\u001b[0;34m.\u001b[0m\u001b[0m_getitem_multilevel\u001b[0m\u001b[0;34m(\u001b[0m\u001b[0mkey\u001b[0m\u001b[0;34m)\u001b[0m\u001b[0;34m\u001b[0m\u001b[0;34m\u001b[0m\u001b[0m\n\u001b[0;32m-> 2902\u001b[0;31m             \u001b[0mindexer\u001b[0m \u001b[0;34m=\u001b[0m \u001b[0mself\u001b[0m\u001b[0;34m.\u001b[0m\u001b[0mcolumns\u001b[0m\u001b[0;34m.\u001b[0m\u001b[0mget_loc\u001b[0m\u001b[0;34m(\u001b[0m\u001b[0mkey\u001b[0m\u001b[0;34m)\u001b[0m\u001b[0;34m\u001b[0m\u001b[0;34m\u001b[0m\u001b[0m\n\u001b[0m\u001b[1;32m   2903\u001b[0m             \u001b[0;32mif\u001b[0m \u001b[0mis_integer\u001b[0m\u001b[0;34m(\u001b[0m\u001b[0mindexer\u001b[0m\u001b[0;34m)\u001b[0m\u001b[0;34m:\u001b[0m\u001b[0;34m\u001b[0m\u001b[0;34m\u001b[0m\u001b[0m\n\u001b[1;32m   2904\u001b[0m                 \u001b[0mindexer\u001b[0m \u001b[0;34m=\u001b[0m \u001b[0;34m[\u001b[0m\u001b[0mindexer\u001b[0m\u001b[0;34m]\u001b[0m\u001b[0;34m\u001b[0m\u001b[0;34m\u001b[0m\u001b[0m\n",
      "\u001b[0;32m~/anaconda3/lib/python3.8/site-packages/pandas/core/indexes/base.py\u001b[0m in \u001b[0;36mget_loc\u001b[0;34m(self, key, method, tolerance)\u001b[0m\n\u001b[1;32m   2895\u001b[0m                 \u001b[0;32mreturn\u001b[0m \u001b[0mself\u001b[0m\u001b[0;34m.\u001b[0m\u001b[0m_engine\u001b[0m\u001b[0;34m.\u001b[0m\u001b[0mget_loc\u001b[0m\u001b[0;34m(\u001b[0m\u001b[0mcasted_key\u001b[0m\u001b[0;34m)\u001b[0m\u001b[0;34m\u001b[0m\u001b[0;34m\u001b[0m\u001b[0m\n\u001b[1;32m   2896\u001b[0m             \u001b[0;32mexcept\u001b[0m \u001b[0mKeyError\u001b[0m \u001b[0;32mas\u001b[0m \u001b[0merr\u001b[0m\u001b[0;34m:\u001b[0m\u001b[0;34m\u001b[0m\u001b[0;34m\u001b[0m\u001b[0m\n\u001b[0;32m-> 2897\u001b[0;31m                 \u001b[0;32mraise\u001b[0m \u001b[0mKeyError\u001b[0m\u001b[0;34m(\u001b[0m\u001b[0mkey\u001b[0m\u001b[0;34m)\u001b[0m \u001b[0;32mfrom\u001b[0m \u001b[0merr\u001b[0m\u001b[0;34m\u001b[0m\u001b[0;34m\u001b[0m\u001b[0m\n\u001b[0m\u001b[1;32m   2898\u001b[0m \u001b[0;34m\u001b[0m\u001b[0m\n\u001b[1;32m   2899\u001b[0m         \u001b[0;32mif\u001b[0m \u001b[0mtolerance\u001b[0m \u001b[0;32mis\u001b[0m \u001b[0;32mnot\u001b[0m \u001b[0;32mNone\u001b[0m\u001b[0;34m:\u001b[0m\u001b[0;34m\u001b[0m\u001b[0;34m\u001b[0m\u001b[0m\n",
      "\u001b[0;31mKeyError\u001b[0m: 'Columna1'"
     ]
    }
   ],
   "source": [
    "np.median(df[\"Columna1\"])"
   ]
  },
  {
   "cell_type": "code",
   "execution_count": 83,
   "metadata": {},
   "outputs": [
    {
     "output_type": "execute_result",
     "data": {
      "text/plain": [
       "array([[0.51141226, 0.10937927],\n",
       "       [0.49036668, 0.4411173 ]])"
      ]
     },
     "metadata": {},
     "execution_count": 83
    }
   ],
   "source": [
    "np.random.rand(2,2)"
   ]
  },
  {
   "cell_type": "code",
   "execution_count": null,
   "metadata": {},
   "outputs": [],
   "source": []
  }
 ]
}